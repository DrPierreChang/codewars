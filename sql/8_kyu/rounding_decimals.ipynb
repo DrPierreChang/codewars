{
 "cells": [
  {
   "cell_type": "markdown",
   "id": "97f5db33-b324-4fb4-83d1-e8f6be5a8951",
   "metadata": {},
   "source": [
    "```\n",
    "Given the following table 'decimals':\n",
    "\n",
    "** decimals table schema **\n",
    "\n",
    "id\n",
    "number1\n",
    "number2\n",
    "Return a table with two columns (number1, number2), the value in number1 should be rounded down and the value in number2 should be rounded up.\n",
    "```"
   ]
  },
  {
   "cell_type": "markdown",
   "id": "b864734e-dd46-43bb-ab74-157f701a90c9",
   "metadata": {},
   "source": [
    "Sample Tests\n",
    "```\n",
    "results = run_sql\n",
    "\n",
    "describe :query do\n",
    "  describe \"should contain keywords\" do\n",
    "    it \"should contain SELECT\" do\n",
    "      expect($sql.upcase).to include(\"SELECT\")\n",
    "    end\n",
    "\n",
    "    it \"should contain FROM\" do\n",
    "      expect($sql.upcase).to include(\"FROM\")\n",
    "    end\n",
    "  end\n",
    "\n",
    "  describe :columns do\n",
    "    it \"should return 2 columns\" do\n",
    "      expect(results.first.keys.count).to eq 2\n",
    "    end\n",
    "    \n",
    "    it \"should return a number1 column\" do\n",
    "      expect(results.first.keys).to include(:number1)\n",
    "    end\n",
    "    \n",
    "    it \"should return a number2 column\" do\n",
    "      expect(results.first.keys).to include(:number2)\n",
    "    end\n",
    " end\n",
    "end\n",
    "```"
   ]
  },
  {
   "cell_type": "markdown",
   "id": "bef4e70b-c156-40db-a011-8805f4dca4c0",
   "metadata": {},
   "source": [
    "Solution\n",
    "\n",
    "```sql\n",
    "select floor(number1) as number1, ceil(number2) as number2\n",
    "from decimals;\n",
    "```"
   ]
  }
 ],
 "metadata": {
  "kernelspec": {
   "display_name": "Python 3 (ipykernel)",
   "language": "python",
   "name": "python3"
  },
  "language_info": {
   "codemirror_mode": {
    "name": "ipython",
    "version": 3
   },
   "file_extension": ".py",
   "mimetype": "text/x-python",
   "name": "python",
   "nbconvert_exporter": "python",
   "pygments_lexer": "ipython3",
   "version": "3.9.7"
  }
 },
 "nbformat": 4,
 "nbformat_minor": 5
}
