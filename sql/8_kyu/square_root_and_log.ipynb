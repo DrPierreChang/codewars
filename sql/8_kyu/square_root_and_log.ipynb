{
 "cells": [
  {
   "cell_type": "markdown",
   "id": "45b2e5ab-812f-47c8-9469-96b85e5f37ba",
   "metadata": {},
   "source": [
    "```\n",
    "Given the following table 'decimals':\n",
    "\n",
    "** decimals table schema **\n",
    "\n",
    "id\n",
    "number1\n",
    "number2\n",
    "Return a table with two columns (root, log) where the values in root are the square root of those provided in number1 and the values in log are changed to a base 10 logarithm from those in number2.\n",
    "```"
   ]
  },
  {
   "cell_type": "markdown",
   "id": "735dc1f4-0742-457a-8a47-4ffa41d6ad50",
   "metadata": {},
   "source": [
    "```\n",
    "results = run_sql\n",
    "\n",
    "describe :query do\n",
    "  describe \"should contain keywords\" do\n",
    "    it \"should contain SELECT\" do\n",
    "      expect($sql.upcase).to include(\"SELECT\")\n",
    "    end\n",
    "\n",
    "    it \"should contain FROM\" do\n",
    "      expect($sql.upcase).to include(\"FROM\")\n",
    "    end\n",
    "  end\n",
    "\n",
    "  describe :columns do\n",
    "    it \"should return 2 columns\" do\n",
    "      expect(results.first.keys.count).to eq 2\n",
    "    end\n",
    "    \n",
    "    it \"should return a root column\" do\n",
    "      expect(results.first.keys).to include(:root)\n",
    "    end\n",
    "    \n",
    "    it \"should return a log column\" do\n",
    "      expect(results.first.keys).to include(:log)\n",
    "    end\n",
    " end\n",
    "end\n",
    "```"
   ]
  },
  {
   "cell_type": "code",
   "execution_count": null,
   "id": "dbc703ff-5121-4cb8-bc80-b3653b2a47e6",
   "metadata": {},
   "outputs": [],
   "source": []
  },
  {
   "cell_type": "markdown",
   "id": "1af1648a-314c-4ed9-acb0-5a52fcbd0b72",
   "metadata": {},
   "source": [
    "Solution\n",
    "\n",
    "```sql\n",
    "select |/ number1 as root, log(number2) as log\n",
    "from decimals;\n",
    "```"
   ]
  },
  {
   "cell_type": "markdown",
   "id": "58a2d918-dd2c-483f-9c77-2abc8fe5a270",
   "metadata": {},
   "source": [
    "```sql\n",
    "select sqrt(number1) as root, log(number2) from decimals\n",
    "```"
   ]
  }
 ],
 "metadata": {
  "kernelspec": {
   "display_name": "Python 3 (ipykernel)",
   "language": "python",
   "name": "python3"
  },
  "language_info": {
   "codemirror_mode": {
    "name": "ipython",
    "version": 3
   },
   "file_extension": ".py",
   "mimetype": "text/x-python",
   "name": "python",
   "nbconvert_exporter": "python",
   "pygments_lexer": "ipython3",
   "version": "3.9.7"
  }
 },
 "nbformat": 4,
 "nbformat_minor": 5
}
