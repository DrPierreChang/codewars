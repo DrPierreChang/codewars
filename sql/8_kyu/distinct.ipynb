{
 "cells": [
  {
   "cell_type": "markdown",
   "id": "eca5cec6-61dc-43f2-b819-74a8fa0e20dc",
   "metadata": {},
   "source": [
    "```\n",
    "For this challenge you need to create a simple DISTINCT statement, you want to find all the unique ages.\n",
    "\n",
    "people table schema\n",
    "id\n",
    "name\n",
    "age\n",
    "select table schema\n",
    "age (distinct)\n",
    "NOTE: Your solution should use pure SQL. Ruby is used within the test cases to do the actual testing.\n",
    "```"
   ]
  },
  {
   "cell_type": "markdown",
   "id": "98ad1f4d-545d-4e5d-a6d9-7b2697ee816c",
   "metadata": {},
   "source": [
    "Sample Tests\n",
    "\n",
    "```\n",
    "results = run_sql\n",
    "\n",
    "describe :query do\n",
    "  describe \"should contain keywords\" do\n",
    "    it \"should contain DISTINCT\" do\n",
    "      expect($sql.upcase).to include(\"DISTINCT\")\n",
    "    end\n",
    "    \n",
    "    it \"should contain not GROUP BY\" do\n",
    "      expect($sql.upcase).not_to include(\"GROUP BY\")\n",
    "    end\n",
    "  end\n",
    "\n",
    "  describe :columns do\n",
    "    it \"should return 1 columns\" do\n",
    "      expect(results.first.keys.count).to eq 1\n",
    "    end\n",
    "    \n",
    "    it \"should return a age column\" do\n",
    "      expect(results.first.keys).to include(:age)\n",
    "    end\n",
    "  end\n",
    "  \n",
    "  describe :rows do\n",
    "    it \"should return all unique ages\" do\n",
    "     ages = []\n",
    "     results.each do |result|\n",
    "       expect(ages).to satisfy { |value| value != result[:age] }\n",
    "       ages.push(result[:age])\n",
    "     end\n",
    "   end\n",
    "  end\n",
    "end\n",
    "```"
   ]
  },
  {
   "cell_type": "markdown",
   "id": "2361d4fe-222d-46c2-a490-8ba707569178",
   "metadata": {},
   "source": [
    "Solution\n",
    "\n",
    "```sql\n",
    "select distinct age\n",
    "from people;\n",
    "```"
   ]
  }
 ],
 "metadata": {
  "kernelspec": {
   "display_name": "Python 3 (ipykernel)",
   "language": "python",
   "name": "python3"
  },
  "language_info": {
   "codemirror_mode": {
    "name": "ipython",
    "version": 3
   },
   "file_extension": ".py",
   "mimetype": "text/x-python",
   "name": "python",
   "nbconvert_exporter": "python",
   "pygments_lexer": "ipython3",
   "version": "3.9.7"
  }
 },
 "nbformat": 4,
 "nbformat_minor": 5
}
