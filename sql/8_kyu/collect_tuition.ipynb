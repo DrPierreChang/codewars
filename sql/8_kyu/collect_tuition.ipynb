{
 "cells": [
  {
   "cell_type": "markdown",
   "id": "822a5628-fd56-4090-991f-6cf5cba99259",
   "metadata": {},
   "source": [
    "```\n",
    "You are working for a local school, and you are responsible for collecting tuition from students. You have a list of all students, some of them have already paid tution and some haven't. Write a select statement to get a list of all students who haven't paid their tuition yet. The list should include all the data available about these students.\n",
    "\n",
    "students table schema\n",
    "\n",
    "name (string)\n",
    "age (integer)\n",
    "semester (integer)\n",
    "mentor (string)\n",
    "tuition_received (Boolean)\n",
    "NOTE: Your solution should use pure SQL. Ruby is used within the test cases just to validate your answer.\n",
    "```"
   ]
  },
  {
   "cell_type": "markdown",
   "id": "afa95308-8b93-49b2-b548-a59e622fd154",
   "metadata": {},
   "source": [
    "```sql\n",
    "select * from students\n",
    "where tuition_received = false;\n",
    "```"
   ]
  },
  {
   "cell_type": "markdown",
   "id": "7f0e9ac7-fc82-483d-9cf4-2d8d0ffc6402",
   "metadata": {},
   "source": [
    "```sql\n",
    "select *\n",
    "from students\n",
    "where not tuition_received;\n",
    "```"
   ]
  }
 ],
 "metadata": {
  "kernelspec": {
   "display_name": "Python 3 (ipykernel)",
   "language": "python",
   "name": "python3"
  },
  "language_info": {
   "codemirror_mode": {
    "name": "ipython",
    "version": 3
   },
   "file_extension": ".py",
   "mimetype": "text/x-python",
   "name": "python",
   "nbconvert_exporter": "python",
   "pygments_lexer": "ipython3",
   "version": "3.9.7"
  }
 },
 "nbformat": 4,
 "nbformat_minor": 5
}
