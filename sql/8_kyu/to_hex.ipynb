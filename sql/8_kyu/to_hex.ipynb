{
 "cells": [
  {
   "cell_type": "markdown",
   "id": "76435a94-f9d3-4eec-9f13-7dfc9a3ec742",
   "metadata": {},
   "source": [
    "```\n",
    "to hexYou have access to a table of monsters as follows:\n",
    "\n",
    "monsters table schema\n",
    "id\n",
    "name\n",
    "legs\n",
    "arms\n",
    "characteristics\n",
    "Your task is to turn the numeric columns (arms, legs) into equivalent hexadecimal values.\n",
    "\n",
    "output table schema\n",
    "legs\n",
    "arms\n",
    "```"
   ]
  },
  {
   "cell_type": "markdown",
   "id": "27edbafc-6779-48a8-8906-5f5e35497ccc",
   "metadata": {},
   "source": [
    "Solution\n",
    "\n",
    "```sql\n",
    "SELECT to_hex(legs) legs, to_hex(arms) arms\n",
    "from monsters;\n",
    "```"
   ]
  }
 ],
 "metadata": {
  "kernelspec": {
   "display_name": "Python 3 (ipykernel)",
   "language": "python",
   "name": "python3"
  },
  "language_info": {
   "codemirror_mode": {
    "name": "ipython",
    "version": 3
   },
   "file_extension": ".py",
   "mimetype": "text/x-python",
   "name": "python",
   "nbconvert_exporter": "python",
   "pygments_lexer": "ipython3",
   "version": "3.9.7"
  }
 },
 "nbformat": 4,
 "nbformat_minor": 5
}
