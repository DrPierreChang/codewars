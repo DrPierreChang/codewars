{
 "cells": [
  {
   "cell_type": "markdown",
   "id": "09b4f2e8-401a-40d7-af98-37995d88b67f",
   "metadata": {},
   "source": [
    "```\n",
    "You received an invitation to an amazing party. Now you need to write an insert statement to add yourself to the table of participants.\n",
    "\n",
    "participants table schema\n",
    "\n",
    "name (string)\n",
    "age (integer)\n",
    "attending (boolean)\n",
    "NOTES:\n",
    "\n",
    "Since alcohol will be served, you can only attend if you are 21 or older\n",
    "\n",
    "You can't attend if the attending column returns anything but true\n",
    "\n",
    "NOTE: Your solution should use pure SQL. Ruby is used within the test cases just to validate your answer.\n",
    "```"
   ]
  },
  {
   "cell_type": "markdown",
   "id": "5815fd16-6b5e-44c1-860e-f6b1404e03d9",
   "metadata": {},
   "source": [
    "```sql\n",
    "insert into participants (name, age, attending)\n",
    "values\n",
    "  ('Andrey', 22, True);\n",
    "  \n",
    "select * from participants;\n",
    "```"
   ]
  }
 ],
 "metadata": {
  "kernelspec": {
   "display_name": "Python 3 (ipykernel)",
   "language": "python",
   "name": "python3"
  },
  "language_info": {
   "codemirror_mode": {
    "name": "ipython",
    "version": 3
   },
   "file_extension": ".py",
   "mimetype": "text/x-python",
   "name": "python",
   "nbconvert_exporter": "python",
   "pygments_lexer": "ipython3",
   "version": "3.9.7"
  }
 },
 "nbformat": 4,
 "nbformat_minor": 5
}
