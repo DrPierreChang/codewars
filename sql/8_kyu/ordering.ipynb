{
 "cells": [
  {
   "cell_type": "markdown",
   "id": "09409e6e-9273-4b03-96f6-f18c56dbc77c",
   "metadata": {},
   "source": [
    "```\n",
    "Your task is to sort the information in the provided table 'companies' by number of employees (high to low). Returned table should be in the same format as provided:\n",
    "\n",
    "companies table schema\n",
    "\n",
    "id\n",
    "ceo\n",
    "motto\n",
    "employees\n",
    "Solution should use pure SQL. Ruby is only used in test cases.\n",
    "```"
   ]
  },
  {
   "cell_type": "code",
   "execution_count": null,
   "id": "a9a9d3a6-4458-41ae-9313-e87371b1e242",
   "metadata": {},
   "outputs": [],
   "source": []
  },
  {
   "cell_type": "markdown",
   "id": "9b2fac1a-4b7a-453c-8bd2-c2a792f522ad",
   "metadata": {},
   "source": [
    "```\n",
    "Sample Tests\n",
    "\n",
    "results = run_sql\n",
    "\n",
    "describe :query do\n",
    "  describe \"should contain keywords\" do\n",
    "    it \"should contain SELECT\" do\n",
    "      expect($sql.upcase).to include(\"SELECT\")\n",
    "    end\n",
    "\n",
    "    it \"should contain FROM\" do\n",
    "      expect($sql.upcase).to include(\"FROM\")\n",
    "    end\n",
    "\n",
    "    it \"should contain ORDER\" do\n",
    "      expect($sql.upcase).to include(\"ORDER\")\n",
    "    end\n",
    "  end\n",
    "\n",
    "  describe :columns do\n",
    "    it \"should return 4 columns\" do\n",
    "      expect(results.first.keys.count).to eq 4\n",
    "    end\n",
    "    \n",
    "    it \"should return an id column\" do\n",
    "      expect(results.first.keys).to include(:id)\n",
    "    end\n",
    "    \n",
    "    it \"should return a ceo column\" do\n",
    "      expect(results.first.keys).to include(:ceo)\n",
    "    end\n",
    "    \n",
    "    it \"should return a motto column\" do\n",
    "      expect(results.first.keys).to include(:motto)\n",
    "    end\n",
    "\n",
    "    it \"should return an employees column\" do\n",
    "      expect(results.first.keys).to include(:employees)\n",
    "    end\n",
    "  end\n",
    "end\n",
    "  \n",
    "  compare_with expected do\n",
    "        end\n",
    "        \n",
    "```"
   ]
  },
  {
   "cell_type": "markdown",
   "id": "363e9d46-106c-4853-a7d1-1633c8c176f3",
   "metadata": {},
   "source": [
    "Solution\n",
    "\n",
    "```\n",
    "select * from companies\n",
    "order by employees desc;\n",
    "```"
   ]
  }
 ],
 "metadata": {
  "kernelspec": {
   "display_name": "Python 3 (ipykernel)",
   "language": "python",
   "name": "python3"
  },
  "language_info": {
   "codemirror_mode": {
    "name": "ipython",
    "version": 3
   },
   "file_extension": ".py",
   "mimetype": "text/x-python",
   "name": "python",
   "nbconvert_exporter": "python",
   "pygments_lexer": "ipython3",
   "version": "3.9.7"
  }
 },
 "nbformat": 4,
 "nbformat_minor": 5
}
