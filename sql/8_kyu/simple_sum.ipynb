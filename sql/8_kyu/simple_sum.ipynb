{
 "cells": [
  {
   "cell_type": "markdown",
   "id": "0bcc7e28-5133-4568-862c-0bc3d11feb4a",
   "metadata": {},
   "source": [
    "```\n",
    "For this challenge you need to create a simple SUM statement that will sum all the ages.\n",
    "\n",
    "people table schema\n",
    "id\n",
    "name\n",
    "age\n",
    "select table schema\n",
    "age_sum (sum of ages)\n",
    "NOTE: Your solution should use pure SQL. Ruby is used within the test cases to do the actual testing.\n",
    "\n",
    "NOTE2: You need to use ALIAS for creating age_sum\n",
    "```"
   ]
  },
  {
   "cell_type": "markdown",
   "id": "3851b450-2478-4bb6-a1a9-9d36d18af992",
   "metadata": {},
   "source": [
    "Solution\n",
    "\n",
    "```sql\n",
    "select sum(age) as age_sum\n",
    "from people;\n",
    "```"
   ]
  }
 ],
 "metadata": {
  "kernelspec": {
   "display_name": "Python 3 (ipykernel)",
   "language": "python",
   "name": "python3"
  },
  "language_info": {
   "codemirror_mode": {
    "name": "ipython",
    "version": 3
   },
   "file_extension": ".py",
   "mimetype": "text/x-python",
   "name": "python",
   "nbconvert_exporter": "python",
   "pygments_lexer": "ipython3",
   "version": "3.9.7"
  }
 },
 "nbformat": 4,
 "nbformat_minor": 5
}
