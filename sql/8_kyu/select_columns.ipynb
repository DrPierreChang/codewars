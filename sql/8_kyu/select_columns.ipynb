{
 "cells": [
  {
   "cell_type": "markdown",
   "id": "462fe250-535c-4f9f-912e-6992d7a2d601",
   "metadata": {},
   "source": [
    "```\n",
    "Using only SQL, write a query that returns all rows in the custid, custname, and custstate columns from the customers table.\n",
    "```\n",
    "\n",
    "Sample Tests\n",
    "\n",
    "```\n",
    "results = run_sql\n",
    "\n",
    "describe :results do\n",
    "  it \"should return 20 items\" do\n",
    "    expect(results.count).to eq 20\n",
    "  end\n",
    "  \n",
    "  it \"should contain only 3 columns\" do\n",
    "    expect(results.first.keys.count).to eq 3\n",
    "  end\n",
    "  \n",
    "  it \"should not contain custard column\" do\n",
    "    expect(results.first.keys).not_to include(:custard)\n",
    "  end\n",
    "end\n",
    "```\n",
    "\n",
    "Solution\n",
    "\n",
    "```sql\n",
    "select custid, custname, custstate\n",
    "from customers;\n",
    "```"
   ]
  }
 ],
 "metadata": {
  "kernelspec": {
   "display_name": "Python 3 (ipykernel)",
   "language": "python",
   "name": "python3"
  },
  "language_info": {
   "codemirror_mode": {
    "name": "ipython",
    "version": 3
   },
   "file_extension": ".py",
   "mimetype": "text/x-python",
   "name": "python",
   "nbconvert_exporter": "python",
   "pygments_lexer": "ipython3",
   "version": "3.9.7"
  }
 },
 "nbformat": 4,
 "nbformat_minor": 5
}
