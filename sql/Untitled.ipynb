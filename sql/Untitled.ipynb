{
 "cells": [
  {
   "cell_type": "code",
   "execution_count": 10,
   "id": "2390dd2a-264e-4b0e-8b84-ee174ca8ac79",
   "metadata": {},
   "outputs": [
    {
     "name": "stdout",
     "output_type": "stream",
     "text": [
      "{'d': 2, 'j': 3}\n"
     ]
    }
   ],
   "source": [
    "s = \"asddf dskfjf jjj\"\n",
    "\n",
    "cnt = {}\n",
    "\n",
    "for i in range(0, len(s)-1):\n",
    "    letter = s[i]\n",
    "    if s[i] == s[i+1]:\n",
    "        cnt[letter] = cnt.get(letter, 1) + 1\n",
    "\n",
    "\n",
    "print(cnt)"
   ]
  },
  {
   "cell_type": "code",
   "execution_count": 23,
   "id": "e5adb3dc-78fb-42b7-a40f-58f9af267731",
   "metadata": {},
   "outputs": [
    {
     "name": "stdout",
     "output_type": "stream",
     "text": [
      "{1: 1, 3: 3, 4: 1, 44: 1, 5: 2}\n"
     ]
    }
   ],
   "source": [
    "l = [1, 3, 4, 3, 3, 44, 5, 5]\n",
    "\n",
    "cnt = {}\n",
    "\n",
    "for i in l:\n",
    "    cnt[i] = cnt.get(i, 0) + 1\n",
    "\n",
    "print(cnt)"
   ]
  }
 ],
 "metadata": {
  "kernelspec": {
   "display_name": "Python 3 (ipykernel)",
   "language": "python",
   "name": "python3"
  },
  "language_info": {
   "codemirror_mode": {
    "name": "ipython",
    "version": 3
   },
   "file_extension": ".py",
   "mimetype": "text/x-python",
   "name": "python",
   "nbconvert_exporter": "python",
   "pygments_lexer": "ipython3",
   "version": "3.9.7"
  }
 },
 "nbformat": 4,
 "nbformat_minor": 5
}
