{
 "cells": [
  {
   "cell_type": "markdown",
   "id": "ed4ecff4-35ad-474a-ac71-fef5fb57325a",
   "metadata": {},
   "source": [
    "Create a function which accepts one arbitrary string as an argument, and return a string of length 26.\n",
    "\n",
    "The objective is to set each of the 26 characters of the output string to either '1' or '0' based on the fact whether the Nth letter of the alphabet is present in the input (independent of its case).\n",
    "\n",
    "So if an 'a' or an 'A' appears anywhere in the input string (any number of times), set the first character of the output string to '1', otherwise to '0'. if 'b' or 'B' appears in the string, set the second character to '1', and so on for the rest of the alphabet.\n",
    "\n",
    "For instance:\n",
    "\n",
    "\"a   **&  cZ\"  =>  \"10100000000000000000000001\"\n",
    "\n",
    "Sample Tests\n",
    "\n",
    "```python\n",
    "@test.describe('Example Tests')\n",
    "def example_tests():\n",
    "    test.assert_equals(change(\"a **&  bZ\"), \"11000000000000000000000001\")\n",
    "    test.assert_equals(change('Abc e  $$  z'), \"11101000000000000000000001\")\n",
    "    test.assert_equals(change(\"!!a$%&RgTT\"), \"10000010000000000101000000\")\n",
    "    test.assert_equals(change(\"\"), \"00000000000000000000000000\",\"empty string should return 26 '0'\")\n",
    "    test.assert_equals(change(\"abcdefghijklmnopqrstuvwxyz\"), \"11111111111111111111111111\")\n",
    "    test.assert_equals(change(\"aaaaaaaaaaa\"), \"10000000000000000000000000\")\n",
    "    test.assert_equals(change(\"&%&%/$%$%$%$%GYtf67fg34678hgfdyd\"), \"00010111000000000001000010\")\n",
    "```\n",
    "\n",
    "References\n",
    "\n",
    "- [Alphabet range in Python](https://stackoverflow.com/questions/16060899/alphabet-range-in-python)"
   ]
  },
  {
   "cell_type": "code",
   "execution_count": 13,
   "id": "60aad526-3c5a-4f1f-9684-9ae65853caa8",
   "metadata": {},
   "outputs": [
    {
     "name": "stdout",
     "output_type": "stream",
     "text": [
      "11000000000000000000000001\n"
     ]
    }
   ],
   "source": [
    "def change(st):\n",
    "    alphabet = 'abcdefghijklmnopqrstuvwxyz'\n",
    "    st = st.lower()\n",
    "    return \"\".join(\"1\" if i in st else \"0\" for i in alphabet)\n",
    "\n",
    "print(change(\"a **&  bZ\"))"
   ]
  }
 ],
 "metadata": {
  "kernelspec": {
   "display_name": "Python 3 (ipykernel)",
   "language": "python",
   "name": "python3"
  },
  "language_info": {
   "codemirror_mode": {
    "name": "ipython",
    "version": 3
   },
   "file_extension": ".py",
   "mimetype": "text/x-python",
   "name": "python",
   "nbconvert_exporter": "python",
   "pygments_lexer": "ipython3",
   "version": "3.9.7"
  }
 },
 "nbformat": 4,
 "nbformat_minor": 5
}
