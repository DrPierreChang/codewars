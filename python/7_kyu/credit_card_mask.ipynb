{
 "cells": [
  {
   "cell_type": "markdown",
   "id": "fd9e5b60-6833-4f16-8b08-30ba8e2c0c8d",
   "metadata": {},
   "source": [
    "Usually when you buy something, you're asked whether your credit card number, phone number or answer to your most secret question is still correct. However, since someone could look over your shoulder, you don't want that shown on your screen. Instead, we mask it.\n",
    "\n",
    "Your task is to write a function maskify, which changes all but the last four characters into '#'.\n",
    "\n",
    "Examples\n",
    "```\n",
    "maskify(\"4556364607935616\") == \"############5616\"\n",
    "maskify(     \"64607935616\") ==      \"#######5616\"\n",
    "maskify(               \"1\") ==                \"1\"\n",
    "maskify(                \"\") ==                 \"\"\n",
    "```\n",
    "\n",
    "#### \"What was the name of your first pet?\"\n",
    "```\n",
    "maskify(\"Skippy\")                                   == \"##ippy\"\n",
    "maskify(\"Nananananananananananananananana Batman!\") == \"####################################man!\"\n",
    "```\n",
    "\n",
    "Sample Tests\n",
    "\n",
    "```\n",
    "cc = ''\n",
    "r = maskify(cc)\n",
    "test.describe(\"masking: {0}\".format(cc))\n",
    "test.it(\"{0}  matches  {1}\".format(cc,r))\n",
    "test.assert_equals(r, cc)\n",
    "\n",
    "cc = '123'\n",
    "r = maskify(cc)\n",
    "test.describe(\"masking: {0}\".format(cc))\n",
    "test.it(\"{0}  matches  {1}\".format(cc, r))\n",
    "test.assert_equals(r, cc)\n",
    "\n",
    "cc = 'SF$SDfgsd2eA'\n",
    "r = maskify(cc)\n",
    "test.describe(\"masking: {0}\".format(cc))\n",
    "test.it(\"{0}  matches  {1}\".format('########d2eA', r))\n",
    "test.assert_equals(r, '########d2eA')\n",
    "```"
   ]
  },
  {
   "cell_type": "code",
   "execution_count": 41,
   "id": "c164b3d5-1a2c-4944-a32f-d64f70371d07",
   "metadata": {},
   "outputs": [
    {
     "name": "stdout",
     "output_type": "stream",
     "text": [
      "########d2eA\n"
     ]
    }
   ],
   "source": [
    "def maskify(cc):\n",
    "    unmusked = dict((key, value) for key, value in enumerate(cc, 1))\n",
    "    return \"\".join(\"#\" if i < len(cc)-3 else unmusked[i] for i in unmusked)\n",
    "\n",
    "print(maskify(\"SF$SDfgsd2eA\"))"
   ]
  },
  {
   "cell_type": "code",
   "execution_count": 55,
   "id": "1eecc8c6-e453-49ff-be58-ea5e78f3e48e",
   "metadata": {},
   "outputs": [
    {
     "name": "stdout",
     "output_type": "stream",
     "text": [
      "########d2eA\n"
     ]
    }
   ],
   "source": [
    "def maskify(cc):\n",
    "    unmusked = len(cc)-4\n",
    "    return \"\".join(\"#\" if i < unmusked else cc[i] for i in range(len(cc)))\n",
    "\n",
    "print(maskify(\"SF$SDfgsd2eA\"))"
   ]
  },
  {
   "cell_type": "code",
   "execution_count": 58,
   "id": "35b04086-bd60-43f9-a72b-54c7c79cebcb",
   "metadata": {},
   "outputs": [
    {
     "name": "stdout",
     "output_type": "stream",
     "text": [
      "1\n"
     ]
    }
   ],
   "source": [
    "def maskify(cc):\n",
    "    return \"#\"*(len(cc)-4) + cc[-4:]\n",
    "\n",
    "print(maskify(\"1\"))"
   ]
  },
  {
   "cell_type": "code",
   "execution_count": 59,
   "id": "56356e17-4b21-43ef-9cc0-c94c0cb7979d",
   "metadata": {},
   "outputs": [
    {
     "name": "stdout",
     "output_type": "stream",
     "text": [
      "1\n"
     ]
    }
   ],
   "source": [
    "test = \"1\"\n",
    "\n",
    "print(test[-4:])"
   ]
  }
 ],
 "metadata": {
  "kernelspec": {
   "display_name": "Python 3 (ipykernel)",
   "language": "python",
   "name": "python3"
  },
  "language_info": {
   "codemirror_mode": {
    "name": "ipython",
    "version": 3
   },
   "file_extension": ".py",
   "mimetype": "text/x-python",
   "name": "python",
   "nbconvert_exporter": "python",
   "pygments_lexer": "ipython3",
   "version": "3.9.7"
  }
 },
 "nbformat": 4,
 "nbformat_minor": 5
}
