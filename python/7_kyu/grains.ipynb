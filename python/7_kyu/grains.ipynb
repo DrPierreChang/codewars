{
 "cells": [
  {
   "cell_type": "markdown",
   "id": "84357258",
   "metadata": {},
   "source": [
    "Grains\n",
    "\n",
    "Write a program that calculates the number of grains of wheat on a specific square of chessboard given that the number on each square is double the previous one.\n",
    "\n",
    "There are 64 squares on a chessboard.\n",
    "\n",
    "#Example:\n",
    "\n",
    "```\n",
    "square(1) = 1 square(2) = 2 square(3) = 4 square(4) = 8 etc...\n",
    "```\n",
    "\n",
    "Write a program that shows how many grains were on each square.\n",
    "\n",
    "\n",
    "Sample Tests\n",
    "\n",
    "```python\n",
    "import codewars_test as test\n",
    "from solution import square\n",
    "\n",
    "@test.describe(\"Fixed Tests\")\n",
    "def fixed_tests():\n",
    "    @test.it('Basic Test Cases')\n",
    "    def basic_test_cases():\n",
    "        test.assert_equals(square(1), 1)\n",
    "        test.assert_equals(square(3), 4)\n",
    "        test.assert_equals(square(4), 8)\n",
    "        test.assert_equals(square(16), 32768)\n",
    "        test.assert_equals(square(32), 2147483648)\n",
    "        \n",
    "```"
   ]
  },
  {
   "cell_type": "code",
   "execution_count": 1,
   "id": "238d8c20",
   "metadata": {},
   "outputs": [
    {
     "data": {
      "text/plain": [
       "32768"
      ]
     },
     "execution_count": 1,
     "metadata": {},
     "output_type": "execute_result"
    }
   ],
   "source": [
    "def square(number):\n",
    "    # n, 2^(n-1)\n",
    "    return 2 ** (number - 1)\n",
    "\n",
    "square(16)"
   ]
  },
  {
   "cell_type": "code",
   "execution_count": 3,
   "id": "5e1d0dbd",
   "metadata": {},
   "outputs": [
    {
     "data": {
      "text/plain": [
       "[<matplotlib.lines.Line2D at 0x7f0638a6f2b0>]"
      ]
     },
     "execution_count": 3,
     "metadata": {},
     "output_type": "execute_result"
    },
    {
     "data": {
      "image/png": "[encoded data removed]",
      "text/plain": [
       "<Figure size 432x288 with 1 Axes>"
      ]
     },
     "metadata": {
      "needs_background": "light"
     },
     "output_type": "display_data"
    }
   ],
   "source": [
    "from matplotlib import pyplot as plt\n",
    "\n",
    "n = 16\n",
    "x = [2**(n-1) for n in range(0, n)]\n",
    "y = [n for n in range(0, n)]\n",
    "\n",
    "plt.plot(x, y)"
   ]
  }
 ],
 "metadata": {
  "kernelspec": {
   "display_name": "Python 3 (ipykernel)",
   "language": "python",
   "name": "python3"
  },
  "language_info": {
   "codemirror_mode": {
    "name": "ipython",
    "version": 3
   },
   "file_extension": ".py",
   "mimetype": "text/x-python",
   "name": "python",
   "nbconvert_exporter": "python",
   "pygments_lexer": "ipython3",
   "version": "3.9.7"
  }
 },
 "nbformat": 4,
 "nbformat_minor": 5
}
