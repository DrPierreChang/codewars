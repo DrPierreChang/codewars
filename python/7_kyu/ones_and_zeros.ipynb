{
 "cells": [
  {
   "cell_type": "markdown",
   "id": "2f9f42ab",
   "metadata": {},
   "source": [
    "Given an array of ones and zeroes, convert the equivalent binary value to an integer.\n",
    "\n",
    "Eg: [0, 0, 0, 1] is treated as 0001 which is the binary representation of 1.\n",
    "\n",
    "Examples:\n",
    "\n",
    "```\n",
    "Testing: [0, 0, 0, 1] ==> 1\n",
    "Testing: [0, 0, 1, 0] ==> 2\n",
    "Testing: [0, 1, 0, 1] ==> 5\n",
    "Testing: [1, 0, 0, 1] ==> 9\n",
    "Testing: [0, 0, 1, 0] ==> 2\n",
    "Testing: [0, 1, 1, 0] ==> 6\n",
    "Testing: [1, 1, 1, 1] ==> 15\n",
    "Testing: [1, 0, 1, 1] ==> 11\n",
    "```\n",
    "However, the arrays can have varying lengths, not just limited to 4.\n",
    "\n",
    "\n",
    "Sample Tests\n",
    "```python\n",
    "import codewars_test as test\n",
    "from solution import binary_array_to_number\n",
    "\n",
    "@test.describe(\"Fixed Tests\")\n",
    "def fixed_tests():\n",
    "    @test.it('Basic Test Cases')\n",
    "    def basic_test_cases():\n",
    "        test.assert_equals(binary_array_to_number([0,0,0,1]), 1)\n",
    "        test.assert_equals(binary_array_to_number([0,0,1,0]), 2)\n",
    "        test.assert_equals(binary_array_to_number([1,1,1,1]), 15)\n",
    "        test.assert_equals(binary_array_to_number([0,1,1,0]), 6)\n",
    " ```\n",
    " \n",
    " Materials:\n",
    " \n",
    " - [Convert base-2 binary number string to int](\n",
    " https://stackoverflow.com/questions/8928240/convert-base-2-binary-number-string-to-int)\n",
    " - [Executing terminal commands in Jupyter notebook](\n",
    " https://stackoverflow.com/questions/38694081/executing-terminal-commands-in-jupyter-notebook)"
   ]
  },
  {
   "cell_type": "code",
   "execution_count": 12,
   "id": "cdcab7bb",
   "metadata": {},
   "outputs": [
    {
     "name": "stdout",
     "output_type": "stream",
     "text": [
      "15\n"
     ]
    }
   ],
   "source": [
    "def binary_array_to_number(arr):\n",
    "  return int(\"\".join(str(i) for i in arr), 2)\n",
    "\n",
    "print(binary_array_to_number([1, 1, 1, 1]))"
   ]
  },
  {
   "cell_type": "code",
   "execution_count": 11,
   "id": "2687b053",
   "metadata": {},
   "outputs": [],
   "source": [
    "# # alternative solution\n",
    "# def binary_array_to_number(arr):\n",
    "#     s = 0\n",
    "#     for digit in arr:\n",
    "#         s = s * 2 + digit\n",
    "\n",
    "#     return s"
   ]
  }
 ],
 "metadata": {
  "kernelspec": {
   "display_name": "Python 3 (ipykernel)",
   "language": "python",
   "name": "python3"
  },
  "language_info": {
   "codemirror_mode": {
    "name": "ipython",
    "version": 3
   },
   "file_extension": ".py",
   "mimetype": "text/x-python",
   "name": "python",
   "nbconvert_exporter": "python",
   "pygments_lexer": "ipython3",
   "version": "3.9.7"
  }
 },
 "nbformat": 4,
 "nbformat_minor": 5
}
