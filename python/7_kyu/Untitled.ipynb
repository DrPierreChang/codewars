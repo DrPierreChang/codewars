{
 "cells": [
  {
   "cell_type": "markdown",
   "id": "1a6de076-1892-406c-9b6a-33c870791020",
   "metadata": {},
   "source": [
    "For this kata you will have to forget how to add two numbers.\n",
    "\n",
    "It can be best explained using the following meme:\n",
    "    \n",
    "<img src=\"images/caf.png\" width=300>\n",
    "\n",
    "In simple terms, our method does not like the principle of carrying over numbers and just writes down every number it calculates :-)\n",
    "\n",
    "You may assume both integers are positive integers.\n",
    "\n",
    "Sample Tests\n",
    "\n",
    "```python\n",
    "@test.it(\"Actual Addition\")\n",
    "def real_addition_test():\n",
    "    test.assert_equals(add(2,11), 13)\n",
    "    test.assert_equals(add(0,1), 1)\n",
    "    test.assert_equals(add(0,0), 0)\n",
    "\n",
    "@test.it(\"Silly Addition\")\n",
    "def silly_addition_test():\n",
    "    test.assert_equals(add(16,18), 214)\n",
    "    test.assert_equals(add(26,39), 515)\n",
    "    test.assert_equals(add(122,81), 1103)\n",
    "```\n",
    "\n",
    "References\n",
    "\n",
    "- [Функция divmod() в Python, делит числа с остатком.](https://docs-python.ru/tutorial/vstroennye-funktsii-interpretatora-python/funktsija-divmod/)"
   ]
  },
  {
   "cell_type": "code",
   "execution_count": 3,
   "id": "6722ebdc-4ae2-4a22-82bf-a7cf13a26d5e",
   "metadata": {},
   "outputs": [
    {
     "name": "stdout",
     "output_type": "stream",
     "text": [
      "1103\n"
     ]
    }
   ],
   "source": [
    "def add(a,b):\n",
    "    s = \"\"\n",
    "    while a+b:\n",
    "        a,p = divmod(a,10)\n",
    "        b,q = divmod(b,10)\n",
    "        s = str(p+q)+s\n",
    "    return int(s or'0')\n",
    "\n",
    "print(add(122, 81))"
   ]
  }
 ],
 "metadata": {
  "kernelspec": {
   "display_name": "Python 3 (ipykernel)",
   "language": "python",
   "name": "python3"
  },
  "language_info": {
   "codemirror_mode": {
    "name": "ipython",
    "version": 3
   },
   "file_extension": ".py",
   "mimetype": "text/x-python",
   "name": "python",
   "nbconvert_exporter": "python",
   "pygments_lexer": "ipython3",
   "version": "3.9.7"
  }
 },
 "nbformat": 4,
 "nbformat_minor": 5
}
