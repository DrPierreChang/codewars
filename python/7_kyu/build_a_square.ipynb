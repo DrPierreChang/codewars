{
 "cells": [
  {
   "cell_type": "markdown",
   "id": "ca97fa3e",
   "metadata": {},
   "source": [
    "I will give you an integer. Give me back a shape that is as long and wide as the integer. The integer will be a whole number between 1 and 50.\n",
    "\n",
    "Example\n",
    "```\n",
    "n = 3, so I expect a 3x3 square back just like below as a string:\n",
    "\n",
    "+++\n",
    "+++\n",
    "+++\n",
    "\n",
    "```\n",
    "\n",
    "Sample Tests\n",
    "```python\n",
    "@test.describe(\"Fixed Tests\")\n",
    "def basic_tests():\n",
    "    test.assert_equals(generate_shape(3), '+++\\n+++\\n+++')\n",
    "    test.assert_equals(generate_shape(8), '++++++++\\n++++++++\\n++++++++\\n++++++++\\n++++++++\\n++++++++\\n++++++++\\n++++++++')\n",
    "```"
   ]
  },
  {
   "cell_type": "code",
   "execution_count": 24,
   "id": "d1b3d4b1",
   "metadata": {},
   "outputs": [
    {
     "name": "stdout",
     "output_type": "stream",
     "text": [
      "++++++++\n",
      "++++++++\n",
      "++++++++\n",
      "++++++++\n",
      "++++++++\n",
      "++++++++\n",
      "++++++++\n",
      "++++++++\n"
     ]
    }
   ],
   "source": [
    "def generate_shape(n):\n",
    "    return (f\"{'+'*n}\\n\"*n).rstrip()\n",
    "\n",
    "\n",
    "print(generate_shape(8))"
   ]
  },
  {
   "cell_type": "code",
   "execution_count": 26,
   "id": "c5e6602e",
   "metadata": {},
   "outputs": [
    {
     "name": "stdout",
     "output_type": "stream",
     "text": [
      "++++++++\n",
      "++++++++\n",
      "++++++++\n",
      "++++++++\n",
      "++++++++\n",
      "++++++++\n",
      "++++++++\n",
      "++++++++\n"
     ]
    }
   ],
   "source": [
    "def generateShape(integer):\n",
    "    return '\\n'.join('+' * integer for i in range(integer))\n",
    "\n",
    "print(generateShape(8))"
   ]
  }
 ],
 "metadata": {
  "kernelspec": {
   "display_name": "Python 3 (ipykernel)",
   "language": "python",
   "name": "python3"
  },
  "language_info": {
   "codemirror_mode": {
    "name": "ipython",
    "version": 3
   },
   "file_extension": ".py",
   "mimetype": "text/x-python",
   "name": "python",
   "nbconvert_exporter": "python",
   "pygments_lexer": "ipython3",
   "version": "3.9.7"
  }
 },
 "nbformat": 4,
 "nbformat_minor": 5
}
