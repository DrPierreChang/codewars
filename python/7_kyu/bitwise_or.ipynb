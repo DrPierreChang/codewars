{
 "cells": [
  {
   "cell_type": "markdown",
   "id": "6dd91a75-9898-45e6-b004-0fc1af2edc46",
   "metadata": {},
   "source": [
    "Sample Tests\n",
    "\n",
    "```python\n",
    "test.describe(\"Example Tests\")\n",
    "# a + b ?\n",
    "test.assert_equals(testit(0, 1), 1)\n",
    "test.assert_equals(testit(1, 2), 3)\n",
    "test.assert_equals(testit(10, 20), 30)\n",
    "\n",
    "# a * b ?\n",
    "test.assert_equals(testit(1, 1), 1)\n",
    "test.assert_equals(testit(1, 3), 3)\n",
    "```\n",
    "\n",
    "References\n",
    "\n",
    "- [Битовые операторы](https://www.bestprog.net/ru/2019/10/21/python-bitwise-operators-ru/)\n",
    "- [What does |= (ior) do in Python?](https://stackoverflow.com/questions/3929278/what-does-ior-do-in-python)"
   ]
  },
  {
   "cell_type": "code",
   "execution_count": null,
   "id": "93d1c507-a0d5-457a-9c13-7e557d5c6065",
   "metadata": {},
   "outputs": [],
   "source": []
  },
  {
   "cell_type": "code",
   "execution_count": 1,
   "id": "d6334712-62a4-4302-b6ed-ccc4a156f331",
   "metadata": {},
   "outputs": [
    {
     "name": "stdout",
     "output_type": "stream",
     "text": [
      "30\n"
     ]
    }
   ],
   "source": [
    "def testit (a, b):\n",
    "    return a | b\n",
    "\n",
    "print(testit(10, 20))"
   ]
  }
 ],
 "metadata": {
  "kernelspec": {
   "display_name": "Python 3 (ipykernel)",
   "language": "python",
   "name": "python3"
  },
  "language_info": {
   "codemirror_mode": {
    "name": "ipython",
    "version": 3
   },
   "file_extension": ".py",
   "mimetype": "text/x-python",
   "name": "python",
   "nbconvert_exporter": "python",
   "pygments_lexer": "ipython3",
   "version": "3.9.7"
  }
 },
 "nbformat": 4,
 "nbformat_minor": 5
}
