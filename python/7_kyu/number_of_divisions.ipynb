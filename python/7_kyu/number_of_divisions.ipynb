{
 "cells": [
  {
   "cell_type": "markdown",
   "id": "b43fce70-4a23-43a9-a4ca-032f5ec4dfe2",
   "metadata": {},
   "source": [
    "Calculate how many times a number can be divided by a given number.\n",
    "\n",
    "Example\n",
    "\n",
    "For example the number 6 can be divided by 2 two times:\n",
    "\n",
    "```\n",
    "1. 6 / 2 = 3\n",
    "2. 3 / 2 = 1 remainder = 1\n",
    "```\n",
    "\n",
    "100 can be divided by 2 six times:\n",
    "\n",
    "```\n",
    "1. 100 / 2 = 50\n",
    "2. 50 / 2 = 25\n",
    "3. 25 / 2 = 12 remainder 1\n",
    "4. 12 / 2 = 6\n",
    "5. 6 / 2 = 3\n",
    "6. 3 / 2 = 1 remainder 1\n",
    "```\n",
    "\n",
    "Samplt Tests\n",
    "\n",
    "```python\n",
    "test.assert_equals(divisions(6, 2), 2)\n",
    "test.assert_equals(divisions(100, 2), 6)\n",
    "test.assert_equals(divisions(2450, 5), 4)\n",
    "test.assert_equals(divisions(9999, 3), 8)\n",
    "test.assert_equals(divisions(2, 3), 0)\n",
    "test.assert_equals(divisions(5, 5), 1)\n",
    "```"
   ]
  },
  {
   "cell_type": "code",
   "execution_count": 62,
   "id": "b38dbaa2-9978-4d00-a86e-85d49a0c0b64",
   "metadata": {},
   "outputs": [
    {
     "name": "stdout",
     "output_type": "stream",
     "text": [
      "4\n"
     ]
    }
   ],
   "source": [
    "def divisions(n, divisor):\n",
    "    if n == 0:\n",
    "        return -1\n",
    "    else:\n",
    "        return 1 + divisions(n // divisor, divisor)\n",
    "\n",
    "print(divisions(2450, 5))"
   ]
  },
  {
   "cell_type": "code",
   "execution_count": 64,
   "id": "d9701544-cb14-416c-b35e-f4b39fae9e80",
   "metadata": {},
   "outputs": [
    {
     "name": "stdout",
     "output_type": "stream",
     "text": [
      "4\n"
     ]
    }
   ],
   "source": [
    "from math import log\n",
    "\n",
    "def divisions(n, divisor):\n",
    "    return int(log(n, divisor))\n",
    "\n",
    "print(divisions(2450, 5))"
   ]
  }
 ],
 "metadata": {
  "kernelspec": {
   "display_name": "Python 3 (ipykernel)",
   "language": "python",
   "name": "python3"
  },
  "language_info": {
   "codemirror_mode": {
    "name": "ipython",
    "version": 3
   },
   "file_extension": ".py",
   "mimetype": "text/x-python",
   "name": "python",
   "nbconvert_exporter": "python",
   "pygments_lexer": "ipython3",
   "version": "3.9.7"
  }
 },
 "nbformat": 4,
 "nbformat_minor": 5
}
