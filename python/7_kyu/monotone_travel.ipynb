{
 "cells": [
  {
   "cell_type": "markdown",
   "id": "29ddb77b-4325-43c0-bad1-385b5225a5d7",
   "metadata": {},
   "source": [
    "Story\n",
    "\n",
    "Peter lives on a hill, and he always moans about the way to his home.\n",
    "\"It's always just up.\n",
    "I never get a rest\". But you're pretty sure that at least at one point Peter's altitude doesn't rise, but fall.\n",
    "To get him, you use a nefarious plan: you attach an altimeter to his backpack and you read the data from his way back at the next day.\n",
    "\n",
    "Task\n",
    "\n",
    "You're given a list of compareable elements:\n",
    "\n",
    "heights = [Integers or Floats]\n",
    "\n",
    "Your job is to check whether for any x all successors are greater or equal to x.\n",
    "\n",
    "```python\n",
    "is_monotone([1,2,3]) == True\n",
    "is_monotone([1,1,2]) == True\n",
    "is_monotone([1])     == True\n",
    "is_monotone([3,2,1]) == False\n",
    "is_monotone([3,2,2]) == False\n",
    "```\n",
    "\n",
    "If the list is empty, Peter has probably removed your altimeter, so we cannot prove him wrong and he's still right:\n",
    "\n",
    "```python\n",
    "is_monotone([]) == True\n",
    "```\n",
    "\n",
    "Such a sequence is also called monotone or monotonic sequence, hence the name isMonotone.\n",
    "\n",
    "- [Monotonic function](https://en.wikipedia.org/wiki/Monotonic_function)"
   ]
  },
  {
   "cell_type": "code",
   "execution_count": 12,
   "id": "9b9e5a05-2999-457c-a661-a700e8313139",
   "metadata": {},
   "outputs": [
    {
     "name": "stdout",
     "output_type": "stream",
     "text": [
      "True\n"
     ]
    }
   ],
   "source": [
    "def is_monotone(heights):\n",
    "    for height in heights:\n",
    "        if height > heights[-1]:\n",
    "            return False\n",
    "    return True\n",
    "\n",
    "print(is_monotone([1,2,3]))"
   ]
  },
  {
   "cell_type": "code",
   "execution_count": 16,
   "id": "a244efa5-e280-490e-b2a8-1cf9d78f674c",
   "metadata": {},
   "outputs": [
    {
     "name": "stdout",
     "output_type": "stream",
     "text": [
      "False\n"
     ]
    }
   ],
   "source": [
    "def is_monotone(heights):\n",
    "    return sorted(heights) == heights\n",
    "\n",
    "print(is_monotone(([3,2,1])))"
   ]
  }
 ],
 "metadata": {
  "kernelspec": {
   "display_name": "Python 3 (ipykernel)",
   "language": "python",
   "name": "python3"
  },
  "language_info": {
   "codemirror_mode": {
    "name": "ipython",
    "version": 3
   },
   "file_extension": ".py",
   "mimetype": "text/x-python",
   "name": "python",
   "nbconvert_exporter": "python",
   "pygments_lexer": "ipython3",
   "version": "3.9.7"
  }
 },
 "nbformat": 4,
 "nbformat_minor": 5
}
