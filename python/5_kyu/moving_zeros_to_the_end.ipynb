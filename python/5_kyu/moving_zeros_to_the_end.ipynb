{
 "cells": [
  {
   "cell_type": "markdown",
   "id": "5e799d98-dba5-43b5-91bf-b4d081180de3",
   "metadata": {},
   "source": [
    "Write an algorithm that takes an array and moves all of the zeros to the end, preserving the order of the other elements.\n",
    "\n",
    "```\n",
    "move_zeros([1, 0, 1, 2, 0, 1, 3]) # returns [1, 1, 2, 1, 3, 0, 0]\n",
    "```\n",
    "\n",
    "Sample Tests\n",
    "\n",
    "```python\n",
    "import codewars_test as test\n",
    "from solution import move_zeros\n",
    "\n",
    "@test.it(\"Basic tests\")\n",
    "def youarecute():\n",
    "    test.assert_equals(move_zeros(\n",
    "        [1, 2, 0, 1, 0, 1, 0, 3, 0, 1]),\n",
    "        [1, 2, 1, 1, 3, 1, 0, 0, 0, 0])\n",
    "    test.assert_equals(move_zeros(\n",
    "        [9, 0, 0, 9, 1, 2, 0, 1, 0, 1, 0, 3, 0, 1, 9, 0, 0, 0, 0, 9]),\n",
    "        [9, 9, 1, 2, 1, 1, 3, 1, 9, 9, 0, 0, 0, 0, 0, 0, 0, 0, 0, 0])\n",
    "    test.assert_equals(move_zeros([0, 0]), [0, 0])\n",
    "    test.assert_equals(move_zeros([0]), [0])\n",
    "    test.assert_equals(move_zeros([]), [])\n",
    "```"
   ]
  },
  {
   "cell_type": "code",
   "execution_count": 3,
   "id": "ede410d5-3785-4b08-8b86-2fc9f1b7b35a",
   "metadata": {},
   "outputs": [],
   "source": [
    "def move_zeros(array):\n",
    "    return list(i for i in array if i) + [0] * array.count(0)"
   ]
  }
 ],
 "metadata": {
  "kernelspec": {
   "display_name": "Python 3 (ipykernel)",
   "language": "python",
   "name": "python3"
  },
  "language_info": {
   "codemirror_mode": {
    "name": "ipython",
    "version": 3
   },
   "file_extension": ".py",
   "mimetype": "text/x-python",
   "name": "python",
   "nbconvert_exporter": "python",
   "pygments_lexer": "ipython3",
   "version": "3.9.7"
  }
 },
 "nbformat": 4,
 "nbformat_minor": 5
}
