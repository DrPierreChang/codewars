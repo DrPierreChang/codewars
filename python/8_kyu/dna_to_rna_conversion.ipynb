{
 "cells": [
  {
   "cell_type": "markdown",
   "id": "5b43f22a-bc3a-4e59-9939-f42b3f84cf51",
   "metadata": {},
   "source": [
    "Deoxyribonucleic acid, DNA is the primary information storage molecule in biological systems.\n",
    "\n",
    "It is composed of four nucleic acid bases Guanine ('G'), Cytosine ('C'), Adenine ('A'), and Thymine ('T').\n",
    "\n",
    "Ribonucleic acid, RNA, is the primary messenger molecule in cells.\n",
    "\n",
    "RNA differs slightly from DNA its chemical structure and contains no Thymine.\n",
    "\n",
    "In RNA Thymine is replaced by another nucleic acid Uracil ('U').\n",
    "\n",
    "Create a function which translates a given DNA string into RNA.\n",
    "\n",
    "For example:\n",
    "\n",
    "```\n",
    "\"GCAT\"  =>  \"GCAU\"\n",
    "```\n",
    "The input string can be of arbitrary length - in particular, it may be empty. \n",
    "\n",
    "All input is guaranteed to be valid, i.e. each input string will only ever consist of 'G', 'C', 'A' and/or 'T'.\n",
    "\n",
    "\n",
    "Samplt Tests:\n",
    "\n",
    "\n",
    "```python\n",
    "import codewars_test as test\n",
    "from solution import dna_to_rna\n",
    "\n",
    "@test.describe(\"Sample Tests\")\n",
    "def basic_tests():\n",
    "    @test.it('Basic Test Cases')\n",
    "    def basic_test_cases():\n",
    "        test.assert_equals(dna_to_rna(\"TTTT\"), \"UUUU\")\n",
    "        test.assert_equals(dna_to_rna(\"GCAT\"), \"GCAU\")\n",
    "        test.assert_equals(dna_to_rna(\"GACCGCCGCC\"), \"GACCGCCGCC\")\n",
    "```\n",
    "\n",
    "\n",
    "References:\n",
    "\n",
    "- [Python generator expression if-else](\n",
    "https://stackoverflow.com/questions/12113162/python-generator-expression-if-else)"
   ]
  },
  {
   "cell_type": "code",
   "execution_count": 5,
   "id": "7cc40df6-bbff-40a1-a618-92b4969a7dc4",
   "metadata": {},
   "outputs": [
    {
     "name": "stdout",
     "output_type": "stream",
     "text": [
      "UUUU\n",
      "GCAU\n",
      "GACCGCCGCC\n"
     ]
    }
   ],
   "source": [
    "def dna_to_rna(dna):\n",
    "    return \"\".join(nucl if nucl != \"T\" else \"U\" for nucl in dna)\n",
    "\n",
    "print(dna_to_rna(\"TTTT\"))\n",
    "print(dna_to_rna(\"GCAT\"))\n",
    "print(dna_to_rna(\"GACCGCCGCC\"))"
   ]
  },
  {
   "cell_type": "code",
   "execution_count": 3,
   "id": "74749041-f07d-430b-bc06-9728c6413734",
   "metadata": {},
   "outputs": [
    {
     "name": "stdout",
     "output_type": "stream",
     "text": [
      "UUUU\n",
      "GCAU\n",
      "GACCGCCGCC\n"
     ]
    }
   ],
   "source": [
    "def dna_to_rna(dna):\n",
    "    return dna.replace(\"T\", \"U\")\n",
    "\n",
    "print(dna_to_rna(\"TTTT\"))\n",
    "print(dna_to_rna(\"GCAT\"))\n",
    "print(dna_to_rna(\"GACCGCCGCC\"))"
   ]
  },
  {
   "cell_type": "code",
   "execution_count": 7,
   "id": "4138541d-76a3-420c-a2b0-0dc3112c0c9b",
   "metadata": {},
   "outputs": [
    {
     "name": "stdout",
     "output_type": "stream",
     "text": [
      "UUUU\n",
      "GCAU\n",
      "GACCGCCGCC\n"
     ]
    }
   ],
   "source": [
    "def dna_to_rna(dna):\n",
    "    \n",
    "    dna_dict = {\n",
    "    'T': 'U',\n",
    "    'A': 'A',\n",
    "    'C': 'C',\n",
    "    'G': 'G'\n",
    "    }\n",
    "    \n",
    "    return \"\".join(dna_dict[nucl] for nucl in dna)\n",
    "\n",
    "print(dna_to_rna(\"TTTT\"))\n",
    "print(dna_to_rna(\"GCAT\"))\n",
    "print(dna_to_rna(\"GACCGCCGCC\"))"
   ]
  }
 ],
 "metadata": {
  "kernelspec": {
   "display_name": "Python 3 (ipykernel)",
   "language": "python",
   "name": "python3"
  },
  "language_info": {
   "codemirror_mode": {
    "name": "ipython",
    "version": 3
   },
   "file_extension": ".py",
   "mimetype": "text/x-python",
   "name": "python",
   "nbconvert_exporter": "python",
   "pygments_lexer": "ipython3",
   "version": "3.9.7"
  }
 },
 "nbformat": 4,
 "nbformat_minor": 5
}
