{
 "cells": [
  {
   "cell_type": "markdown",
   "id": "5794fdca-1f42-414f-8557-5ef3fe1603b5",
   "metadata": {},
   "source": [
    "Inspired by the development team at Vooza, write the function that\n",
    "\n",
    "accepts the name of a programmer, and\n",
    "\n",
    "returns the number of lightsabers owned by that person.\n",
    "\n",
    "The only person who owns lightsabers is Zach, by the way. He owns 18, which is an awesome number of lightsabers. Anyone else owns 0.\n",
    "\n",
    "Note: your function should have a default parameter.\n",
    "\n",
    "For example(Input --> Output):\n",
    "\n",
    "```\n",
    "\"anyone else\" --> 0\n",
    "\"Zach\" --> 18\n",
    "```\n",
    "\n",
    "Sample Tests \n",
    "\n",
    "```python\n",
    "import codewars_test as test\n",
    "from solution import how_many_light_sabers_do_you_own\n",
    "\n",
    "@test.describe(\"Fixed Tests\")\n",
    "def fixed_tests():\n",
    "    @test.it('Basic Test Cases')\n",
    "    def basic_test_cases():\n",
    "        test.assert_equals(how_many_light_sabers_do_you_own(\"Zach\"), 18)\n",
    "        test.assert_equals(how_many_light_sabers_do_you_own(), 0)\n",
    "        test.assert_equals(how_many_light_sabers_do_you_own(\"zach\"), 0)\n",
    "```"
   ]
  },
  {
   "cell_type": "code",
   "execution_count": 1,
   "id": "873f30b1-53f0-40bf-b501-5110b944acad",
   "metadata": {},
   "outputs": [],
   "source": [
    "def how_many_light_sabers_do_you_own(name = \"anyone else\"):\n",
    "    return  18 if name == \"Zach\" else 0"
   ]
  }
 ],
 "metadata": {
  "kernelspec": {
   "display_name": "Python 3 (ipykernel)",
   "language": "python",
   "name": "python3"
  },
  "language_info": {
   "codemirror_mode": {
    "name": "ipython",
    "version": 3
   },
   "file_extension": ".py",
   "mimetype": "text/x-python",
   "name": "python",
   "nbconvert_exporter": "python",
   "pygments_lexer": "ipython3",
   "version": "3.9.7"
  }
 },
 "nbformat": 4,
 "nbformat_minor": 5
}
