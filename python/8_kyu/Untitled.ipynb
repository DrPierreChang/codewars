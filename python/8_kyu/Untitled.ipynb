{
 "cells": [
  {
   "cell_type": "markdown",
   "id": "dc41a933-f5b3-4d37-a6d1-180ced61ce5d",
   "metadata": {},
   "source": [
    "Task Overview\n",
    "\n",
    "Given a non-negative integer n, write a function to_binary/ToBinary which returns that number in a binary format.\n",
    "```\n",
    "to_binary(1)  # should return 1 \n",
    "to_binary(5)  # should return 101\n",
    "to_binary(11) # should return 1011\n",
    "```\n",
    "\n",
    "Sample Tests\n",
    "```python\n",
    "@test.describe(\"Fixed Tests\")\n",
    "def fixed_tests():\n",
    "    @test.it('Basic Test Cases')\n",
    "    def basic_test_cases():\n",
    "        test.assert_equals(to_binary(1), 1)\n",
    "        test.assert_equals(to_binary(2), 10)\n",
    "        test.assert_equals(to_binary(3), 11)\n",
    "        test.assert_equals(to_binary(5), 101)\n",
    "```"
   ]
  },
  {
   "cell_type": "code",
   "execution_count": 15,
   "id": "23b9cbac-babc-495d-8426-11b1868f286a",
   "metadata": {},
   "outputs": [],
   "source": [
    "def to_binary(n):\n",
    "    b = bin(n)\n",
    "    return int(b[b.find(\"b\")+1:])"
   ]
  }
 ],
 "metadata": {
  "kernelspec": {
   "display_name": "Python 3 (ipykernel)",
   "language": "python",
   "name": "python3"
  },
  "language_info": {
   "codemirror_mode": {
    "name": "ipython",
    "version": 3
   },
   "file_extension": ".py",
   "mimetype": "text/x-python",
   "name": "python",
   "nbconvert_exporter": "python",
   "pygments_lexer": "ipython3",
   "version": "3.9.7"
  }
 },
 "nbformat": 4,
 "nbformat_minor": 5
}
