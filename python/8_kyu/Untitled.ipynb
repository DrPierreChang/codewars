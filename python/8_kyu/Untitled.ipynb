{
 "cells": [
  {
   "cell_type": "markdown",
   "id": "6abb5e3f-497e-4c21-a6ef-7d9da76e5a5d",
   "metadata": {},
   "source": [
    "You're running an online business and a big part of your day is fulfilling orders. As your volume picks up that's been taking more of your time, and unfortunately lately you've been running into situations where you take an order but can't fulfill it.\n",
    "\n",
    "You've decided to write a function fillable() that takes three arguments: a dictionary stock representing all the merchandise you have in stock, a string merch representing the thing your customer wants to buy, and an integer n representing the number of units of merch they would like to buy. Your function should return True if you have the merchandise in stock to complete the sale, otherwise it should return False.\n",
    "\n",
    "Valid data will always be passed in and n will always be >= 1.\n",
    "\n",
    "Sample Tests\n",
    "\n",
    "```python\n",
    "import codewars_test as test\n",
    "from solution import *\n",
    "\n",
    "@test.describe(\"Sample tests\")\n",
    "def tests():\n",
    "    @test.it(\"Some examples\")\n",
    "    def tests():\n",
    "        stock = {\n",
    "            'football': 4,\n",
    "            'boardgame': 10,\n",
    "            'leggos': 1,\n",
    "            'doll': 5 }\n",
    "        test.assert_equals(fillable(stock, 'football', 3), True)\n",
    "        test.assert_equals(fillable(stock, 'leggos', 2), False)\n",
    "        test.assert_equals(fillable(stock, 'action figure', 1), False)\n",
    "```"
   ]
  },
  {
   "cell_type": "code",
   "execution_count": 1,
   "id": "6e532535-2b7e-468a-8051-3c039dac76ed",
   "metadata": {},
   "outputs": [],
   "source": [
    "def fillable(stock, merch, n):\n",
    "    return stock.get(merch, False) >= n"
   ]
  }
 ],
 "metadata": {
  "kernelspec": {
   "display_name": "Python 3 (ipykernel)",
   "language": "python",
   "name": "python3"
  },
  "language_info": {
   "codemirror_mode": {
    "name": "ipython",
    "version": 3
   },
   "file_extension": ".py",
   "mimetype": "text/x-python",
   "name": "python",
   "nbconvert_exporter": "python",
   "pygments_lexer": "ipython3",
   "version": "3.9.7"
  }
 },
 "nbformat": 4,
 "nbformat_minor": 5
}
