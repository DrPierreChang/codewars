{
 "cells": [
  {
   "cell_type": "markdown",
   "id": "98d7cb17-10f0-4c43-9dba-843a55fb3cd5",
   "metadata": {},
   "source": [
    "Given an array of Boolean values and a logical operator, return a Boolean result based on sequentially applying the operator to the values in the array.\n",
    "\n",
    "Examples\n",
    "\n",
    "```\n",
    "booleans = [True, True, False], operator = \"AND\"\n",
    "True AND True -> True\n",
    "True AND False -> False\n",
    "return False\n",
    "\n",
    "booleans = [True, True, False], operator = \"OR\"\n",
    "True OR True -> True\n",
    "True OR False -> True\n",
    "return True\n",
    "\n",
    "booleans = [True, True, False], operator = \"XOR\"\n",
    "True XOR True -> False\n",
    "False XOR False -> False\n",
    "return False\n",
    "\n",
    "Input\n",
    "\n",
    "an array of Boolean values (1 <= array_length <= 50)\n",
    "a string specifying a logical operator: \"AND\", \"OR\", \"XOR\"\n",
    "\n",
    "Output\n",
    "A Boolean value (True or False).\n",
    "```\n",
    "\n",
    "Sample Tests\n",
    "\n",
    "```python\n",
    "test.describe('Basic tests')\n",
    "test.assert_equals(logical_calc([True, False], \"AND\"), False)\n",
    "test.assert_equals(logical_calc([True, False], \"OR\"), True)\n",
    "test.assert_equals(logical_calc([True, False], \"XOR\"), True)\n",
    "\n",
    "test.assert_equals(logical_calc([True, True, False], \"AND\"), False)\n",
    "test.assert_equals(logical_calc([True, True, False], \"OR\"), True)\n",
    "test.assert_equals(logical_calc([True, True, False], \"XOR\"), False)\n",
    "```"
   ]
  },
  {
   "cell_type": "code",
   "execution_count": 20,
   "id": "60ca660b-0e35-4aa3-b58c-c30c9457a528",
   "metadata": {},
   "outputs": [
    {
     "name": "stdout",
     "output_type": "stream",
     "text": [
      "True\n"
     ]
    }
   ],
   "source": [
    "def logical_calc(array, op):\n",
    "    ops = {\"AND\": \"and\", \"OR\": \"or\", \"XOR\": \"^\"}\n",
    "    return eval(f\" {ops[op]} \".join(str(i) for i in array))\n",
    "\n",
    "print(logical_calc([True, True, False], \"OR\"))"
   ]
  },
  {
   "cell_type": "code",
   "execution_count": 27,
   "id": "970f05c9-55bd-482e-9a84-d4b700f14a16",
   "metadata": {},
   "outputs": [],
   "source": [
    "from operator import and_, or_, xor\n",
    "\n",
    "OPERATOR = {'AND': and_, 'OR': or_, 'XOR': xor}\n",
    "\n",
    "\n",
    "def logical_calc(array, op):\n",
    "    return reduce(OPERATOR[op], array)"
   ]
  },
  {
   "cell_type": "code",
   "execution_count": 16,
   "id": "ef8a93f9-5d34-4f35-869d-140617ef41ed",
   "metadata": {},
   "outputs": [
    {
     "data": {
      "text/plain": [
       "13"
      ]
     },
     "execution_count": 16,
     "metadata": {},
     "output_type": "execute_result"
    }
   ],
   "source": [
    "10 ^ 7"
   ]
  },
  {
   "cell_type": "code",
   "execution_count": 26,
   "id": "969f7151-5484-4e7b-8cef-c85a3ed92487",
   "metadata": {},
   "outputs": [
    {
     "data": {
      "text/plain": [
       "6"
      ]
     },
     "execution_count": 26,
     "metadata": {},
     "output_type": "execute_result"
    }
   ],
   "source": [
    "import operator\n",
    "from functools import reduce\n",
    "reduce(operator.add, [1, 2, 3])"
   ]
  },
  {
   "cell_type": "code",
   "execution_count": 3,
   "id": "5d1536a3-de67-49ea-861d-b0522ef8edd0",
   "metadata": {},
   "outputs": [
    {
     "data": {
      "text/plain": [
       "2"
      ]
     },
     "execution_count": 3,
     "metadata": {},
     "output_type": "execute_result"
    }
   ],
   "source": [
    "sum([1 < 3, 2 < 3])"
   ]
  }
 ],
 "metadata": {
  "kernelspec": {
   "display_name": "Python 3 (ipykernel)",
   "language": "python",
   "name": "python3"
  },
  "language_info": {
   "codemirror_mode": {
    "name": "ipython",
    "version": 3
   },
   "file_extension": ".py",
   "mimetype": "text/x-python",
   "name": "python",
   "nbconvert_exporter": "python",
   "pygments_lexer": "ipython3",
   "version": "3.9.7"
  }
 },
 "nbformat": 4,
 "nbformat_minor": 5
}
