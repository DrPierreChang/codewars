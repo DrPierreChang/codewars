{
 "cells": [
  {
   "cell_type": "markdown",
   "id": "67eb226f-2341-45c7-b37c-f799e066307d",
   "metadata": {},
   "source": [
    "Time to test your basic knowledge in functions! Return the odds from a list:\n",
    "\n",
    "```\n",
    "[1, 2, 3, 4, 5]  -->  [1, 3, 5]\n",
    "[2, 4, 6]        -->  []\n",
    "```\n",
    "Sample Tests\n",
    "\n",
    "```\n",
    "import codewars_test as test\n",
    "from solution import odds\n",
    "\n",
    "@test.describe(\"Fixed Tests\")\n",
    "def fixed_tests():\n",
    "    @test.it(\"Basic Tests\")\n",
    "    def basic_tests():\n",
    "        test.assert_equals(odds([]), [])\n",
    "        test.assert_equals(odds([2,4,6]), [])\n",
    "        test.assert_equals(odds([1,3,5]), [1,3,5])\n",
    "        test.assert_equals(odds([1, 2, 3, 4, 5, 6]), [1, 3, 5])\n",
    "```"
   ]
  },
  {
   "cell_type": "code",
   "execution_count": 2,
   "id": "a032368c-4316-4cff-b991-5489ce816f4c",
   "metadata": {},
   "outputs": [],
   "source": [
    "odds = lambda x: [i for i in x if i % 2]"
   ]
  }
 ],
 "metadata": {
  "kernelspec": {
   "display_name": "Python 3 (ipykernel)",
   "language": "python",
   "name": "python3"
  },
  "language_info": {
   "codemirror_mode": {
    "name": "ipython",
    "version": 3
   },
   "file_extension": ".py",
   "mimetype": "text/x-python",
   "name": "python",
   "nbconvert_exporter": "python",
   "pygments_lexer": "ipython3",
   "version": "3.9.7"
  }
 },
 "nbformat": 4,
 "nbformat_minor": 5
}
