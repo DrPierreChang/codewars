{
 "cells": [
  {
   "cell_type": "markdown",
   "id": "2bbe25a9-d451-4a0c-87c2-63df71ac6d87",
   "metadata": {},
   "source": [
    "Complete the function that receives as input a string, and produces outputs according to the following table:\n",
    "\n",
    "Input\tOutput\n",
    "```\n",
    "\"Jabroni\"\t\"Patron Tequila\"\n",
    "\"School Counselor\"\t\"Anything with Alcohol\"\n",
    "\"Programmer\"\t\"Hipster Craft Beer\"\n",
    "\"Bike Gang Member\"\t\"Moonshine\"\n",
    "\"Politician\"\t\"Your tax dollars\"\n",
    "\"Rapper\"\t\"Cristal\"\n",
    "anything else\t\"Beer\"\n",
    "```\n",
    "\n",
    "Note: anything else is the default case: if the input to the function is not any of the values in the table, then the return value should be \"Beer\".\n",
    "\n",
    "Make sure you cover the cases where certain words do not show up with correct capitalization. For example, the input \"pOLitiCIaN\" should still return \"Your tax dollars\".\n",
    "\n",
    "\n",
    "Sample Tests\n",
    "\n",
    "\n",
    "```python\n",
    "test.assert_equals(get_drink_by_profession(\"jabrOni\"), \"Patron Tequila\", \"'Jabroni' should map to 'Patron Tequila'\")\n",
    "test.assert_equals(get_drink_by_profession(\"scHOOl counselor\"), \"Anything with Alcohol\", \"'School Counselor' should map to 'Anything with alcohol'\")\n",
    "test.assert_equals(get_drink_by_profession(\"prOgramMer\"), \"Hipster Craft Beer\", \"'Programmer' should map to 'Hipster Craft Beer'\")\n",
    "test.assert_equals(get_drink_by_profession(\"bike ganG member\"), \"Moonshine\", \"'Bike Gang Member' should map to 'Moonshine'\")\n",
    "test.assert_equals(get_drink_by_profession(\"poLiTiCian\"), \"Your tax dollars\", \"'Politician' should map to 'Your tax dollars'\")\n",
    "test.assert_equals(get_drink_by_profession(\"rapper\"), \"Cristal\", \"'Rapper' should map to 'Cristal'\")\n",
    "test.assert_equals(get_drink_by_profession(\"pundit\"), \"Beer\", \"'Pundit' should map to 'Beer'\")\n",
    "test.assert_equals(get_drink_by_profession(\"Pug\"), \"Beer\", \"'Pug' should map to 'Beer'\")\n",
    "```\n"
   ]
  },
  {
   "cell_type": "code",
   "execution_count": 1,
   "id": "a47c2e01-305a-4177-9464-a29b395a0826",
   "metadata": {},
   "outputs": [],
   "source": [
    "def get_drink_by_profession(param):\n",
    "    return {\"Jabroni\":\"Patron Tequila\",\n",
    "           \"School Counselor\":\"Anything with Alcohol\",\n",
    "           \"Programmer\":\"Hipster Craft Beer\",\n",
    "           \"Bike Gang Member\":\"Moonshine\",\n",
    "           \"Politician\":\"Your tax dollars\",\n",
    "           \"Rapper\":\"Cristal\",\n",
    "           }.get(param.title(), \"Beer\")"
   ]
  }
 ],
 "metadata": {
  "kernelspec": {
   "display_name": "Python 3 (ipykernel)",
   "language": "python",
   "name": "python3"
  },
  "language_info": {
   "codemirror_mode": {
    "name": "ipython",
    "version": 3
   },
   "file_extension": ".py",
   "mimetype": "text/x-python",
   "name": "python",
   "nbconvert_exporter": "python",
   "pygments_lexer": "ipython3",
   "version": "3.9.7"
  }
 },
 "nbformat": 4,
 "nbformat_minor": 5
}
