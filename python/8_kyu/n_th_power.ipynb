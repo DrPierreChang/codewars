{
 "cells": [
  {
   "cell_type": "markdown",
   "id": "5cb49bd8-4506-4820-aed4-20ea449d9238",
   "metadata": {},
   "source": [
    "This kata is from check py.checkio.org\n",
    "\n",
    "You are given an array with positive numbers and a non-negative number N. You should find the N-th power of the element in the array with the index N. If N is outside of the array, then return -1. Don't forget that the first element has the index 0.\n",
    "\n",
    "Let's look at a few examples:\n",
    "\n",
    "```\n",
    "array = [1, 2, 3, 4] and N = 2, then the result is 3^2 == 9;\n",
    "array = [1, 2, 3] and N = 3, but N is outside of the array, so the result is -1.\n",
    "```\n",
    "\n",
    "Sample Tests\n",
    "\n",
    "```python\n",
    "import codewars_test as test\n",
    "from solution import index\n",
    "\n",
    "@test.describe(\"Fixed Tests\")\n",
    "def fixed_tests():\n",
    "    @test.it('Basic Test Cases')\n",
    "    def basic_test_cases():\n",
    "        test.assert_equals(index([1, 2, 3, 4],2),9)\n",
    "        test.assert_equals(index([1, 3, 10, 100],3),1000000)\n",
    "```"
   ]
  },
  {
   "cell_type": "code",
   "execution_count": 2,
   "id": "43bdb120-84a8-4e6a-9532-85fa9a981ec9",
   "metadata": {},
   "outputs": [],
   "source": [
    "def index(array, n):\n",
    "    return array[n]**n if len(array) - 1 >= n else -1"
   ]
  }
 ],
 "metadata": {
  "kernelspec": {
   "display_name": "Python 3 (ipykernel)",
   "language": "python",
   "name": "python3"
  },
  "language_info": {
   "codemirror_mode": {
    "name": "ipython",
    "version": 3
   },
   "file_extension": ".py",
   "mimetype": "text/x-python",
   "name": "python",
   "nbconvert_exporter": "python",
   "pygments_lexer": "ipython3",
   "version": "3.9.7"
  }
 },
 "nbformat": 4,
 "nbformat_minor": 5
}
