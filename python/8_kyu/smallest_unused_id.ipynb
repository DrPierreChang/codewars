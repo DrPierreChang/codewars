{
 "cells": [
  {
   "cell_type": "markdown",
   "id": "d90d9443-ec43-4fc1-883e-16486f3f8153",
   "metadata": {},
   "source": [
    "Hey awesome programmer!\n",
    "\n",
    "You've got much data to manage and of course you use zero-based and non-negative ID's to make each data item unique!\n",
    "\n",
    "Therefore you need a method, which returns the smallest unused ID for your next new data item...\n",
    "\n",
    "Note: The given array of used IDs may be unsorted. For test reasons there may be duplicate IDs, but you don't have to find or remove them!\n",
    "\n",
    "Go on and code some pure awesomeness!\n",
    "\n",
    "Sample Tests\n",
    "\n",
    "```python\n",
    "import codewars_test as test\n",
    "from solution import next_id\n",
    "\n",
    "@test.describe(\"Fixed Tests\")\n",
    "def fixed_tests():\n",
    "    @test.it('Basic Test Cases')\n",
    "    def basic_test_cases():\n",
    "        test.assert_equals(next_id([0,1,2,3,4,5,6,7,8,9,10]), 11)\n",
    "        test.assert_equals(next_id([5,4,3,2,1]), 0)\n",
    "        test.assert_equals(next_id([0,1,2,3,5]), 4)\n",
    "        test.assert_equals(next_id([0,0,0,0,0,0]), 1)\n",
    "        test.assert_equals(next_id([]), 0)\n",
    "        test.assert_equals(next_id([0,0,1,1,2,2]), 3)\n",
    "        test.assert_equals(next_id([0,1,1,1,3,2]), 4)\n",
    "        test.assert_equals(next_id([0,1,0,2,0,3]), 4)\n",
    "        test.assert_equals(next_id([9,8,0,1,7,6]), 2)\n",
    "        test.assert_equals(next_id([9,8,7,6,5,4]), 0)\n",
    "```"
   ]
  },
  {
   "cell_type": "code",
   "execution_count": 3,
   "id": "da804ff7-2a84-487f-ba61-77192b676d57",
   "metadata": {},
   "outputs": [
    {
     "data": {
      "text/plain": [
       "[-10, -9, -8, -7, -6, -5, -4, -3, -2]"
      ]
     },
     "execution_count": 3,
     "metadata": {},
     "output_type": "execute_result"
    }
   ],
   "source": [
    "list(range(-10, -1))"
   ]
  },
  {
   "cell_type": "code",
   "execution_count": null,
   "id": "220b1da2-99fd-40ef-85e6-6403400b4027",
   "metadata": {},
   "outputs": [],
   "source": []
  }
 ],
 "metadata": {
  "kernelspec": {
   "display_name": "Python 3 (ipykernel)",
   "language": "python",
   "name": "python3"
  },
  "language_info": {
   "codemirror_mode": {
    "name": "ipython",
    "version": 3
   },
   "file_extension": ".py",
   "mimetype": "text/x-python",
   "name": "python",
   "nbconvert_exporter": "python",
   "pygments_lexer": "ipython3",
   "version": "3.9.7"
  }
 },
 "nbformat": 4,
 "nbformat_minor": 5
}
