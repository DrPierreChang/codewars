{
 "cells": [
  {
   "cell_type": "markdown",
   "id": "d226cb1c-5474-40c7-8521-2de8ec67ab13",
   "metadata": {},
   "source": [
    "```\n",
    "Create a function that returns the CSV representation of a two-dimensional numeric array.\n",
    "\n",
    "Example:\n",
    "\n",
    "input:\n",
    "   [[ 0, 1, 2, 3, 4 ],\n",
    "    [ 10,11,12,13,14 ],\n",
    "    [ 20,21,22,23,24 ],\n",
    "    [ 30,31,32,33,34 ]] \n",
    "    \n",
    "output:\n",
    "     '0,1,2,3,4\\n'\n",
    "    +'10,11,12,13,14\\n'\n",
    "    +'20,21,22,23,24\\n'\n",
    "    +'30,31,32,33,34'\n",
    "Array's length > 2.\n",
    "\n",
    "More details here: https://en.wikipedia.org/wiki/Comma-separated_values\n",
    "```"
   ]
  },
  {
   "cell_type": "code",
   "execution_count": 5,
   "id": "2e758c90-5877-42c0-b323-53720ca5a794",
   "metadata": {},
   "outputs": [],
   "source": [
    "array = [\n",
    "            [0, 1, 2, 3, 45],\n",
    "            [10, 11, 12, 13, 14],\n",
    "            [20, 21, 22, 23, 24],\n",
    "            [30, 31, 32, 33, 34]\n",
    "        ]\n",
    "\n",
    "\n",
    "def to_csv_text(array):\n",
    "    return \"\\n\".join(','.join(map(str, i)) for i in array)\n",
    "\n",
    "assert to_csv_text(array) == \"0,1,2,3,45\\n10,11,12,13,14\\n20,21,22,23,24\\n30,31,32,33,34\""
   ]
  }
 ],
 "metadata": {
  "kernelspec": {
   "display_name": "Python 3 (ipykernel)",
   "language": "python",
   "name": "python3"
  },
  "language_info": {
   "codemirror_mode": {
    "name": "ipython",
    "version": 3
   },
   "file_extension": ".py",
   "mimetype": "text/x-python",
   "name": "python",
   "nbconvert_exporter": "python",
   "pygments_lexer": "ipython3",
   "version": "3.9.7"
  }
 },
 "nbformat": 4,
 "nbformat_minor": 5
}
