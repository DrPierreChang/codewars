{
 "cells": [
  {
   "cell_type": "markdown",
   "id": "9f60f1b8-1550-4133-802f-2692dfc98e4b",
   "metadata": {},
   "source": [
    "Your start-up's BA has told marketing that your website has a large audience in Scandinavia and surrounding countries. Marketing thinks it would be great to welcome visitors to the site in their own language. Luckily you already use an API that detects the user's location, so this is an easy win.\n",
    "\n",
    "The Task\n",
    "\n",
    "Think of a way to store the languages as a database (eg an object). The languages are listed below so you can copy and paste!\n",
    "Write a 'welcome' function that takes a parameter 'language' (always a string), and returns a greeting - if you have it in your database. It should default to English if the language is not in the database, or in the event of an invalid input.\n",
    "\n",
    "The Database\n",
    "```python\n",
    "'english': 'Welcome',\n",
    "'czech': 'Vitejte',\n",
    "'danish': 'Velkomst',\n",
    "'dutch': 'Welkom',\n",
    "'estonian': 'Tere tulemast',\n",
    "'finnish': 'Tervetuloa',\n",
    "'flemish': 'Welgekomen',\n",
    "'french': 'Bienvenue',\n",
    "'german': 'Willkommen',\n",
    "'irish': 'Failte',\n",
    "'italian': 'Benvenuto',\n",
    "'latvian': 'Gaidits',\n",
    "'lithuanian': 'Laukiamas',\n",
    "'polish': 'Witamy',\n",
    "'spanish': 'Bienvenido',\n",
    "'swedish': 'Valkommen',\n",
    "'welsh': 'Croeso'\n",
    "```\n",
    "\n",
    "Possible invalid inputs include:\n",
    "\n",
    "```\n",
    "IP_ADDRESS_INVALID - not a valid ipv4 or ipv6 ip address\n",
    "IP_ADDRESS_NOT_FOUND - ip address not in the database\n",
    "IP_ADDRESS_REQUIRED - no ip address was supplied\n",
    "```\n",
    "\n",
    "Samplet Tests\n",
    "\n",
    "```python\n",
    "test.describe(\"Basic tests\")\n",
    "test.assert_equals(greet('english'), 'Welcome')\n",
    "test.assert_equals(greet('dutch'), 'Welkom')\n",
    "test.assert_equals(greet('IP_ADDRESS_INVALID'), 'Welcome')\n",
    "test.assert_equals(greet(''), 'Welcome')\n",
    "test.assert_equals(greet(2), 'Welcome')\n",
    "```"
   ]
  },
  {
   "cell_type": "code",
   "execution_count": 2,
   "id": "189e3b30-2a3a-432e-ba5d-b94c91c591ff",
   "metadata": {},
   "outputs": [
    {
     "name": "stdout",
     "output_type": "stream",
     "text": [
      "Benvenuto\n"
     ]
    }
   ],
   "source": [
    "def greet(language):\n",
    "    db = {'english': 'Welcome',\n",
    "          'czech': 'Vitejte',\n",
    "          'danish': 'Velkomst',\n",
    "          'dutch': 'Welkom',\n",
    "          'estonian': 'Tere tulemast',\n",
    "          'finnish': 'Tervetuloa',\n",
    "          'flemish': 'Welgekomen',\n",
    "          'french': 'Bienvenue',\n",
    "          'german': 'Willkommen',\n",
    "          'irish': 'Failte',\n",
    "          'italian': 'Benvenuto',\n",
    "          'latvian': 'Gaidits',\n",
    "          'lithuanian': 'Laukiamas',\n",
    "          'polish': 'Witamy',\n",
    "          'spanish': 'Bienvenido',\n",
    "          'swedish': 'Valkommen',\n",
    "          'welsh': 'Croeso'}\n",
    "    \n",
    "    return db.get(language, \"Welcome\")\n",
    "\n",
    "print(greet('italian'))"
   ]
  }
 ],
 "metadata": {
  "kernelspec": {
   "display_name": "Python 3 (ipykernel)",
   "language": "python",
   "name": "python3"
  },
  "language_info": {
   "codemirror_mode": {
    "name": "ipython",
    "version": 3
   },
   "file_extension": ".py",
   "mimetype": "text/x-python",
   "name": "python",
   "nbconvert_exporter": "python",
   "pygments_lexer": "ipython3",
   "version": "3.9.7"
  }
 },
 "nbformat": 4,
 "nbformat_minor": 5
}
