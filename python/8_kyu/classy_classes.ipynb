{
 "cells": [
  {
   "cell_type": "markdown",
   "id": "951bb1a6-1636-4fc5-8a73-47cb657347bd",
   "metadata": {},
   "source": [
    "Classy Classes\n",
    "\n",
    "Basic Classes, this kata is mainly aimed at the new JS ES6 Update introducing classes\n",
    "\n",
    "Task\n",
    "\n",
    "Your task is to complete this Class, the Person class has been created. You must fill in the Constructor method to accept a name as string and an age as number, complete the get Info property and getInfo method/Info getter which should return johns age is 34\n",
    "\n",
    "Reference: https://docs.python.org/3/tutorial/classes.html\n",
    "\n",
    "Sample Tests\n",
    "\n",
    "```python\n",
    "test.describe(\"Basic tests\")\n",
    "names=[\"john\",\"matt\",\"alex\",\"cam\"]\n",
    "ages=[16,25,57,39]\n",
    "for i in range(4):\n",
    "    name,age=names[i],ages[i]\n",
    "    person=Person(name,age)\n",
    "    test.it(\"Testing for %s and %s\" %(repr(name),age))\n",
    "    test.assert_equals(person.info, name+\"s age is \"+str(age))\n",
    "```"
   ]
  },
  {
   "cell_type": "code",
   "execution_count": 2,
   "id": "96467fdd-eec9-4a3b-bd1a-7afed5da7c0d",
   "metadata": {},
   "outputs": [
    {
     "name": "stdout",
     "output_type": "stream",
     "text": [
      "Devids age is 39\n"
     ]
    }
   ],
   "source": [
    "class Person:\n",
    "    def __init__(self, name, age):\n",
    "        self.name = name\n",
    "        self.age = age\n",
    "        self.info= f\"{name}s age is {age}\"\n",
    "        \n",
    "\n",
    "Devid = Person(\"Devid\", 39)\n",
    "\n",
    "print(Devid.info)\n"
   ]
  }
 ],
 "metadata": {
  "kernelspec": {
   "display_name": "Python 3 (ipykernel)",
   "language": "python",
   "name": "python3"
  },
  "language_info": {
   "codemirror_mode": {
    "name": "ipython",
    "version": 3
   },
   "file_extension": ".py",
   "mimetype": "text/x-python",
   "name": "python",
   "nbconvert_exporter": "python",
   "pygments_lexer": "ipython3",
   "version": "3.9.7"
  }
 },
 "nbformat": 4,
 "nbformat_minor": 5
}
