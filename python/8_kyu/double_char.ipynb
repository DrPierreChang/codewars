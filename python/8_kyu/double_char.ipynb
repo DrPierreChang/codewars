{
 "cells": [
  {
   "cell_type": "markdown",
   "id": "e5274e8b-1f40-44d5-814b-24e5b5490405",
   "metadata": {},
   "source": [
    "Given a string, you have to return a string in which each character (case-sensitive) is repeated once.\n",
    "\n",
    "double_char(\"String\") ==> \"SSttrriinngg\"\n",
    "\n",
    "double_char(\"Hello World\") ==> \"HHeelllloo  WWoorrlldd\"\n",
    "\n",
    "double_char(\"1234!_ \") ==> \"11223344!!__  \"\n",
    "\n",
    "Sample Tests\n",
    "\n",
    "```\n",
    "test.assert_equals(double_char(\"String\"),\"SSttrriinngg\")\n",
    "test.assert_equals(double_char(\"Hello World\"),\"HHeelllloo  WWoorrlldd\")\n",
    "test.assert_equals(double_char(\"1234!_ \"),\"11223344!!__  \")\n",
    "```"
   ]
  },
  {
   "cell_type": "code",
   "execution_count": 36,
   "id": "b79daa4d-fe95-455e-97fb-60b93078091d",
   "metadata": {},
   "outputs": [
    {
     "data": {
      "text/plain": [
       "'HHeelllloo  WWoorrlldd'"
      ]
     },
     "execution_count": 36,
     "metadata": {},
     "output_type": "execute_result"
    }
   ],
   "source": [
    "\"\".join(f\"{letter}{letter}\" for letter in \"Hello World\")"
   ]
  }
 ],
 "metadata": {
  "kernelspec": {
   "display_name": "Python 3 (ipykernel)",
   "language": "python",
   "name": "python3"
  },
  "language_info": {
   "codemirror_mode": {
    "name": "ipython",
    "version": 3
   },
   "file_extension": ".py",
   "mimetype": "text/x-python",
   "name": "python",
   "nbconvert_exporter": "python",
   "pygments_lexer": "ipython3",
   "version": "3.9.7"
  }
 },
 "nbformat": 4,
 "nbformat_minor": 5
}
