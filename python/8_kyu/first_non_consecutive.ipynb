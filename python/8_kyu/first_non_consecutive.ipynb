{
 "cells": [
  {
   "cell_type": "markdown",
   "id": "60e7c362-c8bf-4b95-8f7c-ff8ee00d523d",
   "metadata": {},
   "source": [
    "Your task is to find the first element of an array that is not consecutive.\n",
    "\n",
    "By not consecutive we mean not exactly 1 larger than the previous element of the array.\n",
    "\n",
    "E.g. If we have an array [1,2,3,4,6,7,8] then 1 then 2 then 3 then 4 are all consecutive but 6 is not, so that's the first non-consecutive number.\n",
    "\n",
    "If the whole array is consecutive then return null2.\n",
    "\n",
    "The array will always have at least 2 elements1 and all elements will be numbers. The numbers will also all be unique and in ascending order. The numbers could be positive or negative and the first non-consecutive could be either too!\n",
    "\n",
    "If you like this Kata, maybe try this one next: https://www.codewars.com/kata/represent-array-of-numbers-as-ranges\n",
    "\n",
    "1 Can you write a solution that will return null2 for both [] and [ x ] though? (This is an empty array and one with a single number and is not tested for, but you can write your own example test. )\n",
    "\n",
    "2\n",
    "\n",
    "Swift, Ruby and Crystal: nil\n",
    "\n",
    "Haskell: Nothing\n",
    "\n",
    "Python, Rust, Scala: None\n",
    "\n",
    "Julia: nothing\n",
    "\n",
    "Nim: none(int) (See options)\n",
    "\n",
    "Sample Tests\n",
    "\n",
    "```python\n",
    "import codewars_test as test\n",
    "from solution import first_non_consecutive\n",
    "\n",
    "@test.describe(\"Fixed Tests\")\n",
    "def fixed_tests():\n",
    "    @test.it('Basic Test Cases')\n",
    "    def basic_test_cases():\n",
    "        test.assert_equals(first_non_consecutive([1,2,3,4,6,7,8]), 6)\n",
    "        test.assert_equals(first_non_consecutive([1,2,3,4,5,6,7,8]), None)\n",
    "        test.assert_equals(first_non_consecutive([4,6,7,8,9,11]), 6)\n",
    "        test.assert_equals(first_non_consecutive([4,5,6,7,8,9,11]), 11)\n",
    "        test.assert_equals(first_non_consecutive([31,32]), None)\n",
    "        test.assert_equals(first_non_consecutive([-3,-2,0,1]), 0)\n",
    "        test.assert_equals(first_non_consecutive([-5,-4,-3,-1]), -1)\n",
    "```"
   ]
  },
  {
   "cell_type": "code",
   "execution_count": 9,
   "id": "4c2c6725-0d89-4a73-a084-647f58fcaad6",
   "metadata": {},
   "outputs": [
    {
     "name": "stdout",
     "output_type": "stream",
     "text": [
      "None\n"
     ]
    }
   ],
   "source": [
    "def first_non_consecutive(arr):\n",
    "    if arr:\n",
    "        previous = arr[0]\n",
    "        for i in arr[1:]:\n",
    "            if i - previous != 1:\n",
    "                return i\n",
    "            previous = i\n",
    "    return None\n",
    "    \n",
    "print(first_non_consecutive([])) #6"
   ]
  },
  {
   "cell_type": "code",
   "execution_count": 11,
   "id": "0dd50803-835a-4ec7-bb53-307ee143923d",
   "metadata": {},
   "outputs": [
    {
     "data": {
      "text/plain": [
       "1"
      ]
     },
     "execution_count": 11,
     "metadata": {},
     "output_type": "execute_result"
    }
   ],
   "source": [
    "-3-(-4)"
   ]
  }
 ],
 "metadata": {
  "kernelspec": {
   "display_name": "Python 3 (ipykernel)",
   "language": "python",
   "name": "python3"
  },
  "language_info": {
   "codemirror_mode": {
    "name": "ipython",
    "version": 3
   },
   "file_extension": ".py",
   "mimetype": "text/x-python",
   "name": "python",
   "nbconvert_exporter": "python",
   "pygments_lexer": "ipython3",
   "version": "3.9.7"
  }
 },
 "nbformat": 4,
 "nbformat_minor": 5
}
