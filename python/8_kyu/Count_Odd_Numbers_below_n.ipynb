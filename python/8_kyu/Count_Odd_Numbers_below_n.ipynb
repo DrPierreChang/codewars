{
 "cells": [
  {
   "cell_type": "markdown",
   "id": "25d0a95d-c834-4fef-8bb7-68f35cfb50a4",
   "metadata": {},
   "source": [
    "```\n",
    "Given a number n, return the number of positive odd numbers below n, EASY!\n",
    "\n",
    "oddCount(7) //=> 3, i.e [1, 3, 5]\n",
    "oddCount(15) //=> 7, i.e [1, 3, 5, 7, 9, 11, 13]\n",
    "Expect large Inputs!\n",
    "```"
   ]
  },
  {
   "cell_type": "code",
   "execution_count": 1,
   "id": "83c448ac-1796-4ac1-a230-9df8d85e3561",
   "metadata": {},
   "outputs": [],
   "source": [
    "def odd_count(n):\n",
    "    return len(range(1, n, 2))"
   ]
  },
  {
   "cell_type": "code",
   "execution_count": 4,
   "id": "66449eba-38e2-4065-8f42-41a9054faeea",
   "metadata": {},
   "outputs": [
    {
     "data": {
      "text/plain": [
       "3"
      ]
     },
     "execution_count": 4,
     "metadata": {},
     "output_type": "execute_result"
    }
   ],
   "source": [
    "def oddCount(n):\n",
    "    return n // 2\n",
    "\n",
    "oddCount(7)"
   ]
  }
 ],
 "metadata": {
  "kernelspec": {
   "display_name": "Python 3 (ipykernel)",
   "language": "python",
   "name": "python3"
  },
  "language_info": {
   "codemirror_mode": {
    "name": "ipython",
    "version": 3
   },
   "file_extension": ".py",
   "mimetype": "text/x-python",
   "name": "python",
   "nbconvert_exporter": "python",
   "pygments_lexer": "ipython3",
   "version": "3.9.7"
  }
 },
 "nbformat": 4,
 "nbformat_minor": 5
}
