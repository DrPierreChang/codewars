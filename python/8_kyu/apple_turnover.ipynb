{
 "cells": [
  {
   "cell_type": "markdown",
   "id": "e4e88fd5-961b-4351-9a27-c2e9a21efedb",
   "metadata": {},
   "source": [
    "Your job is simple, if (x) squared is more than 1000, return 'It's hotter than the sun!!', else, return 'Help yourself to a honeycomb Yorkie for the glovebox.'.\n",
    "\n",
    "X will be a valid integer number.\n",
    "\n",
    "X will be either a number or a string. Both are valid.\n",
    "\n",
    "Sample Tests\n",
    "\n",
    "```python\n",
    "import codewars_test as test\n",
    "from solution import apple\n",
    "\n",
    "@test.describe(\"Fixed Tests\")\n",
    "def fixed_tests():\n",
    "    @test.it('Basic Test Cases')\n",
    "    def basic_test_cases():\n",
    "        test.assert_equals(apple('50'), \"It's hotter than the sun!!\")\n",
    "        test.assert_equals(apple(4), \"Help yourself to a honeycomb Yorkie for the glovebox.\")\n",
    "        test.assert_equals(apple(\"12\"), \"Help yourself to a honeycomb Yorkie for the glovebox.\")\n",
    "        test.assert_equals(apple(60), \"It's hotter than the sun!!\")\n",
    "```"
   ]
  },
  {
   "cell_type": "code",
   "execution_count": 1,
   "id": "fa45c66d-44b1-4154-9ba4-731112ff8dce",
   "metadata": {},
   "outputs": [],
   "source": [
    "def apple(x):\n",
    "    return \"It's hotter than the sun!!\" if int(x)**2 > 1000\\\n",
    "                                        else \"Help yourself to a honeycomb Yorkie for the glovebox.\""
   ]
  }
 ],
 "metadata": {
  "kernelspec": {
   "display_name": "Python 3 (ipykernel)",
   "language": "python",
   "name": "python3"
  },
  "language_info": {
   "codemirror_mode": {
    "name": "ipython",
    "version": 3
   },
   "file_extension": ".py",
   "mimetype": "text/x-python",
   "name": "python",
   "nbconvert_exporter": "python",
   "pygments_lexer": "ipython3",
   "version": "3.9.7"
  }
 },
 "nbformat": 4,
 "nbformat_minor": 5
}
