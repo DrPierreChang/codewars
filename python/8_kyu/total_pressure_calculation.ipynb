{
 "cells": [
  {
   "cell_type": "markdown",
   "id": "e5bb9194-cbba-48bc-81c9-7f2c02662943",
   "metadata": {},
   "source": [
    "Task Description\n",
    "\n",
    "- [Total pressure calculation](https://www.codewars.com/kata/5b7ea71db90cc0f17c000a5a/train/python)\n",
    "\n",
    "Sample Tests\n",
    "\n",
    "```python\n",
    "test.describe(\"Tests\")\n",
    "test.it(\"Sample tests\")\n",
    "test.assert_approx_equals(solution(44, 30, 3, 2, 5, 50), 0.7146511212121212);\n",
    "test.assert_approx_equals(solution(60, 20, 10, 30, 10, 100), 5.099716666666667);\n",
    "```"
   ]
  },
  {
   "cell_type": "code",
   "execution_count": 3,
   "id": "3ded990b-85db-47c8-8533-68d534448a0f",
   "metadata": {},
   "outputs": [],
   "source": [
    "def solution(molar_mass1, molar_mass2, given_mass1, given_mass2, volume, temp) :\n",
    "    return (((given_mass1 / molar_mass1) + (given_mass2  / molar_mass2)) * (temp + 273.15) * 0.082) / volume"
   ]
  }
 ],
 "metadata": {
  "kernelspec": {
   "display_name": "Python 3 (ipykernel)",
   "language": "python",
   "name": "python3"
  },
  "language_info": {
   "codemirror_mode": {
    "name": "ipython",
    "version": 3
   },
   "file_extension": ".py",
   "mimetype": "text/x-python",
   "name": "python",
   "nbconvert_exporter": "python",
   "pygments_lexer": "ipython3",
   "version": "3.9.7"
  }
 },
 "nbformat": 4,
 "nbformat_minor": 5
}
