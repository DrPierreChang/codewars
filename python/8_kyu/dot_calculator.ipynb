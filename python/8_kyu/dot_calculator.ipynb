{
 "cells": [
  {
   "cell_type": "markdown",
   "id": "5ee61d79-6ec0-4c12-8c3c-76f6426cde58",
   "metadata": {},
   "source": [
    "```\n",
    "Dot Calculator\n",
    "You have to write a calculator that receives strings for input. The dots will represent the number in the equation. There will be dots on one side, an operator, and dots again after the operator. The dots and the operator will be separated by one space.\n",
    "\n",
    "Here are the following valid operators :\n",
    "\n",
    "+ Addition\n",
    "- Subtraction\n",
    "* Multiplication\n",
    "// Integer Division\n",
    "Your Work (Task)\n",
    "You'll have to return a string that contains dots, as many the equation returns. If the result is 0, return the empty string. When it comes to subtraction, the first number will always be greater than or equal to the second number.\n",
    "\n",
    "Examples (Input => Output)\n",
    "* \"..... + ...............\" => \"....................\"\n",
    "* \"..... - ...\"             => \"..\"\n",
    "* \"..... - .\"               => \"....\"\n",
    "* \"..... * ...\"             => \"...............\"\n",
    "* \"..... * ..\"              => \"..........\"\n",
    "* \"..... // ..\"             => \"..\"\n",
    "* \"..... // .\"              => \".....\"\n",
    "* \". // ..\"                 => \"\"\n",
    "* \".. - ..\"                 => \"\"\n",
    "```"
   ]
  },
  {
   "cell_type": "code",
   "execution_count": 25,
   "id": "3e61f90b-edef-4c3b-ba45-fec0b0a12216",
   "metadata": {},
   "outputs": [],
   "source": [
    "import re\n",
    "def calculator(txt):\n",
    "    oper = re.sub(\"[ .]\", \"\", txt)\n",
    "    dots = txt.split(oper)\n",
    "    first = dots[0].count(\".\")\n",
    "    second = dots[1].count(\".\")\n",
    "    return eval(f\"{str(first)} {oper} {str(second)}\") * '.'\n",
    "\n",
    "assert calculator(\"..... + ...............\") == \"....................\""
   ]
  },
  {
   "cell_type": "code",
   "execution_count": 45,
   "id": "52237a35-c3a3-416f-8116-373e3ca08b5e",
   "metadata": {},
   "outputs": [],
   "source": [
    "import re\n",
    "def calculator(txt):\n",
    "    a, oper, b = txt.split()\n",
    "    a, b = len(a), len(b)\n",
    "    return eval(f\"{a} {oper} {b}\") * '.'\n",
    "\n",
    "assert calculator(\"..... + ...............\") == \"....................\""
   ]
  }
 ],
 "metadata": {
  "kernelspec": {
   "display_name": "Python 3 (ipykernel)",
   "language": "python",
   "name": "python3"
  },
  "language_info": {
   "codemirror_mode": {
    "name": "ipython",
    "version": 3
   },
   "file_extension": ".py",
   "mimetype": "text/x-python",
   "name": "python",
   "nbconvert_exporter": "python",
   "pygments_lexer": "ipython3",
   "version": "3.9.7"
  }
 },
 "nbformat": 4,
 "nbformat_minor": 5
}
