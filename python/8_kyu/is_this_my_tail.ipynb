{
 "cells": [
  {
   "cell_type": "markdown",
   "id": "191e919b-4110-4531-bb91-5bb871495235",
   "metadata": {},
   "source": [
    "Some new animals have arrived at the zoo. The zoo keeper is concerned that perhaps the animals do not have the right tails. To help her, you must correct the broken function to make sure that the second argument (tail), is the same as the last letter of the first argument (body) - otherwise the tail wouldn't fit!\n",
    "\n",
    "If the tail is right return true, else return false.\n",
    "\n",
    "The arguments will always be strings, and normal letters.\n",
    "\n",
    "For Haskell, body has the type of String and tail has the type of Char. For Go, body has type string and tail has type rune.\n",
    "\n",
    "Sample Tests\n",
    "```python\n",
    "import codewars_test as test\n",
    "from solution import correct_tail\n",
    "\n",
    "@test.describe(\"Fixed Tests\")\n",
    "def fixed_tests():\n",
    "    @test.it('Basic Test Cases')\n",
    "    def basic_test_cases():\n",
    "        test.assert_equals(correct_tail(\"Fox\", \"x\"), True)\n",
    "        test.assert_equals(correct_tail(\"Rhino\", \"o\"), True)\n",
    "        test.assert_equals(correct_tail(\"Meerkat\", \"t\"), True)\n",
    "        test.assert_equals(correct_tail(\"Emu\", \"t\"), False)\n",
    "        test.assert_equals(correct_tail(\"Badger\", \"s\"), False)\n",
    "        test.assert_equals(correct_tail(\"Giraffe\", \"d\"), False)\n",
    "```"
   ]
  },
  {
   "cell_type": "code",
   "execution_count": 1,
   "id": "65a90956-7b5a-45e4-9191-2ba4c7906633",
   "metadata": {},
   "outputs": [],
   "source": [
    "def correct_tail(body, tail):\n",
    "    return body[-1] == tail"
   ]
  }
 ],
 "metadata": {
  "kernelspec": {
   "display_name": "Python 3 (ipykernel)",
   "language": "python",
   "name": "python3"
  },
  "language_info": {
   "codemirror_mode": {
    "name": "ipython",
    "version": 3
   },
   "file_extension": ".py",
   "mimetype": "text/x-python",
   "name": "python",
   "nbconvert_exporter": "python",
   "pygments_lexer": "ipython3",
   "version": "3.9.7"
  }
 },
 "nbformat": 4,
 "nbformat_minor": 5
}
