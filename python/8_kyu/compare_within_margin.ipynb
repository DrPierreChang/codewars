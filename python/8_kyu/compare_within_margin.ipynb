{
 "cells": [
  {
   "cell_type": "markdown",
   "id": "3155b6bc-d276-4d2a-8758-cd9261d89677",
   "metadata": {},
   "source": [
    "Create a function close_compare that accepts 3 parameters: a, b, and an optional margin.\n",
    "\n",
    "The function should return whether a is lower than, close to, or higher than b.\n",
    "\n",
    "a is considered \"close to\" b if margin is greater than or equal to the distance between a and b.\n",
    "\n",
    "Please note the following:\n",
    "\n",
    "When a is close to b, return 0.\n",
    "\n",
    "Otherwise...\n",
    "\n",
    "When a is less than b, return -1.\n",
    "\n",
    "When a is greater than b, return 1.\n",
    "\n",
    "If margin is not given, treat it as zero.\n",
    "\n",
    "Assume: margin >= 0\n",
    "\n",
    "Tip: Some languages have a way to make parameters optional.\n",
    "\n",
    "Example 1\n",
    "\n",
    "If a = 3, b = 5, and margin = 3, then close_compare(a, b, margin) should return 0.\n",
    "\n",
    "This is because a and b are no more than 3 numbers apart.\n",
    "\n",
    "Example 2\n",
    "\n",
    "If a = 3, b = 5, and margin = 0, then close_compare(a, b, margin) should return -1.\n",
    "\n",
    "This is because the distance between a and b is greater than 0, and a is less than b.\n",
    "\n",
    "Sample Tests\n",
    "\n",
    "```python\n",
    "test.it(\"No margin\")\n",
    "test.assert_equals(close_compare(4, 5), -1)\n",
    "test.assert_equals(close_compare(5, 5), 0)\n",
    "test.assert_equals(close_compare(6, 5), 1)\n",
    "\n",
    "test.it(\"With margin of 3\")\n",
    "test.assert_equals(close_compare(2, 5, 3), 0)\n",
    "test.assert_equals(close_compare(5, 5, 3), 0)\n",
    "test.assert_equals(close_compare(8, 5, 3), 0)\n",
    "test.assert_equals(close_compare(8.1, 5, 3), 1)\n",
    "test.assert_equals(close_compare(1.99, 5, 3), -1)\n",
    "```"
   ]
  },
  {
   "cell_type": "code",
   "execution_count": 25,
   "id": "f1758e66-f7a1-4fe2-93e4-91f631439ad0",
   "metadata": {},
   "outputs": [
    {
     "name": "stdout",
     "output_type": "stream",
     "text": [
      "-1\n"
     ]
    }
   ],
   "source": [
    "def close_compare(a, b, margin = 0):\n",
    "    if abs(a - b) <= margin:\n",
    "        return 0\n",
    "\n",
    "    return 1 if (a > b) else - 1\n",
    "\n",
    "print(close_compare(1.99, 5, 3))"
   ]
  }
 ],
 "metadata": {
  "kernelspec": {
   "display_name": "Python 3 (ipykernel)",
   "language": "python",
   "name": "python3"
  },
  "language_info": {
   "codemirror_mode": {
    "name": "ipython",
    "version": 3
   },
   "file_extension": ".py",
   "mimetype": "text/x-python",
   "name": "python",
   "nbconvert_exporter": "python",
   "pygments_lexer": "ipython3",
   "version": "3.9.7"
  }
 },
 "nbformat": 4,
 "nbformat_minor": 5
}
