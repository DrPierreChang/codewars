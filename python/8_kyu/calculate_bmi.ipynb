{
 "cells": [
  {
   "cell_type": "markdown",
   "id": "84f76221-0be7-431d-84da-3c1bdfefd967",
   "metadata": {},
   "source": [
    "Write function bmi that calculates body mass index (bmi = weight / height2).\n",
    "\n",
    "if bmi <= 18.5 return \"Underweight\"\n",
    "\n",
    "if bmi <= 25.0 return \"Normal\"\n",
    "\n",
    "if bmi <= 30.0 return \"Overweight\"\n",
    "\n",
    "if bmi > 30 return \"Obese\"\n",
    "\n",
    "Sample Tests\n",
    "\n",
    "```python\n",
    "@test.describe(\"Fixed Tests\")\n",
    "def fixed_tests():\n",
    "    @test.it('Basic Test Cases')\n",
    "    def basic_test_cases():\n",
    "        test.assert_equals(bmi(50, 1.80), \"Underweight\")\n",
    "        test.assert_equals(bmi(80, 1.80), \"Normal\")\n",
    "        test.assert_equals(bmi(90, 1.80), \"Overweight\")\n",
    "        test.assert_equals(bmi(110, 1.80), \"Obese\")\n",
    "        test.assert_equals(bmi(50, 1.50), \"Normal\")\n",
    "```"
   ]
  },
  {
   "cell_type": "code",
   "execution_count": 42,
   "id": "bbc47dd1-45dd-4037-ad9f-5736dcbe0adc",
   "metadata": {},
   "outputs": [
    {
     "name": "stdout",
     "output_type": "stream",
     "text": [
      "Overweight\n"
     ]
    }
   ],
   "source": [
    "def bmi(weight, height):\n",
    "    bmi = weight/height**2\n",
    "    conditions = {bmi > 30:\"Obese\", bmi <= 30:\"Overweight\", bmi <= 25:\"Normal\", bmi <= 18.5:\"Underweight\"}\n",
    "    return conditions[True]\n",
    "        \n",
    "print(bmi(90, 1.80))"
   ]
  },
  {
   "cell_type": "code",
   "execution_count": 43,
   "id": "a9b6cd62-f0b5-4bd4-aa53-74d3d791f617",
   "metadata": {},
   "outputs": [],
   "source": [
    "def bmi(weight, height):\n",
    "    b = weight / height ** 2\n",
    "    return ['Underweight', 'Normal', 'Overweight', 'Obese'][(b > 30) + (b > 25) + (b > 18.5)]"
   ]
  }
 ],
 "metadata": {
  "kernelspec": {
   "display_name": "Python 3 (ipykernel)",
   "language": "python",
   "name": "python3"
  },
  "language_info": {
   "codemirror_mode": {
    "name": "ipython",
    "version": 3
   },
   "file_extension": ".py",
   "mimetype": "text/x-python",
   "name": "python",
   "nbconvert_exporter": "python",
   "pygments_lexer": "ipython3",
   "version": "3.9.7"
  }
 },
 "nbformat": 4,
 "nbformat_minor": 5
}
