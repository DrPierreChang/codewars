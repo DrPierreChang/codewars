{
 "cells": [
  {
   "cell_type": "markdown",
   "id": "07b03f48-7da8-49b4-bc75-9a382e73e502",
   "metadata": {},
   "source": [
    "I would like to be able to pass an array with two elements to my swapValues function to swap the values. However it appears that the values aren't changing.\n",
    "\n",
    "Can you figure out what's wrong here?\n",
    "\n",
    "Sample Tests\n",
    "\n",
    "```python\n",
    "arr = [1, 2]\n",
    "swap_values(arr)\n",
    "test.assert_equals(arr, [2, 1])\n",
    "```\n",
    "\n"
   ]
  },
  {
   "cell_type": "code",
   "execution_count": 1,
   "id": "aea5bd90-f00c-4288-8ca9-7948176fcba5",
   "metadata": {},
   "outputs": [],
   "source": [
    "def swap_values(args): \n",
    "    args[0], args[1] = args[1], args[0]\n",
    "    return args"
   ]
  }
 ],
 "metadata": {
  "kernelspec": {
   "display_name": "Python 3 (ipykernel)",
   "language": "python",
   "name": "python3"
  },
  "language_info": {
   "codemirror_mode": {
    "name": "ipython",
    "version": 3
   },
   "file_extension": ".py",
   "mimetype": "text/x-python",
   "name": "python",
   "nbconvert_exporter": "python",
   "pygments_lexer": "ipython3",
   "version": "3.9.7"
  }
 },
 "nbformat": 4,
 "nbformat_minor": 5
}
