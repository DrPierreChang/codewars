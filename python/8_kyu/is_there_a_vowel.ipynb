{
 "cells": [
  {
   "cell_type": "markdown",
   "id": "b0fc0d6c-c3c5-40f7-b4a2-4db9a7392221",
   "metadata": {},
   "source": [
    "Given an array of numbers, check if any of the numbers are the character codes for lower case vowels (a, e, i, o, u).\n",
    "\n",
    "If they are, change the array value to a string of that vowel.\n",
    "\n",
    "Return the resulting array.\n",
    "\n",
    "Sample Tests\n",
    "\n",
    "```python\n",
    "import codewars_test as test\n",
    "from solution import is_vow\n",
    "\n",
    "@test.describe(\"Fixed Tests\")\n",
    "def fixed_tests():\n",
    "    @test.it('Basic Test Cases')\n",
    "    def basic_test_cases():\n",
    "        \n",
    "        tests = (\n",
    "            ([118, \"u\",120,121,\"u\",98,122,\"a\",120,106,104,116,113,114,113,120,106 ], [118,117,120,121,117,98,122,97,120,106,104,116,113,114,113,120,106 ]),\n",
    "            ([\"e\",121,110,113,113,103,121,121,\"e\",107,103 ], [101,121,110,113,113,103,121,121,101,107,103 ]),\n",
    "            ([118,103,110,109,104,106 ], [118,103,110,109,104,106 ]),\n",
    "            ([107,99,110,107,118,106,112,102 ], [107,99,110,107,118,106,112,102 ]),\n",
    "            ([100,100,116,\"i\",\"u\",121 ], [100,100,116,105,117,121 ]),\n",
    "        )\n",
    "        \n",
    "        for exp, inp in tests:\n",
    "            test.assert_equals(is_vow(inp), exp)\n",
    "\n",
    "```\n",
    "\n",
    "ASS-kee\n",
    "\n",
    "References \n",
    "\n",
    "- [How to get the ASCII value of a character](https://stackoverflow.com/questions/227459/how-to-get-the-ascii-value-of-a-character)"
   ]
  },
  {
   "cell_type": "code",
   "execution_count": 10,
   "id": "b1c34fb4-6b8f-4591-a716-558337ecfb5c",
   "metadata": {},
   "outputs": [
    {
     "name": "stdout",
     "output_type": "stream",
     "text": [
      "[97, 105, 101, 117, 111]\n"
     ]
    }
   ],
   "source": [
    "tmp = []\n",
    "vowels = {\"a\", \"e\", \"i\", \"o\", \"u\"}\n",
    "for i in vowels:\n",
    "    tmp.append(ord(i))\n",
    "\n",
    "print(tmp)"
   ]
  },
  {
   "cell_type": "code",
   "execution_count": 5,
   "id": "3425c149-74d0-478f-a411-5c659c204b66",
   "metadata": {},
   "outputs": [
    {
     "name": "stdout",
     "output_type": "stream",
     "text": [
      "[100, 100, 116, 'i', 'u', 121]\n"
     ]
    }
   ],
   "source": [
    "def is_vow(inp):\n",
    "    vowels = {97, 105, 101, 117, 111}\n",
    "    return list(chr(i) if i in vowels else i for i in inp)\n",
    "\n",
    "print(is_vow([100,100,116,105,117,121 ]))"
   ]
  },
  {
   "cell_type": "code",
   "execution_count": 11,
   "id": "03aab2ce-de18-4f1d-b97a-ca3f2bd34af2",
   "metadata": {},
   "outputs": [],
   "source": [
    "def is_vow(s):\n",
    "    vowels = {97: 'a', 111: 'o', 117: 'u', 101: 'e', 105: 'i'}\n",
    "    return [vowels.get(a, a) for a in s]"
   ]
  }
 ],
 "metadata": {
  "kernelspec": {
   "display_name": "Python 3 (ipykernel)",
   "language": "python",
   "name": "python3"
  },
  "language_info": {
   "codemirror_mode": {
    "name": "ipython",
    "version": 3
   },
   "file_extension": ".py",
   "mimetype": "text/x-python",
   "name": "python",
   "nbconvert_exporter": "python",
   "pygments_lexer": "ipython3",
   "version": "3.9.7"
  }
 },
 "nbformat": 4,
 "nbformat_minor": 5
}
