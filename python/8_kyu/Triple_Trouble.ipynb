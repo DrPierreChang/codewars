{
 "cells": [
  {
   "cell_type": "markdown",
   "id": "e39913a7-b76e-43c0-85aa-0ff3656726f1",
   "metadata": {},
   "source": [
    "```\n",
    "Triple Trouble\n",
    "Create a function that will return a string that combines all of the letters of the three inputed strings in groups. Taking the first letter of all of the inputs and grouping them next to each other. Do this for every letter, see example below!\n",
    "\n",
    "E.g. Input: \"aa\", \"bb\" , \"cc\" => Output: \"abcabc\"\n",
    "\n",
    "Note: You can expect all of the inputs to be the same length.\n",
    "```"
   ]
  },
  {
   "cell_type": "code",
   "execution_count": 28,
   "id": "0cb96f8a-12ef-4b65-9b47-49f8ea25890c",
   "metadata": {},
   "outputs": [],
   "source": [
    "def triple_trouble(*args):\n",
    "    return ''.join(''.join(i) for i in zip(*args))\n",
    "\n",
    "\n",
    "assert triple_trouble(\"aaa\",\"bbb\",\"ccc\") == \"abcabcabc\"\n",
    "assert triple_trouble(\"aaaaaa\",\"bbbbbb\",\"cccccc\") == \"abcabcabcabcabcabc\"\n",
    "assert triple_trouble(\"burn\", \"reds\", \"roll\") == \"brrueordlnsl\"\n",
    "assert triple_trouble(\"Bm\", \"aa\", \"tn\") == \"Batman\"\n",
    "assert triple_trouble(\"LLh\", \"euo\", \"xtr\") == \"LexLuthor\""
   ]
  }
 ],
 "metadata": {
  "kernelspec": {
   "display_name": "Python 3 (ipykernel)",
   "language": "python",
   "name": "python3"
  },
  "language_info": {
   "codemirror_mode": {
    "name": "ipython",
    "version": 3
   },
   "file_extension": ".py",
   "mimetype": "text/x-python",
   "name": "python",
   "nbconvert_exporter": "python",
   "pygments_lexer": "ipython3",
   "version": "3.9.7"
  }
 },
 "nbformat": 4,
 "nbformat_minor": 5
}
