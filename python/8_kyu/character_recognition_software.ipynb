{
 "cells": [
  {
   "cell_type": "markdown",
   "id": "dbe0cd4b-a6a3-44a1-8cea-55efef4592d1",
   "metadata": {},
   "source": [
    "Character recognition software is widely used to digitise printed texts. Thus the texts can be edited, searched and stored on a computer.\n",
    "\n",
    "When documents (especially pretty old ones written with a typewriter), are digitised character recognition softwares often make mistakes.\n",
    "\n",
    "Your task is correct the errors in the digitised text. You only have to handle the following mistakes:\n",
    "\n",
    "- S is misinterpreted as 5\n",
    "- O is misinterpreted as 0\n",
    "- I is misinterpreted as 1\n",
    "\n",
    "The test cases contain numbers only by mistake.\n",
    "\n",
    "\n",
    "\n",
    "Samplt Tests\n",
    "\n",
    "```python\n",
    "from solution import correct\n",
    "import codewars_test as test\n",
    "\n",
    "@test.describe(\"Example tests\")\n",
    "def _():\n",
    "    @test.it(\"Example tests\")\n",
    "    def _():\n",
    "        test.assert_equals(correct(\"L0ND0N\"), \"LONDON\")\n",
    "        test.assert_equals(correct(\"DUBL1N\"), \"DUBLIN\")\n",
    "        test.assert_equals(correct(\"51NGAP0RE\"), \"SINGAPORE\")\n",
    "        test.assert_equals(correct(\"BUDAPE5T\"), \"BUDAPEST\")\n",
    "        test.assert_equals(correct(\"PAR15\"), \"PARIS\")\n",
    "```"
   ]
  },
  {
   "cell_type": "code",
   "execution_count": 3,
   "id": "7133c5fa-4515-43f4-9d05-9dfde71d83b0",
   "metadata": {},
   "outputs": [
    {
     "name": "stdout",
     "output_type": "stream",
     "text": [
      "SINGAPORE\n"
     ]
    }
   ],
   "source": [
    "def correct(s):\n",
    "    mistakes = {\"5\":\"S\", \"1\":\"I\", \"0\":\"O\"}\n",
    "    return \"\".join(mistakes[i] if i.isdigit() else i for i in s)\n",
    "\n",
    "print(correct(\"51NGAP0RE\"))"
   ]
  },
  {
   "cell_type": "code",
   "execution_count": 2,
   "id": "56d9a81b-b145-4991-8b70-7daa94220ec4",
   "metadata": {},
   "outputs": [
    {
     "name": "stdout",
     "output_type": "stream",
     "text": [
      "SINGAPORE\n"
     ]
    }
   ],
   "source": [
    "def correct(string):\n",
    "    return string.translate(str.maketrans(\"501\", \"SOI\"))\n",
    "\n",
    "print(correct(\"51NGAP0RE\"))"
   ]
  }
 ],
 "metadata": {
  "kernelspec": {
   "display_name": "Python 3 (ipykernel)",
   "language": "python",
   "name": "python3"
  },
  "language_info": {
   "codemirror_mode": {
    "name": "ipython",
    "version": 3
   },
   "file_extension": ".py",
   "mimetype": "text/x-python",
   "name": "python",
   "nbconvert_exporter": "python",
   "pygments_lexer": "ipython3",
   "version": "3.9.7"
  }
 },
 "nbformat": 4,
 "nbformat_minor": 5
}
