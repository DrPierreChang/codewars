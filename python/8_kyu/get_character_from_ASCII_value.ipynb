{
 "cells": [
  {
   "cell_type": "markdown",
   "id": "f50ad694-a92f-491e-9fd2-0ecbee899d2d",
   "metadata": {},
   "source": [
    "Write a function which takes a number and returns the corresponding ASCII char for that value.\n",
    "\n",
    "Example:\n",
    "```\n",
    "get_char(65) # => 'A'\n",
    "```\n",
    "For ASCII table, you can refer to http://www.asciitable.com/\n",
    "\n",
    "Sample Tests\n",
    "\n",
    "```python\n",
    "test.assert_equals(get_char(65),'A')\n",
    "```"
   ]
  },
  {
   "cell_type": "code",
   "execution_count": 1,
   "id": "41c50f42-eddb-405a-8752-97b998484ab2",
   "metadata": {},
   "outputs": [],
   "source": [
    "def get_char(c):\n",
    "    return chr(c)"
   ]
  }
 ],
 "metadata": {
  "kernelspec": {
   "display_name": "Python 3 (ipykernel)",
   "language": "python",
   "name": "python3"
  },
  "language_info": {
   "codemirror_mode": {
    "name": "ipython",
    "version": 3
   },
   "file_extension": ".py",
   "mimetype": "text/x-python",
   "name": "python",
   "nbconvert_exporter": "python",
   "pygments_lexer": "ipython3",
   "version": "3.9.7"
  }
 },
 "nbformat": 4,
 "nbformat_minor": 5
}
