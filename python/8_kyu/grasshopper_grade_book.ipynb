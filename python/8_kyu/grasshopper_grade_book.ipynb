{
 "cells": [
  {
   "cell_type": "markdown",
   "id": "d038c45e-e1fa-4fa5-b92a-6dd7d150f1a6",
   "metadata": {},
   "source": [
    "#### Grade book\n",
    "\n",
    "Complete the function so that it finds the average of the three scores passed to it and returns the letter value associated with that grade.\n",
    "\n",
    "Numerical Score\tLetter Grade\n",
    "```\n",
    "90 <= score <= 100\t'A'\n",
    "80 <= score < 90\t'B'\n",
    "70 <= score < 80\t'C'\n",
    "60 <= score < 70\t'D'\n",
    "0 <= score < 60\t'F'\n",
    "```\n",
    "\n",
    "Tested values are all between 0 and 100. Theres is no need to check for negative values or values greater than 100.\n",
    "\n",
    "Sample Tests\n",
    "\n",
    "```python\n",
    "import codewars_test as test\n",
    "from solution import get_grade\n",
    "\n",
    "@test.describe(\"Grade book\")\n",
    "def fixed_tests():\n",
    "    @test.it('should return an A')\n",
    "    def a_test_case():\n",
    "        test.assert_equals(get_grade(95, 90, 93), \"A\", \"get_grade(95, 90, 93)\")\n",
    "        test.assert_equals(get_grade(100, 85, 96), \"A\", \"get_grade(100, 85, 96)\")\n",
    "        test.assert_equals(get_grade(92, 93, 94), \"A\", \"get_grade(92, 93, 94)\")\n",
    "        test.assert_equals(get_grade(100, 100, 100), \"A\", \"get_grade(100, 100, 100)\")\n",
    "\n",
    "    @test.it(\"should return a B\")\n",
    "    def b_test_case():\n",
    "        test.assert_equals(get_grade(70, 70, 100), \"B\", \"get_grade(70, 70, 100)\")\n",
    "        test.assert_equals(get_grade(82, 85, 87), \"B\", \"get_grade(82, 85, 87)\")\n",
    "        test.assert_equals(get_grade(84, 79, 85), \"B\", \"get_grade(84, 79, 85)\")\n",
    "\n",
    "    @test.it(\"should return a C\")\n",
    "    def c_test_case():\n",
    "        test.assert_equals(get_grade(70, 70, 70), \"C\", \"get_grade(70, 70, 70)\")\n",
    "        test.assert_equals(get_grade(75, 70, 79), \"C\", \"get_grade(75, 70, 79)\")\n",
    "        test.assert_equals(get_grade(60, 82, 76), \"C\", \"get_grade(60, 82, 76)\")\n",
    "\n",
    "    @test.it(\"should return a D\")\n",
    "    def d_test_case():\n",
    "        test.assert_equals(get_grade(65, 70, 59), \"D\", \"get_grade(65, 70, 59)\")\n",
    "        test.assert_equals(get_grade(66, 62, 68), \"D\", \"get_grade(66, 62, 68)\")\n",
    "        test.assert_equals(get_grade(58, 62, 70), \"D\", \"get_grade(58, 62, 70)\")\n",
    "\n",
    "    @test.it(\"should return an F\")\n",
    "    def f_test_case():\n",
    "        test.assert_equals(get_grade(44, 55, 52), \"F\", \"get_grade(44, 55, 52)\")\n",
    "        test.assert_equals(get_grade(48, 55, 52), \"F\", \"get_grade(48, 55, 52)\")\n",
    "        test.assert_equals(get_grade(58, 59, 60), \"F\", \"get_grade(58, 59, 60)\")\n",
    "        test.assert_equals(get_grade(0, 0, 0), \"F\", \"get_grade(0, 0, 0)\")\n",
    "```"
   ]
  },
  {
   "cell_type": "code",
   "execution_count": 6,
   "id": "edf6ab52-77c4-4744-aee3-d120726236e7",
   "metadata": {},
   "outputs": [],
   "source": [
    "def get_grade(s1, s2, s3):\n",
    "    score = sum([s1, s2, s3]) / 3\n",
    "    d = {1:\"A\", 2:\"B\", 3:\"C\", 4:\"D\", 5:\"F\"}\n",
    "    return d[sum([score <= 100, score < 90, score < 80, score < 70, 0 <= score < 60])]"
   ]
  }
 ],
 "metadata": {
  "kernelspec": {
   "display_name": "Python 3 (ipykernel)",
   "language": "python",
   "name": "python3"
  },
  "language_info": {
   "codemirror_mode": {
    "name": "ipython",
    "version": 3
   },
   "file_extension": ".py",
   "mimetype": "text/x-python",
   "name": "python",
   "nbconvert_exporter": "python",
   "pygments_lexer": "ipython3",
   "version": "3.9.7"
  }
 },
 "nbformat": 4,
 "nbformat_minor": 5
}
