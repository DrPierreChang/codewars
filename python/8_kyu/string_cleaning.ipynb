{
 "cells": [
  {
   "cell_type": "markdown",
   "id": "055a7d28-4421-438a-a913-264c5d26a29a",
   "metadata": {},
   "source": [
    "```\n",
    "Your boss decided to save money by purchasing some cut-rate optical character recognition software for scanning in the text of old novels to your database. At first it seems to capture words okay, but you quickly notice that it throws in a lot of numbers at random places in the text. For example:\n",
    "\n",
    "string_clean('! !') == '! !'\n",
    "string_clean('123456789') == ''\n",
    "string_clean('This looks5 grea8t!') == 'This looks great!'\n",
    "Your harried co-workers are looking to you for a solution to take this garbled text and remove all of the numbers. Your program will take in a string and clean out all numeric characters, and return a string with spacing and special characters ~#$%^&!@*():;\"'.,? all intact.\n",
    "```"
   ]
  },
  {
   "cell_type": "code",
   "execution_count": 33,
   "id": "ea8aa083-954f-4090-b451-97e76649440a",
   "metadata": {},
   "outputs": [],
   "source": [
    "# def string_clean(string):\n",
    "#     \"\"\"\n",
    "#     Function will return the cleaned string\n",
    "#     \"\"\"\n",
    "#     return \"\".join(symbol for symbol in string if not symbol.isdigit())\n",
    "\n",
    "def string_clean(s):\n",
    "    return s.translate(str.maketrans(' ', ' ', '1234567890'))\n",
    "\n",
    "\n",
    "assert string_clean('! !') == '! !'\n",
    "assert string_clean('123456789') == ''\n",
    "assert string_clean('This looks5 grea8t!') == 'This looks great!'"
   ]
  }
 ],
 "metadata": {
  "kernelspec": {
   "display_name": "Python 3 (ipykernel)",
   "language": "python",
   "name": "python3"
  },
  "language_info": {
   "codemirror_mode": {
    "name": "ipython",
    "version": 3
   },
   "file_extension": ".py",
   "mimetype": "text/x-python",
   "name": "python",
   "nbconvert_exporter": "python",
   "pygments_lexer": "ipython3",
   "version": "3.9.7"
  }
 },
 "nbformat": 4,
 "nbformat_minor": 5
}
