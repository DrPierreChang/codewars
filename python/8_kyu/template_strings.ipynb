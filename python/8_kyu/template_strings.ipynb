{
 "cells": [
  {
   "cell_type": "markdown",
   "id": "39637fa9-118d-4325-afea-c14ec6e26d9d",
   "metadata": {},
   "source": [
    "# Template Strings\n",
    "\n",
    "Template Strings, this kata is mainly aimed at the new JS ES6 Update introducing Template Strings\n",
    "\n",
    "#### Task\n",
    "\n",
    "Your task is to return the correct string using the Template String Feature.\n",
    "\n",
    "#### Input\n",
    "\n",
    "Two Strings, no validation is needed.\n",
    "\n",
    "#### Output\n",
    "\n",
    "You must output a string containing the two strings with the word ```' are '```\n",
    "Reference: https://developer.mozilla.org/en/docs/Web/JavaScript/Reference/template_strings\n",
    "\n",
    "Sample Tests\n",
    "\n",
    "```python\n",
    "import codewars_test as test\n",
    "from solution import temple_strings\n",
    "\n",
    "@test.describe('Example Tests')\n",
    "def example_tests():\n",
    "    test.assert_equals(temple_strings(\"Animals\",\"Good\"), 'Animals are Good')\n",
    "    test.assert_equals(temple_strings(\"Animals\",\"Good\"), 'Animals are Good')\n",
    "    test.assert_equals(temple_strings(\"You\",\"Special\"), 'You are Special')\n",
    "    test.assert_equals(temple_strings(\"lives\",\"frozen\"), 'lives are frozen')\n",
    "```"
   ]
  },
  {
   "cell_type": "code",
   "execution_count": 1,
   "id": "875da9f5-546a-4cf2-81d1-2a14721280eb",
   "metadata": {},
   "outputs": [],
   "source": [
    "def temple_strings(obj, feature): \n",
    "    return f\"{obj} are {feature}\""
   ]
  }
 ],
 "metadata": {
  "kernelspec": {
   "display_name": "Python 3 (ipykernel)",
   "language": "python",
   "name": "python3"
  },
  "language_info": {
   "codemirror_mode": {
    "name": "ipython",
    "version": 3
   },
   "file_extension": ".py",
   "mimetype": "text/x-python",
   "name": "python",
   "nbconvert_exporter": "python",
   "pygments_lexer": "ipython3",
   "version": "3.9.7"
  }
 },
 "nbformat": 4,
 "nbformat_minor": 5
}
