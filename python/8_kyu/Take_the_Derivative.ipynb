{
 "cells": [
  {
   "cell_type": "markdown",
   "id": "b6da8472-e97e-4205-8ef2-15b54408338d",
   "metadata": {},
   "source": [
    "```\n",
    "This function takes two numbers as parameters, the first number being the coefficient, and the second number being the exponent.\n",
    "\n",
    "Your function should multiply the two numbers, and then subtract 1 from the exponent. Then, it has to print out an expression (like 28x^7). \"^1\" should not be truncated when exponent = 2.\n",
    "\n",
    "For example:\n",
    "\n",
    "derive(7, 8)\n",
    "In this case, the function should multiply 7 and 8, and then subtract 1 from 8. It should output \"56x^7\", the first number 56 being the product of the two numbers, and the second number being the exponent minus 1.\n",
    "\n",
    "derive(7, 8) --> this should output \"56x^7\" \n",
    "derive(5, 9) --> this should output \"45x^8\" \n",
    "Notes:\n",
    "\n",
    "The output of this function should be a string\n",
    "The exponent will never be 1, and neither number will ever be 0\n",
    "```"
   ]
  },
  {
   "cell_type": "code",
   "execution_count": 4,
   "id": "6f28f316-b01c-4591-ac2a-a25319b4a610",
   "metadata": {},
   "outputs": [],
   "source": [
    "def derive(coefficient, exponent): \n",
    "    return f\"{coefficient * exponent}x^{exponent-1}\"\n",
    "\n",
    "\n",
    "assert derive(7,8) == \"56x^7\"\n",
    "assert derive(5,9) == \"45x^8\""
   ]
  }
 ],
 "metadata": {
  "kernelspec": {
   "display_name": "Python 3 (ipykernel)",
   "language": "python",
   "name": "python3"
  },
  "language_info": {
   "codemirror_mode": {
    "name": "ipython",
    "version": 3
   },
   "file_extension": ".py",
   "mimetype": "text/x-python",
   "name": "python",
   "nbconvert_exporter": "python",
   "pygments_lexer": "ipython3",
   "version": "3.9.7"
  }
 },
 "nbformat": 4,
 "nbformat_minor": 5
}
