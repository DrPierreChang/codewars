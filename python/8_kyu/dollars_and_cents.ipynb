{
 "cells": [
  {
   "cell_type": "raw",
   "id": "b109b111-4c22-4ea1-8209-9bced411e526",
   "metadata": {},
   "source": [
    "```\n",
    "The company you work for has just been awarded a contract to build a payment gateway. In order to help move things along, you have volunteered to create a function that will take a float and return the amount formatting in dollars and cents.\n",
    "\n",
    "39.99 becomes $39.99\n",
    "\n",
    "The rest of your team will make sure that the argument is sanitized before being passed to your function although you will need to account for adding trailing zeros if they are missing (though you won't have to worry about a dangling period).\n",
    "\n",
    "Examples:\n",
    "\n",
    "3 needs to become $3.00\n",
    "\n",
    "3.1 needs to become $3.10\n",
    "Good luck! Your team knows they can count on you!\n",
    "```"
   ]
  },
  {
   "cell_type": "code",
   "execution_count": 23,
   "id": "87dbe78c-03da-4c7e-b2fb-c04f50068a17",
   "metadata": {},
   "outputs": [],
   "source": [
    "def format_money(amount):\n",
    "    return f\"${amount:.2f}\"\n",
    "\n",
    "assert format_money(3) == \"$3.00\""
   ]
  }
 ],
 "metadata": {
  "kernelspec": {
   "display_name": "Python 3 (ipykernel)",
   "language": "python",
   "name": "python3"
  },
  "language_info": {
   "codemirror_mode": {
    "name": "ipython",
    "version": 3
   },
   "file_extension": ".py",
   "mimetype": "text/x-python",
   "name": "python",
   "nbconvert_exporter": "python",
   "pygments_lexer": "ipython3",
   "version": "3.9.7"
  }
 },
 "nbformat": 4,
 "nbformat_minor": 5
}
