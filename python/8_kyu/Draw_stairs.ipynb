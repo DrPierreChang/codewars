{
 "cells": [
  {
   "cell_type": "markdown",
   "id": "1473a003-5fae-438c-afb2-a86129ae25c6",
   "metadata": {},
   "source": [
    "```\n",
    "Given a number n, draw stairs using the letter \"I\", n tall and n wide, with the tallest in the top left.\n",
    "\n",
    "For example n = 3 result in:\n",
    "\n",
    "\"I\\n I\\n  I\"\n",
    "or printed:\n",
    "\n",
    "I\n",
    " I\n",
    "  I\n",
    "Another example, a 7-step stairs should be drawn like this:\n",
    "\n",
    "I\n",
    " I\n",
    "  I\n",
    "   I\n",
    "    I\n",
    "     I\n",
    "      I\n",
    "```"
   ]
  },
  {
   "cell_type": "code",
   "execution_count": 6,
   "id": "38b351ae-b928-4bee-b41a-450020d79502",
   "metadata": {},
   "outputs": [],
   "source": [
    "def draw_stairs(n):\n",
    "    return '\\n'.join(' ' * i + 'I' for i in range(n))\n",
    "\n",
    "assert draw_stairs(3) == 'I\\n I\\n  I'"
   ]
  }
 ],
 "metadata": {
  "kernelspec": {
   "display_name": "Python 3 (ipykernel)",
   "language": "python",
   "name": "python3"
  },
  "language_info": {
   "codemirror_mode": {
    "name": "ipython",
    "version": 3
   },
   "file_extension": ".py",
   "mimetype": "text/x-python",
   "name": "python",
   "nbconvert_exporter": "python",
   "pygments_lexer": "ipython3",
   "version": "3.9.7"
  }
 },
 "nbformat": 4,
 "nbformat_minor": 5
}
