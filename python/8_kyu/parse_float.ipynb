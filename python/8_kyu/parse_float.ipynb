{
 "cells": [
  {
   "cell_type": "markdown",
   "id": "f5744ba9-a98f-4f46-9483-d08765048577",
   "metadata": {},
   "source": [
    "Write function parse_float which takes a string/list and returns a number or 'none' if conversion is not possible.\n",
    "\n",
    "Sample Tests\n",
    "\n",
    "```\n",
    "import codewars_test as test\n",
    "from solution import parse_float\n",
    "\n",
    "@test.describe(\"Fixed Tests\")\n",
    "def fixed_tests():\n",
    "    @test.it('Basic Test Cases')\n",
    "    def basic_test_cases():\n",
    "        ts = (\n",
    "            (\"1.0\", 1.0),\n",
    "            (\"a\", None),\n",
    "            (\"234.0234\", 234.0234)\n",
    "        )\n",
    "        \n",
    "        for t in ts:\n",
    "            test.assert_equals(parse_float(t[0]), t[1])\n",
    "```"
   ]
  },
  {
   "cell_type": "code",
   "execution_count": 1,
   "id": "05c40f50-a28f-41c8-a435-6c29c999c4ed",
   "metadata": {},
   "outputs": [],
   "source": [
    "def parse_float(string):\n",
    "    try:\n",
    "        return float(string)\n",
    "    except:\n",
    "        pass"
   ]
  }
 ],
 "metadata": {
  "kernelspec": {
   "display_name": "Python 3 (ipykernel)",
   "language": "python",
   "name": "python3"
  },
  "language_info": {
   "codemirror_mode": {
    "name": "ipython",
    "version": 3
   },
   "file_extension": ".py",
   "mimetype": "text/x-python",
   "name": "python",
   "nbconvert_exporter": "python",
   "pygments_lexer": "ipython3",
   "version": "3.9.7"
  }
 },
 "nbformat": 4,
 "nbformat_minor": 5
}
