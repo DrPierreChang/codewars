{
 "cells": [
  {
   "cell_type": "markdown",
   "id": "3756cef9-325e-4890-85dc-03d5a0726f8d",
   "metadata": {},
   "source": [
    "- Kids drink toddy.\n",
    "- Teens drink coke.\n",
    "- Young adults drink beer.\n",
    "- Adults drink whisky.\n",
    "\n",
    "Make a function that receive age, and return what they drink.\n",
    "\n",
    "Rules:\n",
    "\n",
    "- Children under 14 old.\n",
    "- Teens under 18 old.\n",
    "- Young under 21 old.\n",
    "- Adults have 21 or more.\n",
    "\n",
    "Examples: (Input --> Output)\n",
    "\n",
    "```\n",
    "13 --> \"drink toddy\"\n",
    "17 --> \"drink coke\"\n",
    "18 --> \"drink beer\"\n",
    "20 --> \"drink beer\"\n",
    "30 --> \"drink whisky\"\n",
    "```\n",
    "\n",
    "Samplt Tests\n",
    "\n",
    "```python\n",
    "import codewars_test as test\n",
    "from solution import people_with_age_drink\n",
    "\n",
    "@test.describe(\"Fixed Tests\")\n",
    "def fixed_tests():\n",
    "    @test.it(\"should return 'drink toddy' when age is less than 14\")\n",
    "    def _():\n",
    "        test.assert_equals(people_with_age_drink(13), 'drink toddy', \"Wrong result for 13\")\n",
    "        test.assert_equals(people_with_age_drink(0), 'drink toddy', \"Wrong result for 0\")\n",
    "\n",
    "    @test.it(\"should return 'drink coke' when age is between 14(inclusive) and 18(exclusive)\")\n",
    "    def _():\n",
    "        test.assert_equals(people_with_age_drink(17), 'drink coke')\n",
    "        test.assert_equals(people_with_age_drink(15), 'drink coke')\n",
    "        test.assert_equals(people_with_age_drink(14), 'drink coke')\n",
    "        \n",
    "    @test.it(\"should return 'drink beer' when age is between 18(inclusive) and 21(exclusive)\")\n",
    "    def _(): \n",
    "        test.assert_equals(people_with_age_drink(20), 'drink beer')\n",
    "        test.assert_equals(people_with_age_drink(18), 'drink beer')\n",
    "        \n",
    "    @test.it(\"should return 'drink whisky' when age is greater than or equal to 21\")\n",
    "    def _():\n",
    "        test.assert_equals(people_with_age_drink(22), 'drink whisky')\n",
    "        test.assert_equals(people_with_age_drink(21), 'drink whisky')\n",
    "```"
   ]
  },
  {
   "cell_type": "code",
   "execution_count": 1,
   "id": "fab815bb-e263-41c0-9408-261fc4c5f707",
   "metadata": {},
   "outputs": [
    {
     "name": "stdout",
     "output_type": "stream",
     "text": [
      "13 drink toddy\n",
      "14 drink coke\n",
      "15 drink coke\n",
      "16 drink coke\n",
      "17 drink coke\n",
      "18 drink beer\n",
      "19 drink beer\n",
      "20 drink beer\n",
      "21 drink whisky\n",
      "22 drink whisky\n"
     ]
    }
   ],
   "source": [
    "def people_with_age_drink(age):\n",
    "    if age < 14:\n",
    "        return \"drink toddy\"\n",
    "    elif age < 18:\n",
    "        return \"drink coke\"\n",
    "    elif age < 21:\n",
    "        return \"drink beer\"\n",
    "    else:\n",
    "        return \"drink whisky\"\n",
    "\n",
    "for i in range(13, 23):\n",
    "    print(i, people_with_age_drink(i))"
   ]
  },
  {
   "cell_type": "code",
   "execution_count": 29,
   "id": "8a68a015-9975-4937-bb9c-c87b49ddd0ce",
   "metadata": {},
   "outputs": [
    {
     "name": "stdout",
     "output_type": "stream",
     "text": [
      "[0]\n",
      "13 drink toddy\n",
      "[1]\n",
      "14 drink coke\n",
      "[1]\n",
      "15 drink coke\n",
      "[1]\n",
      "16 drink coke\n",
      "[1]\n",
      "17 drink coke\n",
      "[2]\n",
      "18 drink beer\n",
      "[2]\n",
      "19 drink beer\n",
      "[2]\n",
      "20 drink beer\n",
      "[3]\n",
      "21 drink whisky\n",
      "[3]\n",
      "22 drink whisky\n"
     ]
    }
   ],
   "source": [
    "def people_with_age_drink(age):\n",
    "    print([(age >= 21) + (age > 17) + (age > 13)])\n",
    "    return [\"drink toddy\", \"drink coke\", \"drink beer\", \"drink whisky\"][(age >= 21) + (age > 17) + (age > 13)]\n",
    "\n",
    "\n",
    "for i in range(13, 23):\n",
    "    print(i, people_with_age_drink(i))"
   ]
  }
 ],
 "metadata": {
  "kernelspec": {
   "display_name": "Python 3 (ipykernel)",
   "language": "python",
   "name": "python3"
  },
  "language_info": {
   "codemirror_mode": {
    "name": "ipython",
    "version": 3
   },
   "file_extension": ".py",
   "mimetype": "text/x-python",
   "name": "python",
   "nbconvert_exporter": "python",
   "pygments_lexer": "ipython3",
   "version": "3.9.7"
  }
 },
 "nbformat": 4,
 "nbformat_minor": 5
}
