{
 "cells": [
  {
   "cell_type": "markdown",
   "id": "075c1f70-fe1f-4141-a8cc-b73573d356b2",
   "metadata": {},
   "source": [
    "Issue\n",
    "\n",
    "Looks like some hoodlum plumber and his brother has been running around and damaging your stages again.\n",
    "\n",
    "The pipes connecting your level's stages together need to be fixed before you receive any more complaints. Each pipe should be connecting, since the levels ascend, you can assume every number in the sequence after the first index will be greater than the previous and that there will be no duplicates.\n",
    "\n",
    "Task\n",
    "\n",
    "Given the a list of numbers, return the list so that the values increment by 1 for each index up to the maximum value.\n",
    "\n",
    "Example\n",
    "```\n",
    "Input: 1,3,5,6,7,8\n",
    "\n",
    "Output: 1,2,3,4,5,6,7,8\n",
    "```\n",
    "\n",
    "Samplt Tests\n",
    "\n",
    "```python\n",
    "import codewars_test as test\n",
    "from solution import pipe_fix\n",
    "\n",
    "\n",
    "@test.it(\"Fixed tests\")\n",
    "def _fixed():\n",
    "    test.assert_equals(pipe_fix([1, 2, 3, 5, 6, 8, 9]), [1, 2, 3, 4, 5, 6, 7, 8, 9])\n",
    "    test.assert_equals(pipe_fix([1, 2, 3, 12]), [1, 2, 3, 4, 5, 6, 7, 8, 9, 10, 11, 12])\n",
    "    test.assert_equals(pipe_fix([6, 9]), [6, 7, 8, 9])\n",
    "    test.assert_equals(pipe_fix([-1, 4]), [-1, 0, 1, 2, 3, 4])\n",
    "    test.assert_equals(pipe_fix([1, 2, 3]), [1, 2, 3])\n",
    "```"
   ]
  },
  {
   "cell_type": "code",
   "execution_count": 3,
   "id": "f7547aed-1333-4c2b-9cac-862e70870df2",
   "metadata": {},
   "outputs": [],
   "source": [
    "def pipe_fix(nums):\n",
    "    return list(range(nums[0], nums[-1]+1))"
   ]
  }
 ],
 "metadata": {
  "kernelspec": {
   "display_name": "Python 3 (ipykernel)",
   "language": "python",
   "name": "python3"
  },
  "language_info": {
   "codemirror_mode": {
    "name": "ipython",
    "version": 3
   },
   "file_extension": ".py",
   "mimetype": "text/x-python",
   "name": "python",
   "nbconvert_exporter": "python",
   "pygments_lexer": "ipython3",
   "version": "3.9.7"
  }
 },
 "nbformat": 4,
 "nbformat_minor": 5
}
