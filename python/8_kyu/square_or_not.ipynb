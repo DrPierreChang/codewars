{
 "cells": [
  {
   "cell_type": "markdown",
   "id": "37df1488-5c1d-47c4-8897-379198d19e3c",
   "metadata": {},
   "source": [
    "```\n",
    "Write a method, that will get an integer array as parameter and will process every number from this array.\n",
    "\n",
    "Return a new array with processing every number of the input-array like this:\n",
    "\n",
    "If the number has an integer square root, take this, otherwise square the number.\n",
    "\n",
    "Example\n",
    "[4,3,9,7,2,1] -> [2,9,3,49,4,1]\n",
    "Notes\n",
    "The input array will always contain only positive numbers, and will never be empty or null.\n",
    "```"
   ]
  },
  {
   "cell_type": "code",
   "execution_count": 22,
   "id": "8c3fc7c2-e6cc-40f2-9b4d-6edfd2204479",
   "metadata": {},
   "outputs": [],
   "source": [
    "def square_or_square_root(arr):\n",
    "    result = []\n",
    "    for num in arr:\n",
    "        root = num ** 0.5\n",
    "        if root.is_integer():\n",
    "            result.append(root)\n",
    "        else:\n",
    "            result.append(num * num)\n",
    "    return result\n",
    "\n",
    "\n",
    "assert square_or_square_root([4,3,9,7,2,1]) == [2,9,3,49,4,1]"
   ]
  }
 ],
 "metadata": {
  "kernelspec": {
   "display_name": "Python 3 (ipykernel)",
   "language": "python",
   "name": "python3"
  },
  "language_info": {
   "codemirror_mode": {
    "name": "ipython",
    "version": 3
   },
   "file_extension": ".py",
   "mimetype": "text/x-python",
   "name": "python",
   "nbconvert_exporter": "python",
   "pygments_lexer": "ipython3",
   "version": "3.9.7"
  }
 },
 "nbformat": 4,
 "nbformat_minor": 5
}
