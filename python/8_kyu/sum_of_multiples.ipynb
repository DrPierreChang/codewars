{
 "cells": [
  {
   "cell_type": "markdown",
   "id": "a02d9e98-89e6-4d60-b189-67809bdeac1d",
   "metadata": {},
   "source": [
    "```\n",
    "Your Job\n",
    "Find the sum of all multiples of n below m\n",
    "\n",
    "Keep in Mind\n",
    "n and m are natural numbers (positive integers)\n",
    "m is excluded from the multiples\n",
    "Examples\n",
    "sumMul(2, 9)   ==> 2 + 4 + 6 + 8 = 20\n",
    "sumMul(3, 13)  ==> 3 + 6 + 9 + 12 = 30\n",
    "sumMul(4, 123) ==> 4 + 8 + 12 + ... = 1860\n",
    "sumMul(4, -7)  ==> \"INVALID\"\n",
    "```"
   ]
  },
  {
   "cell_type": "code",
   "execution_count": 2,
   "id": "262b9ac6-cafc-49a9-9d4a-a98fca4df09b",
   "metadata": {},
   "outputs": [],
   "source": [
    "def sum_mul(n, m):\n",
    "    if n * m > 0:\n",
    "        return sum(i for i in range(n, m) if i % n == 0)\n",
    "    return 'INVALID'"
   ]
  },
  {
   "cell_type": "code",
   "execution_count": 4,
   "id": "8f42f27d-3544-4604-b469-f61260068125",
   "metadata": {},
   "outputs": [],
   "source": [
    "def sum_mul(n, m):\n",
    "    if n * m > 0:\n",
    "        return sum(range(n, m, n))\n",
    "    return 'INVALID'"
   ]
  },
  {
   "cell_type": "code",
   "execution_count": 6,
   "id": "d6066c79-9e70-4fec-b394-f695d92b641a",
   "metadata": {},
   "outputs": [
    {
     "data": {
      "text/plain": [
       "20"
      ]
     },
     "execution_count": 6,
     "metadata": {},
     "output_type": "execute_result"
    }
   ],
   "source": [
    "sum_mul(2, 9)"
   ]
  }
 ],
 "metadata": {
  "kernelspec": {
   "display_name": "Python 3 (ipykernel)",
   "language": "python",
   "name": "python3"
  },
  "language_info": {
   "codemirror_mode": {
    "name": "ipython",
    "version": 3
   },
   "file_extension": ".py",
   "mimetype": "text/x-python",
   "name": "python",
   "nbconvert_exporter": "python",
   "pygments_lexer": "ipython3",
   "version": "3.9.7"
  }
 },
 "nbformat": 4,
 "nbformat_minor": 5
}
