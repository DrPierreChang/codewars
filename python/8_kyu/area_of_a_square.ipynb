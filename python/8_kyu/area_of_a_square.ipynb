{
 "cells": [
  {
   "cell_type": "markdown",
   "id": "3d5b7b0d-6d80-42d9-b793-12aaef0aad8d",
   "metadata": {},
   "source": [
    "Complete the function that calculates the area of the red square, when the length of the circular arc A is given as the input. Return the result rounded to two decimals.\n",
    "\n",
    "Graph\n",
    "\n",
    "<img src=\"images/arc.png\" alt=\"red square\">\n",
    "\n",
    "Note: use the π value provided in your language (Math::PI, M_PI, math.pi, etc)\n",
    "\n",
    "Sample Tests\n",
    "\n",
    "```python\n",
    "@test.describe(\"Fixed tests\")\n",
    "def fixed_tests():\n",
    "    @test.it(\"\")\n",
    "    def f():\n",
    "        test.assert_equals(square_area(2), 1.62)\n",
    "        test.assert_equals(square_area(0), 0)\n",
    "        test.assert_equals(square_area(14.05), 80)\n",
    "        test.assert_equals(square_area(1), 0.41)\n",
    "        test.assert_equals(square_area(100), 4052.85)\n",
    "```"
   ]
  },
  {
   "cell_type": "code",
   "execution_count": 2,
   "id": "fd278ed0-fe9b-44b0-82c5-2d5c20fe822d",
   "metadata": {},
   "outputs": [],
   "source": [
    "from math import pi\n",
    "def square_area(A):\n",
    "    return round((2 * A / pi)**2, 2)"
   ]
  }
 ],
 "metadata": {
  "kernelspec": {
   "display_name": "Python 3 (ipykernel)",
   "language": "python",
   "name": "python3"
  },
  "language_info": {
   "codemirror_mode": {
    "name": "ipython",
    "version": 3
   },
   "file_extension": ".py",
   "mimetype": "text/x-python",
   "name": "python",
   "nbconvert_exporter": "python",
   "pygments_lexer": "ipython3",
   "version": "3.9.7"
  }
 },
 "nbformat": 4,
 "nbformat_minor": 5
}
