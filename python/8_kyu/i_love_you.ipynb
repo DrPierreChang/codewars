{
 "cells": [
  {
   "cell_type": "markdown",
   "id": "a3260bec-6904-4b77-8a76-2e5663840376",
   "metadata": {},
   "source": [
    "Who remembers back to their time in the schoolyard, when girls would take a flower and tear its petals, saying each of the following phrases each time a petal was torn:\n",
    "\n",
    "- I love you\n",
    "- a little\n",
    "- a lot\n",
    "- passionately\n",
    "- madly\n",
    "- not at all\n",
    "\n",
    "When the last petal was torn there were cries of excitement, dreams, surging thoughts and emotions.\n",
    "\n",
    "Your goal in this kata is to determine which phrase the girls would say for a flower of a given number of petals, where nb_petals > 0.\n",
    "\n",
    "Sample Tests\n",
    "\n",
    "```python\n",
    "import codewars_test as test\n",
    "from solution import how_much_i_love_you\n",
    "\n",
    "@test.describe(\"Fixed Tests\")\n",
    "def fixed_tests():\n",
    "    @test.it('Basic Test Cases')\n",
    "    def basic_test_cases():\n",
    "        test.assert_equals(how_much_i_love_you(7),\"I love you\")\n",
    "        test.assert_equals(how_much_i_love_you(3),\"a lot\")\n",
    "        test.assert_equals(how_much_i_love_you(6),\"not at all\")\n",
    "```"
   ]
  },
  {
   "cell_type": "code",
   "execution_count": 2,
   "id": "a7a8dd06-05e0-48fe-aba3-7250ea7e0c6f",
   "metadata": {},
   "outputs": [
    {
     "data": {
      "text/plain": [
       "'not at all'"
      ]
     },
     "execution_count": 2,
     "metadata": {},
     "output_type": "execute_result"
    }
   ],
   "source": [
    "# solution\n",
    "def how_much_i_love_you(nb_petals):\n",
    "    phrases = [\"I love you\", \"a little\", \"a lot\", \"passionately\", \"madly\", \"not at all\"]\n",
    "    return phrases[nb_petals % 6 - 1]\n",
    "\n",
    "how_much_i_love_you(6)"
   ]
  }
 ],
 "metadata": {
  "kernelspec": {
   "display_name": "Python 3 (ipykernel)",
   "language": "python",
   "name": "python3"
  },
  "language_info": {
   "codemirror_mode": {
    "name": "ipython",
    "version": 3
   },
   "file_extension": ".py",
   "mimetype": "text/x-python",
   "name": "python",
   "nbconvert_exporter": "python",
   "pygments_lexer": "ipython3",
   "version": "3.9.7"
  }
 },
 "nbformat": 4,
 "nbformat_minor": 5
}
