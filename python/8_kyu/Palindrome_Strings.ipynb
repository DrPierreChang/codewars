{
 "cells": [
  {
   "cell_type": "markdown",
   "id": "07efcb8b-12c7-41ab-aee3-1f20a122e0c5",
   "metadata": {},
   "source": [
    "```\n",
    "Palindrome strings\n",
    "A palindrome is a word, phrase, number, or other sequence of characters which reads the same backward or forward. This includes capital letters, punctuation, and word dividers.\n",
    "\n",
    "Implement a function that checks if something is a palindrome. If the input is a number, convert it to string first.\n",
    "\n",
    "Examples\n",
    "isPalindrome(\"anna\")   ==> true\n",
    "isPalindrome(\"walter\") ==> false\n",
    "isPalindrome(12321)    ==> true\n",
    "isPalindrome(123456)   ==> false\n",
    "```"
   ]
  },
  {
   "cell_type": "code",
   "execution_count": 3,
   "id": "75c8a646-8abe-412f-97ce-7126bf25f375",
   "metadata": {},
   "outputs": [],
   "source": [
    "def is_palindrome(string):\n",
    "    string = str(string).lower()\n",
    "    return string == string[::-1]"
   ]
  }
 ],
 "metadata": {
  "kernelspec": {
   "display_name": "Python 3 (ipykernel)",
   "language": "python",
   "name": "python3"
  },
  "language_info": {
   "codemirror_mode": {
    "name": "ipython",
    "version": 3
   },
   "file_extension": ".py",
   "mimetype": "text/x-python",
   "name": "python",
   "nbconvert_exporter": "python",
   "pygments_lexer": "ipython3",
   "version": "3.9.7"
  }
 },
 "nbformat": 4,
 "nbformat_minor": 5
}
