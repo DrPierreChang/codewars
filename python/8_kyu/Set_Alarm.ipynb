{
 "cells": [
  {
   "cell_type": "markdown",
   "id": "4e7b984d-80a9-47fc-9c81-8eeeb3f2bfb1",
   "metadata": {},
   "source": [
    "```\n",
    "Write a function named setAlarm which receives two parameters. The first parameter, employed, is true whenever you are employed and the second parameter, vacation is true whenever you are on vacation.\n",
    "\n",
    "The function should return true if you are employed and not on vacation (because these are the circumstances under which you need to set an alarm). It should return false otherwise. Examples:\n",
    "```"
   ]
  },
  {
   "cell_type": "code",
   "execution_count": 9,
   "id": "9b43fff8-e0ee-4493-a2f5-cb63832f0635",
   "metadata": {},
   "outputs": [],
   "source": [
    "def set_alarm(employed, vacation):\n",
    "    return employed > vacation or False\n",
    "\n",
    "\n",
    "assert set_alarm(True, True) is False\n",
    "assert set_alarm(False, True) is False\n",
    "assert set_alarm(False, False) is False\n",
    "assert set_alarm(True, False) is True"
   ]
  }
 ],
 "metadata": {
  "kernelspec": {
   "display_name": "Python 3 (ipykernel)",
   "language": "python",
   "name": "python3"
  },
  "language_info": {
   "codemirror_mode": {
    "name": "ipython",
    "version": 3
   },
   "file_extension": ".py",
   "mimetype": "text/x-python",
   "name": "python",
   "nbconvert_exporter": "python",
   "pygments_lexer": "ipython3",
   "version": "3.9.7"
  }
 },
 "nbformat": 4,
 "nbformat_minor": 5
}
