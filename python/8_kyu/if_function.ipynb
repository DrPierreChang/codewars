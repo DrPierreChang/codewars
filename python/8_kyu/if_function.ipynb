{
 "cells": [
  {
   "cell_type": "raw",
   "id": "995b6db6-33f8-4959-b9c8-d491fa8cdaee",
   "metadata": {},
   "source": [
    "Create a function called _if which takes 3 arguments: a boolean value bool and 2 functions (which do not take any parameters): func1 and func2\n",
    "\n",
    "When bool is truth-ish, func1 should be called, otherwise call the func2."
   ]
  },
  {
   "cell_type": "markdown",
   "id": "572423a6-4601-4165-9e88-e493d2f41625",
   "metadata": {},
   "source": [
    "```\n",
    "Example:\n",
    "def truthy(): \n",
    "  print(\"True\")\n",
    "  \n",
    "def falsey(): \n",
    "  print(\"False\")\n",
    "  \n",
    "_if(True, truthy, falsey)\n",
    "# prints 'True' to the console\n",
    "```"
   ]
  },
  {
   "cell_type": "code",
   "execution_count": 15,
   "id": "f2ec0a73-24d2-432d-944e-69808003b7d3",
   "metadata": {},
   "outputs": [],
   "source": [
    "def truthy(): \n",
    "  return True\n",
    "  \n",
    "def falsey(): \n",
    "  return False\n",
    "\n",
    "def _if(bool, func1, func2):\n",
    "    return func1() if bool else func2()\n",
    "\n",
    "\n",
    "assert _if(True, truthy, falsey) == True\n",
    "assert _if(False, truthy, falsey) == False"
   ]
  },
  {
   "cell_type": "code",
   "execution_count": 17,
   "id": "0ba82203-0d8b-469d-aae3-5a0fa81edb40",
   "metadata": {},
   "outputs": [],
   "source": [
    "def truthy(): \n",
    "  return True\n",
    "  \n",
    "def falsey(): \n",
    "  return False\n",
    "\n",
    "def _if(bool, func1, func2):\n",
    "    return [False, True][bool]\n",
    "\n",
    "\n",
    "assert _if(True, truthy, falsey) == True\n",
    "assert _if(False, truthy, falsey) == False"
   ]
  }
 ],
 "metadata": {
  "kernelspec": {
   "display_name": "Python 3 (ipykernel)",
   "language": "python",
   "name": "python3"
  },
  "language_info": {
   "codemirror_mode": {
    "name": "ipython",
    "version": 3
   },
   "file_extension": ".py",
   "mimetype": "text/x-python",
   "name": "python",
   "nbconvert_exporter": "python",
   "pygments_lexer": "ipython3",
   "version": "3.9.7"
  }
 },
 "nbformat": 4,
 "nbformat_minor": 5
}
