{
 "cells": [
  {
   "cell_type": "markdown",
   "id": "4c41ae6d-6b65-4cbc-93c0-c6f255ca39b0",
   "metadata": {},
   "source": [
    "Story:\n",
    "\n",
    "You are going to make toast fast, you think that you should make multiple pieces of toasts and once. So, you try to make 6 pieces of toast.\n",
    "\n",
    "Problem:\n",
    "\n",
    "You forgot to count the number of toast you put into there, you don't know if you put exactly six pieces of toast into the toasters.\n",
    "\n",
    "Define a function that counts how many more (or less) pieces of toast you need in the toasters. Even though you need more or less, the number will still be positive, not negative.\n",
    "\n",
    "Examples:\n",
    "\n",
    "You must return the number of toast the you need to put in (or to take out). In case of 5 you can still put 1 toast in:\n",
    "```\n",
    "six_toast(5) == 1\n",
    "```\n",
    "And in case of 12 you need 6 toasts less (but not -6):\n",
    "```\n",
    "six_toast(12) == 6\n",
    "```\n",
    "\n",
    "Sample Tests\n",
    "\n",
    "```python\n",
    "import codewars_test as test\n",
    "from solution import six_toast\n",
    "\n",
    "@test.describe(\"Fixed Tests\")\n",
    "def fixed_tests():\n",
    "    @test.it('Basic Test Cases')\n",
    "    def basic_test_cases():\n",
    "        test.assert_equals(six_toast(15), 9)\n",
    "        test.assert_equals(six_toast(6), 0)\n",
    "        test.assert_equals(six_toast(3), 3)\n",
    "```"
   ]
  },
  {
   "cell_type": "code",
   "execution_count": 1,
   "id": "f19583e3-337b-4c60-b674-6b89ce5c6766",
   "metadata": {},
   "outputs": [],
   "source": [
    "def six_toast(num):\n",
    "    return abs(6 - num)"
   ]
  }
 ],
 "metadata": {
  "kernelspec": {
   "display_name": "Python 3 (ipykernel)",
   "language": "python",
   "name": "python3"
  },
  "language_info": {
   "codemirror_mode": {
    "name": "ipython",
    "version": 3
   },
   "file_extension": ".py",
   "mimetype": "text/x-python",
   "name": "python",
   "nbconvert_exporter": "python",
   "pygments_lexer": "ipython3",
   "version": "3.9.7"
  }
 },
 "nbformat": 4,
 "nbformat_minor": 5
}
