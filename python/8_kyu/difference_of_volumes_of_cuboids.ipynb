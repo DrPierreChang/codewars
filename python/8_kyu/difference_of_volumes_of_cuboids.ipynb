{
 "cells": [
  {
   "cell_type": "markdown",
   "id": "2bf1721a-a833-4bf8-ae5d-838e36600946",
   "metadata": {},
   "source": [
    "In this simple exercise, you will create a program that will take two lists of integers, a and b.\n",
    "\n",
    "Each list will consist of 3 positive integers above 0, representing the dimensions of cuboids a and b.\n",
    "\n",
    "You must find the difference of the cuboids' volumes regardless of which is bigger.\n",
    "\n",
    "For example, if the parameters passed are ([2, 2, 3], [5, 4, 1]), the volume of a is 12 and the volume of b is 20. Therefore, the function should return 8.\n",
    "\n",
    "Your function will be tested with pre-made examples as well as random ones.\n",
    "\n",
    "If you can, try writing it in one line of code.\n",
    "\n",
    "\n",
    "Sample Tests\n",
    "\n",
    "```python\n",
    "import codewars_test as test\n",
    "from solution import find_difference\n",
    "\n",
    "@test.describe(\"Fixed Tests\")\n",
    "def fixed_tests():\n",
    "    @test.it('Basic Test Cases')\n",
    "    def basic_test_cases():\n",
    "        test.assert_equals(find_difference([3, 2, 5], [1, 4, 4]), 14, \"{0} should equal 14\".format(find_difference([3, 2, 5], [1, 4, 4])))\n",
    "        test.assert_equals(find_difference([9, 7, 2], [5, 2, 2]), 106, \"{0} should equal 106\".format(find_difference([9, 7, 2], [5, 2, 2])))\n",
    "```"
   ]
  },
  {
   "cell_type": "code",
   "execution_count": 2,
   "id": "3a8582f7-c178-476a-8ba4-4b0eb1b06ac7",
   "metadata": {},
   "outputs": [
    {
     "name": "stdout",
     "output_type": "stream",
     "text": [
      "14\n",
      "106\n"
     ]
    }
   ],
   "source": [
    "from functools import reduce\n",
    "def find_difference(a, b):\n",
    "    return abs(reduce(lambda x,y: x * y, a) - reduce(lambda x,y: x * y, b))\n",
    "\n",
    "\n",
    "print(find_difference([3, 2, 5], [1, 4, 4]))\n",
    "print(find_difference([9, 7, 2], [5, 2, 2]))"
   ]
  },
  {
   "cell_type": "code",
   "execution_count": 33,
   "id": "9980e5a2-ac99-4a45-b808-d58d074b9917",
   "metadata": {},
   "outputs": [
    {
     "name": "stdout",
     "output_type": "stream",
     "text": [
      "14\n",
      "106\n"
     ]
    }
   ],
   "source": [
    "def find_difference(a, b): \n",
    "    return abs(a[0]*a[1]*a[2] - b[0]*b[1]*b[2])\n",
    "\n",
    "\n",
    "print(find_difference([3, 2, 5], [1, 4, 4]))\n",
    "print(find_difference([9, 7, 2], [5, 2, 2]))"
   ]
  }
 ],
 "metadata": {
  "kernelspec": {
   "display_name": "Python 3 (ipykernel)",
   "language": "python",
   "name": "python3"
  },
  "language_info": {
   "codemirror_mode": {
    "name": "ipython",
    "version": 3
   },
   "file_extension": ".py",
   "mimetype": "text/x-python",
   "name": "python",
   "nbconvert_exporter": "python",
   "pygments_lexer": "ipython3",
   "version": "3.9.7"
  }
 },
 "nbformat": 4,
 "nbformat_minor": 5
}
