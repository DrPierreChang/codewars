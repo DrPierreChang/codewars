{
 "cells": [
  {
   "cell_type": "markdown",
   "id": "ae1db271-dc7b-45ab-97a5-ed7972959ebc",
   "metadata": {},
   "source": [
    "Make multiple functions that will return the sum, difference, modulus, product, quotient, and the exponent respectively.\n",
    "\n",
    "Please use the following function names:\n",
    "\n",
    "addition = add\n",
    "\n",
    "multiply = multiply\n",
    "\n",
    "division = divide (both integer and float divisions are accepted)\n",
    "\n",
    "modulus = mod\n",
    "\n",
    "exponential = exponent\n",
    "\n",
    "subtraction = subt\n",
    "\n",
    "Note: All math operations will be: a (operation) b\n",
    "\n",
    "a (operation) b*\n",
    "\n",
    "Sample Tests\n",
    "\n",
    "```python\n",
    "# Regular Test Cases that apply to your ADD and MULTIPLY functs.\n",
    "test.assert_equals(add(1, 2), 3)\n",
    "test.assert_equals(multiply(1, 2), 2)\n",
    "\n",
    "# Add your own ones if you want.\n",
    "# For example: test.assert_equals(add(a, b), a + b)\n",
    "# Fill in values for the variables above    \n",
    "```\n",
    "\n",
    "References\n",
    "\n",
    "- [operator — Standard operators as functions](https://docs.python.org/3/library/operator.html)"
   ]
  },
  {
   "cell_type": "code",
   "execution_count": 3,
   "id": "3dfd9f85-80a6-42f4-a9ba-b2007ad52377",
   "metadata": {},
   "outputs": [],
   "source": [
    "import operator \n",
    "\n",
    "add = operator.add\n",
    "multiply = operator.mul\n",
    "divide = operator.floordiv\n",
    "mod = operator.mod\n",
    "exponent = operator.pow\n",
    "subt = operator.sub"
   ]
  },
  {
   "cell_type": "code",
   "execution_count": 5,
   "id": "363b0dd0-f764-4706-bca1-73e4ecf37f51",
   "metadata": {},
   "outputs": [],
   "source": [
    "# Batteries included!\n",
    "from operator import add, mul as multiply, floordiv as divide, mod, pow as exponent, sub as subt"
   ]
  },
  {
   "cell_type": "code",
   "execution_count": 7,
   "id": "25d01162-eaad-4813-a181-2608804bdea1",
   "metadata": {},
   "outputs": [],
   "source": [
    "from operator import (\n",
    "    add as add,\n",
    "    mul as multiply,\n",
    "    floordiv as divide,\n",
    "    mod as mod,\n",
    "    pow as exponent,\n",
    "    sub as subt,\n",
    ")"
   ]
  }
 ],
 "metadata": {
  "kernelspec": {
   "display_name": "Python 3 (ipykernel)",
   "language": "python",
   "name": "python3"
  },
  "language_info": {
   "codemirror_mode": {
    "name": "ipython",
    "version": 3
   },
   "file_extension": ".py",
   "mimetype": "text/x-python",
   "name": "python",
   "nbconvert_exporter": "python",
   "pygments_lexer": "ipython3",
   "version": "3.9.7"
  }
 },
 "nbformat": 4,
 "nbformat_minor": 5
}
