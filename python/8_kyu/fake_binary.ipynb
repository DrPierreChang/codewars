{
 "cells": [
  {
   "cell_type": "markdown",
   "id": "067fe74b-ac95-40a9-8c04-0140ccea315e",
   "metadata": {},
   "source": [
    "Given a string of digits, you should replace any digit below 5 with '0' and any digit 5 and above with '1'. Return the resulting string.\n",
    "\n",
    "Sample Tests\n",
    "\n",
    "```python\n",
    "import codewars_test as test\n",
    "from solution import fake_bin\n",
    "\n",
    "@test.describe(\"Fixed Tests\")\n",
    "def fixed_tests():\n",
    "    @test.it('Basic Test Cases')\n",
    "    def basic_test_cases():\n",
    "        tests = [\n",
    "            # [expected, input]\n",
    "            [\"01011110001100111\", \"45385593107843568\"],\n",
    "            [\"101000111101101\", \"509321967506747\"],\n",
    "            [\"011011110000101010000011011\", \"366058562030849490134388085\"],\n",
    "            [\"01111100\", \"15889923\"],\n",
    "            [\"100111001111\", \"800857237867\"],\n",
    "        ]\n",
    "        \n",
    "        for exp, inp in tests:\n",
    "            test.assert_equals(fake_bin(inp), exp)\n",
    "```"
   ]
  },
  {
   "cell_type": "code",
   "execution_count": 1,
   "id": "e358ac93-1cf4-4e03-b781-4a8b5f162a6d",
   "metadata": {},
   "outputs": [],
   "source": [
    "def fake_bin(x):\n",
    "    return \"\".join(\"0\" if i < \"5\" else \"1\" for i in x)"
   ]
  }
 ],
 "metadata": {
  "kernelspec": {
   "display_name": "Python 3 (ipykernel)",
   "language": "python",
   "name": "python3"
  },
  "language_info": {
   "codemirror_mode": {
    "name": "ipython",
    "version": 3
   },
   "file_extension": ".py",
   "mimetype": "text/x-python",
   "name": "python",
   "nbconvert_exporter": "python",
   "pygments_lexer": "ipython3",
   "version": "3.9.7"
  }
 },
 "nbformat": 4,
 "nbformat_minor": 5
}
