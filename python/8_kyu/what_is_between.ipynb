{
 "cells": [
  {
   "cell_type": "markdown",
   "id": "74794418-f1c8-4a6c-979e-f24fc37257d1",
   "metadata": {},
   "source": [
    "Complete the function that takes two integers (a, b, where a < b) and return an array of all integers between the input parameters, including them.\n",
    "\n",
    "For example:\n",
    "\n",
    "```\n",
    "a = 1\n",
    "b = 4\n",
    "--> [1, 2, 3, 4]\n",
    "```"
   ]
  },
  {
   "cell_type": "code",
   "execution_count": 1,
   "id": "e067aeaa-cde3-42e6-b10c-8d5db4a97fee",
   "metadata": {},
   "outputs": [],
   "source": [
    "def between(a,b):\n",
    "    return list(range(a, b + 1))"
   ]
  }
 ],
 "metadata": {
  "kernelspec": {
   "display_name": "Python 3 (ipykernel)",
   "language": "python",
   "name": "python3"
  },
  "language_info": {
   "codemirror_mode": {
    "name": "ipython",
    "version": 3
   },
   "file_extension": ".py",
   "mimetype": "text/x-python",
   "name": "python",
   "nbconvert_exporter": "python",
   "pygments_lexer": "ipython3",
   "version": "3.9.7"
  }
 },
 "nbformat": 4,
 "nbformat_minor": 5
}
