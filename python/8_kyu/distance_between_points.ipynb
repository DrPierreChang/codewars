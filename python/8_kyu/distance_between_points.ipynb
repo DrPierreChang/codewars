{
 "cells": [
  {
   "cell_type": "markdown",
   "id": "c28ca5dd-9a47-4d9c-8122-d0fac55c5e2d",
   "metadata": {},
   "source": [
    "This series of katas will introduce you to basics of doing geometry with computers.\n",
    "\n",
    "Point objects have x and y attributes (X and Y in C#) attributes.\n",
    "\n",
    "Write a function calculating distance between Point a and Point b.\n",
    "\n",
    "Tests round answers to 6 decimal places.\n",
    "\n",
    "\n",
    "Sample Tests\n",
    "\n",
    "```python\n",
    "import codewars_test as test\n",
    "from solution import distance_between_points\n",
    "from preloaded import Point\n",
    "\n",
    "@test.describe(\"Fixed Tests\")\n",
    "def fixed_tests():\n",
    "    @test.it('Basic Test Cases')\n",
    "    def basic_test_cases():\n",
    "        test.assert_equals(distance_between_points(Point(3, 3), Point(3, 3)), 0)\n",
    "        test.assert_equals(distance_between_points(Point(1, 6), Point(4, 2)), 5)\n",
    "        test.assert_equals(round(distance_between_points(Point(-10.2, 12.5), Point(0.3, 14.7)), 6), 10.728001)\n",
    "```"
   ]
  },
  {
   "cell_type": "code",
   "execution_count": 1,
   "id": "42c7d0bd-b5d4-4582-a758-f212345c6ba3",
   "metadata": {},
   "outputs": [],
   "source": [
    "def distance_between_points(a, b):\n",
    "    x1, y1 = a.x, a.y\n",
    "    x2, y2 = b.x, b.y\n",
    "    return ((x2 - x1)**2 + (y2 - y1)**2)**0.5"
   ]
  }
 ],
 "metadata": {
  "kernelspec": {
   "display_name": "Python 3 (ipykernel)",
   "language": "python",
   "name": "python3"
  },
  "language_info": {
   "codemirror_mode": {
    "name": "ipython",
    "version": 3
   },
   "file_extension": ".py",
   "mimetype": "text/x-python",
   "name": "python",
   "nbconvert_exporter": "python",
   "pygments_lexer": "ipython3",
   "version": "3.9.7"
  }
 },
 "nbformat": 4,
 "nbformat_minor": 5
}
