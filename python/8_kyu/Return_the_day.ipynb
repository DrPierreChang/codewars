{
 "cells": [
  {
   "cell_type": "markdown",
   "id": "fb40d458-0d51-4d92-9d28-8ac3c558d221",
   "metadata": {},
   "source": [
    "```\n",
    "Complete the function which returns the weekday according to the input number:\n",
    "\n",
    "1 returns \"Sunday\"\n",
    "2 returns \"Monday\"\n",
    "3 returns \"Tuesday\"\n",
    "4 returns \"Wednesday\"\n",
    "5 returns \"Thursday\"\n",
    "6 returns \"Friday\"\n",
    "7 returns \"Saturday\"\n",
    "Otherwise returns \"Wrong, please enter a number between 1 and 7\"\n",
    "```"
   ]
  },
  {
   "cell_type": "code",
   "execution_count": 9,
   "id": "7981b51c-75b1-4e85-9f42-010459c45937",
   "metadata": {},
   "outputs": [],
   "source": [
    "def whatday(num):\n",
    "    days = {\n",
    "        1: 'Sunday',\n",
    "        2: 'Monday',\n",
    "        3: 'Tuesday',\n",
    "        4: 'Wednesday',\n",
    "        5: 'Thursday',\n",
    "        6: 'Friday',\n",
    "        7: 'Saturday'}\n",
    "    return days.get(num, \"Wrong, please enter a number between 1 and 7\")\n",
    "\n",
    "\n",
    "\n",
    "assert whatday(1) == 'Sunday'\n",
    "assert whatday(2) == 'Monday'\n",
    "assert whatday(3) == 'Tuesday'\n",
    "assert whatday(8) == 'Wrong, please enter a number between 1 and 7'\n",
    "assert whatday(20) == 'Wrong, please enter a number between 1 and 7'"
   ]
  },
  {
   "cell_type": "code",
   "execution_count": null,
   "id": "599c6c35-3e08-4388-bb46-d15009d0b2d0",
   "metadata": {},
   "outputs": [],
   "source": []
  }
 ],
 "metadata": {
  "kernelspec": {
   "display_name": "Python 3 (ipykernel)",
   "language": "python",
   "name": "python3"
  },
  "language_info": {
   "codemirror_mode": {
    "name": "ipython",
    "version": 3
   },
   "file_extension": ".py",
   "mimetype": "text/x-python",
   "name": "python",
   "nbconvert_exporter": "python",
   "pygments_lexer": "ipython3",
   "version": "3.9.7"
  }
 },
 "nbformat": 4,
 "nbformat_minor": 5
}
