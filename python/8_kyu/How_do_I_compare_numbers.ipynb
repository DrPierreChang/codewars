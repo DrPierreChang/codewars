{
 "cells": [
  {
   "cell_type": "markdown",
   "id": "56779ba2-2d62-4de5-abbe-617ff2241d2f",
   "metadata": {},
   "source": [
    "```\n",
    "What could be easier than comparing integer numbers? However, the given piece of code doesn't recognize some of the special numbers for a reason to be found. Your task is to find the bug and eliminate it.\n",
    "```"
   ]
  },
  {
   "cell_type": "code",
   "execution_count": 1,
   "id": "d154c2c6-4056-4047-9f52-a3d233599530",
   "metadata": {},
   "outputs": [],
   "source": [
    "def what_is(x):\n",
    "    if x == 42:\n",
    "        return 'everything'\n",
    "    elif x == 42 * 42:\n",
    "        return 'everything squared'\n",
    "    else:\n",
    "        return 'nothing'"
   ]
  }
 ],
 "metadata": {
  "kernelspec": {
   "display_name": "Python 3 (ipykernel)",
   "language": "python",
   "name": "python3"
  },
  "language_info": {
   "codemirror_mode": {
    "name": "ipython",
    "version": 3
   },
   "file_extension": ".py",
   "mimetype": "text/x-python",
   "name": "python",
   "nbconvert_exporter": "python",
   "pygments_lexer": "ipython3",
   "version": "3.9.7"
  }
 },
 "nbformat": 4,
 "nbformat_minor": 5
}
