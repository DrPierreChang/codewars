{
 "cells": [
  {
   "cell_type": "markdown",
   "id": "909b24c7-4ef9-4de6-b6fb-c70c881b1893",
   "metadata": {},
   "source": [
    "The function is not returning the correct values. Can you figure out why?\n",
    "\n",
    "```python\n",
    "def get_planet_name(id):\n",
    "    # This doesn't work; Fix it!\n",
    "    name=\"\"\n",
    "    switch id:\n",
    "        case 1: name = \"Mercury\"\n",
    "        case 2: name = \"Venus\"\n",
    "        case 3: name = \"Earth\"\n",
    "        case 4: name = \"Mars\"\n",
    "        case 5: name = \"Jupiter\"\n",
    "        case 6: name = \"Saturn\"\n",
    "        case 7: name = \"Uranus\"  \n",
    "        case 8: name = \"Neptune\"\n",
    "    return name\n",
    "```\n",
    "\n",
    "Example (Input --> Output ):\n",
    "\n",
    "3 --> \"Earth\"\n",
    "\n",
    "Sample Tests\n",
    "\n",
    "```python\n",
    "import codewars_test as test\n",
    "from solution import get_planet_name\n",
    "\n",
    "@test.describe(\"Fixed Tests\")\n",
    "def fixed_tests():\n",
    "    @test.it('Basic Test Cases')\n",
    "    def basic_test_cases():\n",
    "        test.assert_equals(get_planet_name(2), 'Venus')\n",
    "        test.assert_equals(get_planet_name(5), 'Jupiter')\n",
    "        test.assert_equals(get_planet_name(3), 'Earth')\n",
    "        test.assert_equals(get_planet_name(4), 'Mars')\n",
    "        test.assert_equals(get_planet_name(8), 'Neptune')\n",
    "        test.assert_equals(get_planet_name(1), 'Mercury')\n",
    "```"
   ]
  },
  {
   "cell_type": "code",
   "execution_count": 1,
   "id": "52368162-3489-4d77-b459-1e7a67154a35",
   "metadata": {},
   "outputs": [],
   "source": [
    "def get_planet_name(id):\n",
    "    return {\n",
    "        1: \"Mercury\",\n",
    "        2: \"Venus\",\n",
    "        3: \"Earth\",\n",
    "        4: \"Mars\",\n",
    "        5: \"Jupiter\",\n",
    "        6: \"Saturn\",\n",
    "        7: \"Uranus\", \n",
    "        8: \"Neptune\"\n",
    "    }[id]"
   ]
  }
 ],
 "metadata": {
  "kernelspec": {
   "display_name": "Python 3 (ipykernel)",
   "language": "python",
   "name": "python3"
  },
  "language_info": {
   "codemirror_mode": {
    "name": "ipython",
    "version": 3
   },
   "file_extension": ".py",
   "mimetype": "text/x-python",
   "name": "python",
   "nbconvert_exporter": "python",
   "pygments_lexer": "ipython3",
   "version": "3.9.7"
  }
 },
 "nbformat": 4,
 "nbformat_minor": 5
}
