{
 "cells": [
  {
   "cell_type": "markdown",
   "id": "bcfe46d8-396f-497c-a258-bea35a4eb398",
   "metadata": {},
   "source": [
    "Complete the function which converts a binary number (given as a string) to a decimal number."
   ]
  },
  {
   "cell_type": "code",
   "execution_count": 1,
   "id": "852e3851-cb4c-4a6d-86d8-c4a33e07e006",
   "metadata": {},
   "outputs": [],
   "source": [
    "def bin_to_decimal(inp):\n",
    "    return int(inp, 2)\n",
    "\n",
    "\n",
    "assert bin_to_decimal(\"0\") == 0\n",
    "assert bin_to_decimal(\"1\") == 1\n",
    "assert bin_to_decimal(\"10\") == 2\n",
    "assert bin_to_decimal(\"11\") == 3\n",
    "assert bin_to_decimal(\"101010\") == 42\n",
    "assert bin_to_decimal(\"1001001\") == 73"
   ]
  }
 ],
 "metadata": {
  "kernelspec": {
   "display_name": "Python 3 (ipykernel)",
   "language": "python",
   "name": "python3"
  },
  "language_info": {
   "codemirror_mode": {
    "name": "ipython",
    "version": 3
   },
   "file_extension": ".py",
   "mimetype": "text/x-python",
   "name": "python",
   "nbconvert_exporter": "python",
   "pygments_lexer": "ipython3",
   "version": "3.9.7"
  }
 },
 "nbformat": 4,
 "nbformat_minor": 5
}
