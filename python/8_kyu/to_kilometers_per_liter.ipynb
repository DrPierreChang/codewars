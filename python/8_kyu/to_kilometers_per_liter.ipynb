{
 "cells": [
  {
   "cell_type": "markdown",
   "id": "a1021495-abd0-462c-a2bc-6ede9b97f064",
   "metadata": {},
   "source": [
    "Sometimes, I want to quickly be able to convert miles per imperial gallon into kilometers per liter.\n",
    "\n",
    "Create an application that will display the number of kilometers per liter (output) based on the number of miles per imperial gallon (input).\n",
    "\n",
    "Make sure to round off the result to two decimal points. If the answer ends with a 0, it should be rounded off without the 0. So instead of 5.50, we should get 5.5.\n",
    "\n",
    "Some useful associations relevant to this kata: 1 Imperial Gallon = 4.54609188 litres 1 Mile = 1.609344 kilometres\n",
    "\n",
    "\n",
    "Sample Tests\n",
    "\n",
    "```python\n",
    "test.assert_equals(converter(12), 4.25)\n",
    "test.assert_equals(converter(24), 8.50)\n",
    "test.assert_equals(converter(36), 12.74)\n",
    "```"
   ]
  },
  {
   "cell_type": "code",
   "execution_count": 7,
   "id": "32c49236-64eb-45ab-af33-03d986cdba66",
   "metadata": {},
   "outputs": [
    {
     "name": "stdout",
     "output_type": "stream",
     "text": [
      "8.5\n"
     ]
    }
   ],
   "source": [
    "def converter(mpg):\n",
    "    return round((mpg * 1.609344) / 4.54609188, 2)\n",
    "    \n",
    "print(converter(24))"
   ]
  }
 ],
 "metadata": {
  "kernelspec": {
   "display_name": "Python 3 (ipykernel)",
   "language": "python",
   "name": "python3"
  },
  "language_info": {
   "codemirror_mode": {
    "name": "ipython",
    "version": 3
   },
   "file_extension": ".py",
   "mimetype": "text/x-python",
   "name": "python",
   "nbconvert_exporter": "python",
   "pygments_lexer": "ipython3",
   "version": "3.9.7"
  }
 },
 "nbformat": 4,
 "nbformat_minor": 5
}
