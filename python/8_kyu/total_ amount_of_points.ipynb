{
 "cells": [
  {
   "cell_type": "markdown",
   "id": "9411ee47-ee95-44e6-aa21-6ecb9af24671",
   "metadata": {},
   "source": [
    "Our football team finished the championship. The result of each match look like \"x:y\". Results of all matches are recorded in the collection.\n",
    "\n",
    "For example: [\"3:1\", \"2:2\", \"0:1\", ...]\n",
    "\n",
    "Write a function that takes such collection and counts the points of our team in the championship. Rules for counting points for each match:\n",
    "```\n",
    "if x>y - 3 points\n",
    "if x<y - 0 point\n",
    "if x=y - 1 point\n",
    "```\n",
    "Notes:\n",
    "\n",
    "there are 10 matches in the championship\n",
    "```\n",
    "0 <= x <= 4\n",
    "0 <= y <= 4\n",
    "```\n",
    "\n",
    "Sample Tests\n",
    "```\n",
    "import codewars_test as test\n",
    "from solution import points\n",
    "\n",
    "@test.describe(\"Fixed Tests\")\n",
    "def fixed_tests():\n",
    "    @test.it('Basic Test Cases')\n",
    "    def basic_test_cases():\n",
    "        test.assert_equals(points(['1:0','2:0','3:0','4:0','2:1','3:1','4:1','3:2','4:2','4:3']), 30)\n",
    "        test.assert_equals(points(['1:1','2:2','3:3','4:4','2:2','3:3','4:4','3:3','4:4','4:4']), 10)\n",
    "        test.assert_equals(points(['0:1','0:2','0:3','0:4','1:2','1:3','1:4','2:3','2:4','3:4']), 0)\n",
    "        test.assert_equals(points(['1:0','2:0','3:0','4:0','2:1','1:3','1:4','2:3','2:4','3:4']), 15)\n",
    "        test.assert_equals(points(['1:0','2:0','3:0','4:4','2:2','3:3','1:4','2:3','2:4','3:4']), 12)\n",
    "```"
   ]
  },
  {
   "cell_type": "code",
   "execution_count": 27,
   "id": "3af9f3ce-345f-4f31-b19e-3a715ff3f732",
   "metadata": {},
   "outputs": [
    {
     "name": "stdout",
     "output_type": "stream",
     "text": [
      "15\n"
     ]
    }
   ],
   "source": [
    "def points(games):\n",
    "    return sum(3 if point[0] > point[1] else 1 if point[0] == point[1] else 0\n",
    "               for point in [result.split(\":\") for result in games])\n",
    "\n",
    "print(points(['1:0','2:0','3:0','4:0','2:1','1:3','1:4','2:3','2:4','3:4']))"
   ]
  },
  {
   "cell_type": "code",
   "execution_count": null,
   "id": "d77ac73c-721f-4fc0-9012-5c12c0c2ad62",
   "metadata": {},
   "outputs": [],
   "source": [
    "def points(games):\n",
    "    return sum(3*(x > y) + (x == y) for x, _, y in games)"
   ]
  }
 ],
 "metadata": {
  "kernelspec": {
   "display_name": "Python 3 (ipykernel)",
   "language": "python",
   "name": "python3"
  },
  "language_info": {
   "codemirror_mode": {
    "name": "ipython",
    "version": 3
   },
   "file_extension": ".py",
   "mimetype": "text/x-python",
   "name": "python",
   "nbconvert_exporter": "python",
   "pygments_lexer": "ipython3",
   "version": "3.9.7"
  }
 },
 "nbformat": 4,
 "nbformat_minor": 5
}
