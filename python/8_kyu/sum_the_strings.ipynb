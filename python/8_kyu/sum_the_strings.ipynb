{
 "cells": [
  {
   "cell_type": "markdown",
   "id": "ee993027-fd73-4d87-82a0-3fd1969dfb2a",
   "metadata": {},
   "source": [
    "Create a function that takes 2 integers in form of a string as an input, and outputs the sum (also as a string):\n",
    "\n",
    "Example: (Input1, Input2 -->Output)\n",
    "\n",
    "```\n",
    "\"4\",  \"5\" --> \"9\"\n",
    "\"34\", \"5\" --> \"39\"\n",
    "\"\", \"\" --> \"0\"\n",
    "\"2\", \"\" --> \"2\"\n",
    "\"-5\", \"3\" --> \"-2\"\n",
    "```\n",
    "Notes:\n",
    "\n",
    "If either input is an empty string, consider it as zero.\n",
    "\n",
    "Inputs and the expected output will never exceed the signed 32-bit integer limit (2^31 - 1)\n",
    "\n",
    "Sample Tests\n",
    "\n",
    "```python\n",
    "import codewars_test as test\n",
    "from solution import sum_str\n",
    "\n",
    "@test.describe(\"Fixed Tests\")\n",
    "def basic_tests():\n",
    "    \n",
    "    @test.it(\"Sample Tests\")\n",
    "    def sample_tests():\n",
    "        test.assert_equals(sum_str(\"4\",\"5\"), \"9\")\n",
    "        test.assert_equals(sum_str(\"34\",\"5\"), \"39\")\n",
    "\n",
    "    @test.it(\"Tests with empty strings\")\n",
    "    def empty_string():\n",
    "        test.assert_equals(sum_str(\"9\",\"\"), \"9\", \"x + empty = x\")\n",
    "        test.assert_equals(sum_str(\"\",\"9\"), \"9\", \"empty + x = x\")\n",
    "        test.assert_equals(sum_str(\"\",\"\") , \"0\", \"empty + empty = 0\")\n",
    "```"
   ]
  },
  {
   "cell_type": "code",
   "execution_count": 2,
   "id": "04533051-40aa-407f-8526-e9ce23883ada",
   "metadata": {},
   "outputs": [
    {
     "name": "stdout",
     "output_type": "stream",
     "text": [
      "0\n"
     ]
    }
   ],
   "source": [
    "def sum_str(a, b):\n",
    "    return str(int(a or 0) + int(b or 0)) # False or X return X\n",
    "\n",
    "print(sum_str(\"\", \"\"))"
   ]
  }
 ],
 "metadata": {
  "kernelspec": {
   "display_name": "Python 3 (ipykernel)",
   "language": "python",
   "name": "python3"
  },
  "language_info": {
   "codemirror_mode": {
    "name": "ipython",
    "version": 3
   },
   "file_extension": ".py",
   "mimetype": "text/x-python",
   "name": "python",
   "nbconvert_exporter": "python",
   "pygments_lexer": "ipython3",
   "version": "3.9.7"
  }
 },
 "nbformat": 4,
 "nbformat_minor": 5
}
