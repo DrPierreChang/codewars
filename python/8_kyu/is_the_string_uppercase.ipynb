{
 "cells": [
  {
   "cell_type": "markdown",
   "id": "677e2deb-557d-4546-ad24-ea10120dfeae",
   "metadata": {},
   "source": [
    "Is the string uppercase?\n",
    "\n",
    "Task\n",
    "\n",
    "Create a method is_uppercase() to see whether the string is ALL CAPS. For example:\n",
    "\n",
    "```\n",
    "is_uppercase(\"c\") == False\n",
    "is_uppercase(\"C\") == True\n",
    "is_uppercase(\"hello I AM DONALD\") == False\n",
    "is_uppercase(\"HELLO I AM DONALD\") == True\n",
    "is_uppercase(\"ACSKLDFJSgSKLDFJSKLDFJ\") == False\n",
    "is_uppercase(\"ACSKLDFJSGSKLDFJSKLDFJ\") == True\n",
    "```\n",
    "\n",
    "In this Kata, a string is said to be in ALL CAPS whenever it does not contain any lowercase letter so any string containing no letters at all is trivially considered to be in ALL CAPS."
   ]
  },
  {
   "cell_type": "code",
   "execution_count": 1,
   "id": "7553cfec-fdf9-463b-aaf6-1494eb2c7841",
   "metadata": {},
   "outputs": [],
   "source": [
    "def is_uppercase(inp):\n",
    "    return inp == inp.upper()"
   ]
  }
 ],
 "metadata": {
  "kernelspec": {
   "display_name": "Python 3 (ipykernel)",
   "language": "python",
   "name": "python3"
  },
  "language_info": {
   "codemirror_mode": {
    "name": "ipython",
    "version": 3
   },
   "file_extension": ".py",
   "mimetype": "text/x-python",
   "name": "python",
   "nbconvert_exporter": "python",
   "pygments_lexer": "ipython3",
   "version": "3.9.7"
  }
 },
 "nbformat": 4,
 "nbformat_minor": 5
}
