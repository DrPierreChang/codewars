{
 "cells": [
  {
   "cell_type": "markdown",
   "id": "dace4d1d-f613-4274-a88a-bffa28129843",
   "metadata": {},
   "source": [
    "Your friend has been out shopping for puppies (what a time to be alive!)... He arrives back with multiple dogs, and you simply do not know how to respond!\n",
    "\n",
    "By repairing the function provided, you will find out exactly how you should respond, depending on the number of dogs he has.\n",
    "\n",
    "The number of dogs will always be a number and there will always be at least 1 dog.\n",
    "\n",
    "\n",
    "Sample Tests\n",
    "\n",
    "```python\n",
    "import codewars_test as test\n",
    "from solution import how_many_dalmatians\n",
    "\n",
    "@test.describe(\"Fixed Tests\")\n",
    "def fixed_tests():\n",
    "    @test.it('Basic Test Cases')\n",
    "    def basic_test_cases():\n",
    "        test.assert_equals(how_many_dalmatians(26), \"More than a handful!\")\n",
    "        test.assert_equals(how_many_dalmatians(8), \"Hardly any\")\n",
    "        test.assert_equals(how_many_dalmatians(14), \"More than a handful!\")\n",
    "        test.assert_equals(how_many_dalmatians(80), \"Woah that's a lot of dogs!\")\n",
    "        test.assert_equals(how_many_dalmatians(100), \"Woah that's a lot of dogs!\")\n",
    "        test.assert_equals(how_many_dalmatians(50), \"More than a handful!\")\n",
    "        test.assert_equals(how_many_dalmatians(10), \"Hardly any\")\n",
    "        test.assert_equals(how_many_dalmatians(101), \"101 DALMATIONS!!!\")\n",
    "```"
   ]
  },
  {
   "cell_type": "code",
   "execution_count": 2,
   "id": "5eaa5708-c966-47be-9be0-0133dd49815a",
   "metadata": {},
   "outputs": [],
   "source": [
    "def how_many_dalmatians(n):\n",
    "    dogs = [\"Hardly any\", \"More than a handful!\", \"Woah that's a lot of dogs!\", \"101 DALMATIONS!!!\"]\n",
    "    return dogs[0] if n <= 10 else dogs[1] if n <= 50 else dogs[3] if n == 101 else dogs[2]"
   ]
  }
 ],
 "metadata": {
  "kernelspec": {
   "display_name": "Python 3 (ipykernel)",
   "language": "python",
   "name": "python3"
  },
  "language_info": {
   "codemirror_mode": {
    "name": "ipython",
    "version": 3
   },
   "file_extension": ".py",
   "mimetype": "text/x-python",
   "name": "python",
   "nbconvert_exporter": "python",
   "pygments_lexer": "ipython3",
   "version": "3.9.7"
  }
 },
 "nbformat": 4,
 "nbformat_minor": 5
}
