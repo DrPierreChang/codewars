{
 "cells": [
  {
   "cell_type": "markdown",
   "id": "53e8a7d5-463e-4320-b026-1fac2d462e83",
   "metadata": {},
   "source": [
    "Americans are odd people: in their buildings, the first floor is actually the ground floor and there is no 13th floor (due to superstition).\n",
    "\n",
    "Write a function that given a floor in the american system returns the floor in the european system.\n",
    "\n",
    "With the 1st floor being replaced by the ground floor and the 13th floor being removed, the numbers move down to take their place. In case of above 13, they move down by two because there are two omitted numbers below them.\n",
    "\n",
    "Basements (negatives) stay the same as the universal level.\n",
    "\n",
    "\n",
    "\n",
    "Examples\n",
    "```\n",
    "1  =>  0 \n",
    "0  =>  0\n",
    "5  =>  4\n",
    "15  =>  13\n",
    "-3  =>  -3\n",
    "```\n",
    "\n",
    "Sample Tests\n",
    "\n",
    "```python\n",
    "import codewars_test as test\n",
    "from solution import get_real_floor\n",
    "\n",
    "@test.describe(\"Fixed Tests\")\n",
    "def fixed_tests():\n",
    "    @test.it('Basic Test Cases')\n",
    "    def basic_test_cases():\n",
    "        test.assert_equals(get_real_floor(1), 0)\n",
    "        test.assert_equals(get_real_floor(5), 4)\n",
    "        test.assert_equals(get_real_floor(15), 13)\n",
    "```"
   ]
  },
  {
   "cell_type": "code",
   "execution_count": 1,
   "id": "727922b6-aa71-4451-8e4c-a02a92b17bf1",
   "metadata": {},
   "outputs": [
    {
     "name": "stdout",
     "output_type": "stream",
     "text": [
      "13\n"
     ]
    }
   ],
   "source": [
    "def get_real_floor(n):\n",
    "    return n - 2 if n > 13 else n - 1 if n > 0 else n\n",
    "\n",
    "print(get_real_floor(15))"
   ]
  },
  {
   "cell_type": "code",
   "execution_count": 4,
   "id": "10ed002d-8712-4bd3-94da-7d3fbd2e67be",
   "metadata": {},
   "outputs": [
    {
     "name": "stdout",
     "output_type": "stream",
     "text": [
      "13\n"
     ]
    }
   ],
   "source": [
    "def get_real_floor(n):\n",
    "    return n - (n > 0) - (n > 13)\n",
    "\n",
    "print(get_real_floor(15))"
   ]
  },
  {
   "cell_type": "code",
   "execution_count": null,
   "id": "c5f97162-ce9f-4a9b-a790-13557545dd08",
   "metadata": {},
   "outputs": [],
   "source": []
  }
 ],
 "metadata": {
  "kernelspec": {
   "display_name": "Python 3 (ipykernel)",
   "language": "python",
   "name": "python3"
  },
  "language_info": {
   "codemirror_mode": {
    "name": "ipython",
    "version": 3
   },
   "file_extension": ".py",
   "mimetype": "text/x-python",
   "name": "python",
   "nbconvert_exporter": "python",
   "pygments_lexer": "ipython3",
   "version": "3.9.7"
  }
 },
 "nbformat": 4,
 "nbformat_minor": 5
}
