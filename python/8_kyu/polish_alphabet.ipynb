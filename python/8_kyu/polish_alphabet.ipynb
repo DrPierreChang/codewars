{
 "cells": [
  {
   "cell_type": "markdown",
   "id": "8b19f908-c9cc-4187-b790-f5b1d3ed149e",
   "metadata": {},
   "source": [
    "There are 32 letters in the Polish alphabet: 9 vowels and 23 consonants.\n",
    "\n",
    "Your task is to change the letters with diacritics:\n",
    "\n",
    "\n",
    "```\n",
    "ą -> a,\n",
    "ć -> c,\n",
    "ę -> e,\n",
    "ł -> l,\n",
    "ń -> n,\n",
    "ó -> o,\n",
    "ś -> s,\n",
    "ź -> z,\n",
    "ż -> z\n",
    "```\n",
    "and print out the string without the use of the Polish letters.\n",
    "\n",
    "For example:\n",
    "\n",
    "```\n",
    "\"Jędrzej Błądziński\"  -->  \"Jedrzej Bladzinski\"\n",
    "```\n",
    "\n",
    "Sample Tests\n",
    "```python\n",
    "@test.describe('Example Tests')\n",
    "def example_tests():\n",
    "    test.assert_equals(correct_polish_letters(\"Jędrzej Błądziński\"),\"Jedrzej Bladzinski\");\n",
    "    test.assert_equals(correct_polish_letters(\"Lech Wałęsa\"),\"Lech Walesa\");\n",
    "    test.assert_equals(correct_polish_letters(\"Maria Skłodowska-Curie\"),\"Maria Sklodowska-Curie\")\n",
    "```\n"
   ]
  },
  {
   "cell_type": "code",
   "execution_count": 1,
   "id": "fd8b9c9f-1f6a-4161-8739-a56329d6c915",
   "metadata": {},
   "outputs": [],
   "source": [
    "def correct_polish_letters(st): \n",
    "    diacritics = {\"ą\":\"a\", \"ć\":\"c\", \"ę\":\"e\", \"ł\":\"l\", \"ń\":\"n\", \"ó\":\"o\", \"ś\":\"s\", \"ź\":\"z\", \"ż\":\"z\"}\n",
    "\n",
    "    return \"\".join(diacritics.get(l, l) for l in st)"
   ]
  },
  {
   "cell_type": "code",
   "execution_count": 2,
   "id": "3677a1a5-2e52-4acd-8efe-dcea7240268a",
   "metadata": {},
   "outputs": [],
   "source": [
    "def correct_polish_letters(s):\n",
    "    return s.translate(str.maketrans(\"ąćęłńóśźż\", \"acelnoszz\"))"
   ]
  }
 ],
 "metadata": {
  "kernelspec": {
   "display_name": "Python 3 (ipykernel)",
   "language": "python",
   "name": "python3"
  },
  "language_info": {
   "codemirror_mode": {
    "name": "ipython",
    "version": 3
   },
   "file_extension": ".py",
   "mimetype": "text/x-python",
   "name": "python",
   "nbconvert_exporter": "python",
   "pygments_lexer": "ipython3",
   "version": "3.9.7"
  }
 },
 "nbformat": 4,
 "nbformat_minor": 5
}
