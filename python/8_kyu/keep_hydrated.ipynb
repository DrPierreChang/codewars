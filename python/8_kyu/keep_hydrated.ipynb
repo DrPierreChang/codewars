{
 "cells": [
  {
   "cell_type": "markdown",
   "id": "b9bed25d-58fb-4817-be2f-59546852f159",
   "metadata": {},
   "source": [
    "Nathan loves cycling.\n",
    "\n",
    "Because Nathan knows it is important to stay hydrated, he drinks 0.5 litres of water per hour of cycling.\n",
    "\n",
    "You get given the time in hours and you need to return the number of litres Nathan will drink, rounded to the smallest value.\n",
    "\n",
    "For example:\n",
    "\n",
    "```\n",
    "time = 3 ----> litres = 1\n",
    "\n",
    "time = 6.7---> litres = 3\n",
    "\n",
    "time = 11.8--> litres = 5\n",
    "```"
   ]
  },
  {
   "cell_type": "code",
   "execution_count": 1,
   "id": "c486f98f-2308-4eb8-ab24-4300e2547fd7",
   "metadata": {},
   "outputs": [],
   "source": [
    "def litres(time):\n",
    "    return int(time*0.5)"
   ]
  }
 ],
 "metadata": {
  "kernelspec": {
   "display_name": "Python 3 (ipykernel)",
   "language": "python",
   "name": "python3"
  },
  "language_info": {
   "codemirror_mode": {
    "name": "ipython",
    "version": 3
   },
   "file_extension": ".py",
   "mimetype": "text/x-python",
   "name": "python",
   "nbconvert_exporter": "python",
   "pygments_lexer": "ipython3",
   "version": "3.9.7"
  }
 },
 "nbformat": 4,
 "nbformat_minor": 5
}
