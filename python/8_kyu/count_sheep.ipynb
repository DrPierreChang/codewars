{
 "cells": [
  {
   "cell_type": "markdown",
   "id": "428055e9-cc19-4941-9152-620c3983cb17",
   "metadata": {},
   "source": [
    "```\n",
    "If you can't sleep, just count sheep!!\n",
    "\n",
    "Task:\n",
    "Given a non-negative integer, 3 for example, return a string with a murmur: \"1 sheep...2 sheep...3 sheep...\". Input will always be valid, i.e. no negative integers.\n",
    "```"
   ]
  },
  {
   "cell_type": "code",
   "execution_count": 5,
   "id": "1e5ba2ef-60b9-4f31-a0b6-93e9101dccbd",
   "metadata": {},
   "outputs": [],
   "source": [
    "def count_sheep(n):\n",
    "    return \"\".join(f\"{n} sheep...\" for n in range(1, n+1))\n",
    "\n",
    "assert count_sheep(0) == \"\"\n",
    "assert count_sheep(1) == \"1 sheep...\"\n",
    "assert count_sheep(2) == \"1 sheep...2 sheep...\"\n",
    "assert count_sheep(3) == \"1 sheep...2 sheep...3 sheep...\""
   ]
  }
 ],
 "metadata": {
  "kernelspec": {
   "display_name": "Python 3 (ipykernel)",
   "language": "python",
   "name": "python3"
  },
  "language_info": {
   "codemirror_mode": {
    "name": "ipython",
    "version": 3
   },
   "file_extension": ".py",
   "mimetype": "text/x-python",
   "name": "python",
   "nbconvert_exporter": "python",
   "pygments_lexer": "ipython3",
   "version": "3.9.7"
  }
 },
 "nbformat": 4,
 "nbformat_minor": 5
}
