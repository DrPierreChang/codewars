{
 "cells": [
  {
   "cell_type": "markdown",
   "id": "268739fe-60c1-40b1-b506-5a0e04418294",
   "metadata": {},
   "source": [
    "Make a function that returns the value multiplied by 50 and increased by 6. If the value entered is a string it should return \"Error\".\n",
    "\n",
    "Sample Tests\n",
    "\n",
    "```python\n",
    "import codewars_test as test\n",
    "from solution import problem\n",
    "\n",
    "@test.describe(\"Fixed Tests\")\n",
    "def fixed_tests():\n",
    "    @test.it('Basic Test Cases')\n",
    "    def basic_test_cases():        \n",
    "        test.assert_equals(problem(\"hello\"), \"Error\")\n",
    "        test.assert_equals(problem(1), 56)\n",
    "```"
   ]
  },
  {
   "cell_type": "code",
   "execution_count": 1,
   "id": "f825560f-86cc-449e-b26c-c94760dc0853",
   "metadata": {},
   "outputs": [],
   "source": [
    "def problem(a):\n",
    "    try:\n",
    "        return a * 50 + 6\n",
    "    except:\n",
    "        return \"Error\""
   ]
  }
 ],
 "metadata": {
  "kernelspec": {
   "display_name": "Python 3 (ipykernel)",
   "language": "python",
   "name": "python3"
  },
  "language_info": {
   "codemirror_mode": {
    "name": "ipython",
    "version": 3
   },
   "file_extension": ".py",
   "mimetype": "text/x-python",
   "name": "python",
   "nbconvert_exporter": "python",
   "pygments_lexer": "ipython3",
   "version": "3.9.7"
  }
 },
 "nbformat": 4,
 "nbformat_minor": 5
}
