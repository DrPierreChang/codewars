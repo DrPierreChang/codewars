{
 "cells": [
  {
   "cell_type": "markdown",
   "id": "20ea743c-32e2-439b-b27e-163274cd95c9",
   "metadata": {},
   "source": [
    "```\n",
    "Get ASCII value of a character.\n",
    "\n",
    "For the ASCII table you can refer to http://www.asciitable.com/\n",
    "```"
   ]
  },
  {
   "cell_type": "code",
   "execution_count": 6,
   "id": "8249192d-0843-441a-9daa-dcc10ac10aa8",
   "metadata": {},
   "outputs": [],
   "source": [
    "get_ascii = ord"
   ]
  },
  {
   "cell_type": "code",
   "execution_count": 8,
   "id": "7a0a40ff-13d7-4606-aa15-e577f2b420a3",
   "metadata": {},
   "outputs": [],
   "source": [
    "assert get_ascii(\"A\") == 65"
   ]
  }
 ],
 "metadata": {
  "kernelspec": {
   "display_name": "Python 3 (ipykernel)",
   "language": "python",
   "name": "python3"
  },
  "language_info": {
   "codemirror_mode": {
    "name": "ipython",
    "version": 3
   },
   "file_extension": ".py",
   "mimetype": "text/x-python",
   "name": "python",
   "nbconvert_exporter": "python",
   "pygments_lexer": "ipython3",
   "version": "3.9.7"
  }
 },
 "nbformat": 4,
 "nbformat_minor": 5
}
