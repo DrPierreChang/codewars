{
 "cells": [
  {
   "cell_type": "markdown",
   "id": "b833d6da-b974-4fab-8d3f-5ff044635795",
   "metadata": {},
   "source": [
    "Upon arriving at an interview, you are presented with a solid blue cube. The cube is then dipped in red paint, coating the entire surface of the cube. The interviewer then proceeds to cut through the cube in all three dimensions a certain number of times.\n",
    "\n",
    "Your function takes as parameter the number of times the cube has been cut. You must return the number of smaller cubes created by the cuts that have at least one red face.\n",
    "\n",
    "To make it clearer, the picture below represents the cube after (from left to right) 0, 1 and 2 cuts have been made.\n",
    "\n",
    "<img src=\"images/cubes.png\" width=400>\n",
    "\n",
    "Sample Tests\n",
    "\n",
    "```python\n",
    "test.describe(\"Example Tests\")\n",
    "test.it(\"For very few cuts\")\n",
    "test.assert_equals(count_squares(5), 152)\n",
    "test.assert_equals(count_squares(16), 1538)\n",
    "test.assert_equals(count_squares(23), 3176)\n",
    "```\n",
    "\n",
    "Reference\n",
    "\n",
    "<img src=\"images/cubus_sq.jpg\">"
   ]
  },
  {
   "cell_type": "code",
   "execution_count": 1,
   "id": "9a2ce50a-fc05-4871-9c90-757a9c084fde",
   "metadata": {},
   "outputs": [],
   "source": [
    "def count_squares(cuts):\n",
    "    return 6 * (cuts ** 2) + 2"
   ]
  }
 ],
 "metadata": {
  "kernelspec": {
   "display_name": "Python 3 (ipykernel)",
   "language": "python",
   "name": "python3"
  },
  "language_info": {
   "codemirror_mode": {
    "name": "ipython",
    "version": 3
   },
   "file_extension": ".py",
   "mimetype": "text/x-python",
   "name": "python",
   "nbconvert_exporter": "python",
   "pygments_lexer": "ipython3",
   "version": "3.9.7"
  }
 },
 "nbformat": 4,
 "nbformat_minor": 5
}
