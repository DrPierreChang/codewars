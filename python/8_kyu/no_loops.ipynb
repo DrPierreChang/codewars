{
 "cells": [
  {
   "cell_type": "markdown",
   "id": "54a1f48d-f890-44c0-adbf-4fedfef0dc98",
   "metadata": {},
   "source": [
    "*** No Loops Allowed ***\n",
    "\n",
    "You will be given an array (a) and a value (x). All you need to do is check whether the provided array contains the value, without using a loop.\n",
    "\n",
    "Array can contain numbers or strings. X can be either. Return true if the array contains the value, false if not. With strings you will need to account for case.\n",
    "\n",
    "Looking for more, loop-restrained fun? Check out the other kata in the series:\n",
    "\n",
    "https://www.codewars.com/kata/no-loops-1-small-enough\n",
    "\n",
    "https://www.codewars.com/kata/no-loops-3-copy-within\n",
    "\n",
    "\n",
    "Sample Tests\n",
    "\n",
    "```python\n",
    "import codewars_test as test\n",
    "from solution import check\n",
    "\n",
    "@test.describe(\"Sample tests\")\n",
    "def _(): \n",
    "    @test.it(\"Tests\")\n",
    "    def __():\n",
    "        test.assert_equals(check([66, 101], 66), True)\n",
    "        test.assert_equals(check([80, 117, 115, 104, 45, 85, 112, 115], 45), True)\n",
    "        test.assert_equals(check(['t', 'e', 's', 't'], 'e'), True)\n",
    "        test.assert_equals(check(['what', 'a', 'great', 'kata'], 'kat'), False)\n",
    "```"
   ]
  },
  {
   "cell_type": "code",
   "execution_count": 1,
   "id": "ee0fa695-7083-451e-a9d4-422285172a8f",
   "metadata": {},
   "outputs": [],
   "source": [
    "# solution\n",
    "def check(a, x): \n",
    "    return x in a"
   ]
  }
 ],
 "metadata": {
  "kernelspec": {
   "display_name": "Python 3 (ipykernel)",
   "language": "python",
   "name": "python3"
  },
  "language_info": {
   "codemirror_mode": {
    "name": "ipython",
    "version": 3
   },
   "file_extension": ".py",
   "mimetype": "text/x-python",
   "name": "python",
   "nbconvert_exporter": "python",
   "pygments_lexer": "ipython3",
   "version": "3.9.7"
  }
 },
 "nbformat": 4,
 "nbformat_minor": 5
}
