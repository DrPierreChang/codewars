{
 "cells": [
  {
   "cell_type": "markdown",
   "id": "31fe8618-c3aa-49e1-93da-815dce9b1d13",
   "metadata": {},
   "source": [
    "Create a function that converts US dollars (USD) to Chinese Yuan (CNY) .\n",
    "\n",
    "The input is the amount of USD as an integer, and the output should be a string that states the amount of Yuan followed by 'Chinese Yuan'\n",
    "\n",
    "For Example:\n",
    "```\n",
    "  usdcny(15)  => '101.25 Chinese Yuan'\n",
    "  usdcny(465) => '3138.75 Chinese Yuan'\n",
    "``\n",
    "\n",
    "The conversion rate you should use is 6.75 CNY for every 1 USD.\n",
    "\n",
    "All numbers should be represented as a string with 2 decimal places. (e.g. \"21.00\" NOT \"21.0\" or \"21\")\n",
    "\n",
    "Sample Tests\n",
    "\n",
    "```python\n",
    "import codewars_test as test\n",
    "from solution import usdcny\n",
    "\n",
    "@test.describe(\"USD=>CNY\")\n",
    "def test_group():\n",
    "    @test.it(\"Basic test case\")\n",
    "    def test_case():\n",
    "        test.assert_equals(usdcny(15), \"101.25 Chinese Yuan\")\n",
    "        test.assert_equals(usdcny(465), \"3138.75 Chinese Yuan\")\n",
    "```\n",
    "\n",
    "Notes\n",
    "\n",
    "```python\n",
    "# Format it to 6 decimal places:\n",
    "\n",
    ">>> format(2.0, '.6f')\n",
    ">>> '2.000000'\n",
    "```"
   ]
  },
  {
   "cell_type": "code",
   "execution_count": 1,
   "id": "cecdd7f4-ea67-429e-bd54-7b2702733853",
   "metadata": {},
   "outputs": [],
   "source": [
    "def usdcny(usd):\n",
    "    return f\"{format(usd * 6.75, '.2f')} Chinese Yuan\""
   ]
  },
  {
   "cell_type": "code",
   "execution_count": 2,
   "id": "7c4dd7c2-9284-4c3a-8d88-dd0aa2de97f4",
   "metadata": {},
   "outputs": [],
   "source": [
    "def usdcny(usd):\n",
    "    return f\"{(usd * 6.75):.2f} Chinese Yuan\""
   ]
  }
 ],
 "metadata": {
  "kernelspec": {
   "display_name": "Python 3 (ipykernel)",
   "language": "python",
   "name": "python3"
  },
  "language_info": {
   "codemirror_mode": {
    "name": "ipython",
    "version": 3
   },
   "file_extension": ".py",
   "mimetype": "text/x-python",
   "name": "python",
   "nbconvert_exporter": "python",
   "pygments_lexer": "ipython3",
   "version": "3.9.7"
  }
 },
 "nbformat": 4,
 "nbformat_minor": 5
}
