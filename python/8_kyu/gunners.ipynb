{
 "cells": [
  {
   "cell_type": "markdown",
   "id": "a1d98a2c-7a66-4d24-b82c-9b8f9cb06935",
   "metadata": {},
   "source": [
    "```\n",
    "Ahoy Matey!\n",
    "\n",
    "Welcome to the seven seas.\n",
    "\n",
    "You are the captain of a pirate ship.\n",
    "\n",
    "You are in battle against the royal navy.\n",
    "\n",
    "You have cannons at the ready.... or are they?\n",
    "\n",
    "Your task is to check if the gunners are loaded and ready, if they are: Fire!\n",
    "\n",
    "If they aren't ready: Shiver me timbers!\n",
    "\n",
    "Your gunners for each test case are 2, 3 or 4.\n",
    "\n",
    "When you check if they are ready their answers are in a dictionary and will either be: aye or nay\n",
    "\n",
    "Firing with less than all gunners ready is non-optimum (this is not fire at will, this is fire by the captain's orders or walk the plank, dirty sea-dog!)\n",
    "\n",
    "If all answers are 'aye' then Fire! if one or more are 'nay' then Shiver me timbers!\n",
    "\n",
    "Also, check out the new Pirates!! Kata: https://www.codewars.com/kata/57e2d5f473aa6a476b0000fe\n",
    "```"
   ]
  },
  {
   "cell_type": "markdown",
   "id": "5f9c2bf4-a445-4332-83d5-57caf22a2f0a",
   "metadata": {},
   "source": [
    "Sample Tests\n",
    "\n",
    "```python\n",
    "a = {'Mike':'aye','Joe':'aye','Johnson':'aye','Peter':'aye'}\n",
    "b = {'Mike':'aye','Joe':'nay','Johnson':'aye','Peter':'aye'}\n",
    "test.assert_equals(cannons_ready(a),'Fire!')\n",
    "test.assert_equals(cannons_ready(b),'Shiver me timbers!')\n",
    "```"
   ]
  },
  {
   "cell_type": "code",
   "execution_count": 7,
   "id": "def705dd-621a-436d-b976-7947396549b8",
   "metadata": {},
   "outputs": [],
   "source": [
    "def cannons_ready(gunners):\n",
    "    return 'Fire!' if 'nay' not in set(gunners.values()) else 'Shiver me timbers!'"
   ]
  }
 ],
 "metadata": {
  "kernelspec": {
   "display_name": "Python 3 (ipykernel)",
   "language": "python",
   "name": "python3"
  },
  "language_info": {
   "codemirror_mode": {
    "name": "ipython",
    "version": 3
   },
   "file_extension": ".py",
   "mimetype": "text/x-python",
   "name": "python",
   "nbconvert_exporter": "python",
   "pygments_lexer": "ipython3",
   "version": "3.9.7"
  }
 },
 "nbformat": 4,
 "nbformat_minor": 5
}
