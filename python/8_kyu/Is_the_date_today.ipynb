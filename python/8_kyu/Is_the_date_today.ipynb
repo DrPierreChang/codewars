{
 "cells": [
  {
   "cell_type": "markdown",
   "id": "ad0a66b5-ba4a-4810-87a4-00d52e417e55",
   "metadata": {},
   "source": [
    "```\n",
    "Write a simple function that takes as a parameter a date object and returns a boolean value representing whether the date is today or not.\n",
    "\n",
    "Make sure that your function does not return a false positive by just checking just the day.\n",
    "```"
   ]
  },
  {
   "cell_type": "code",
   "execution_count": 57,
   "id": "9d60141a-ecce-4844-bbc1-d332fe9b6d96",
   "metadata": {},
   "outputs": [],
   "source": [
    "from datetime import datetime, timedelta\n",
    "\n",
    "\n",
    "def is_today(date): \n",
    "    return datetime.today().date() == date.date()\n",
    "\n",
    "assert is_today(datetime(2020, 10, 1, 1, 1, 1, 1)) is False\n",
    "assert is_today(datetime(2080, 10, 1, 1, 1, 1, 1)) is False\n",
    "assert is_today(datetime.today()) is True"
   ]
  }
 ],
 "metadata": {
  "kernelspec": {
   "display_name": "Python 3 (ipykernel)",
   "language": "python",
   "name": "python3"
  },
  "language_info": {
   "codemirror_mode": {
    "name": "ipython",
    "version": 3
   },
   "file_extension": ".py",
   "mimetype": "text/x-python",
   "name": "python",
   "nbconvert_exporter": "python",
   "pygments_lexer": "ipython3",
   "version": "3.9.7"
  }
 },
 "nbformat": 4,
 "nbformat_minor": 5
}
