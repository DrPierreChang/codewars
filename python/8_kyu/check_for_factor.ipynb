{
 "cells": [
  {
   "cell_type": "markdown",
   "id": "7bbd2f08-106b-4de4-8f60-2049d92c58d1",
   "metadata": {},
   "source": [
    "This function should test if the factor is a factor of base.\n",
    "\n",
    "Return true if it is a factor or false if it is not.\n",
    "\n",
    "About factors\n",
    "\n",
    "Factors are numbers you can multiply together to get another number.\n",
    "\n",
    "2 and 3 are factors of 6 because: 2 * 3 = 6\n",
    "\n",
    "You can find a factor by dividing numbers. If the remainder is 0 then the number is a factor.\n",
    "\n",
    "You can use the mod operator (%) in most languages to check for a remainder\n",
    "\n",
    "For example 2 is not a factor of 7 because: 7 % 2 = 1\n",
    "\n",
    "Note: base is a non-negative number, factor is a positive number.\n",
    "\n",
    "Sample Tests\n",
    "\n",
    "```python\n",
    "import codewars_test as test\n",
    "from solution import check_for_factor\n",
    "\n",
    "@test.describe(\"Fixed Tests\")\n",
    "def fixed_tests():    \n",
    "    @test.it(\"Should return True\")\n",
    "    def should_return_true():\n",
    "        test.assert_equals(check_for_factor(10, 2), True)\n",
    "        test.assert_equals(check_for_factor(63, 7), True)\n",
    "        test.assert_equals(check_for_factor(2450, 5), True)\n",
    "        test.assert_equals(check_for_factor(24612, 3), True)\n",
    "        \n",
    "    @test.it(\"Should return False\")\n",
    "    def should_return_false():\n",
    "        test.assert_equals(check_for_factor(9, 2), False)\n",
    "        test.assert_equals(check_for_factor(653, 7), False)\n",
    "        test.assert_equals(check_for_factor(2453, 5), False)\n",
    "        test.assert_equals(check_for_factor(24617, 3), False)\n",
    "```"
   ]
  },
  {
   "cell_type": "code",
   "execution_count": 1,
   "id": "6aef3674-0bd2-4096-bc2d-b3cf9c764cac",
   "metadata": {},
   "outputs": [],
   "source": [
    "def check_for_factor(base, factor):\n",
    "    return not base % factor"
   ]
  }
 ],
 "metadata": {
  "kernelspec": {
   "display_name": "Python 3 (ipykernel)",
   "language": "python",
   "name": "python3"
  },
  "language_info": {
   "codemirror_mode": {
    "name": "ipython",
    "version": 3
   },
   "file_extension": ".py",
   "mimetype": "text/x-python",
   "name": "python",
   "nbconvert_exporter": "python",
   "pygments_lexer": "ipython3",
   "version": "3.9.7"
  }
 },
 "nbformat": 4,
 "nbformat_minor": 5
}
