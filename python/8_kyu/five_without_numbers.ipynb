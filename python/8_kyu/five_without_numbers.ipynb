{
 "cells": [
  {
   "cell_type": "markdown",
   "id": "7235f89d-8d9c-4938-9a88-4a67c33eae40",
   "metadata": {},
   "source": [
    "```\n",
    "Write a function that always returns 5\n",
    "\n",
    "Sounds easy right? Just bear in mind that you can't use any of the following characters: 0123456789*+-/\n",
    "\n",
    "Good luck :)\n",
    "```"
   ]
  },
  {
   "cell_type": "code",
   "execution_count": 35,
   "id": "c09e87cc-b644-40ab-804b-62a6970e9aab",
   "metadata": {},
   "outputs": [],
   "source": [
    "def unusual_five():\n",
    "    return ord('f') % ord('a')\n",
    "\n",
    "assert unusual_five() == 5"
   ]
  }
 ],
 "metadata": {
  "kernelspec": {
   "display_name": "Python 3 (ipykernel)",
   "language": "python",
   "name": "python3"
  },
  "language_info": {
   "codemirror_mode": {
    "name": "ipython",
    "version": 3
   },
   "file_extension": ".py",
   "mimetype": "text/x-python",
   "name": "python",
   "nbconvert_exporter": "python",
   "pygments_lexer": "ipython3",
   "version": "3.9.7"
  }
 },
 "nbformat": 4,
 "nbformat_minor": 5
}
