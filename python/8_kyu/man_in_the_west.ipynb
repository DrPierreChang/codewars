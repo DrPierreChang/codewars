{
 "cells": [
  {
   "cell_type": "markdown",
   "id": "91f572d9-2c0b-4231-9dad-605ece0f0067",
   "metadata": {},
   "source": [
    "```\n",
    "A western man is trying to find gold in a river. To do that, he passes a bucket through the river's soil and then checks if it contains any gold. However, he could be more productive if he wrote an algorithm to do the job for him.\n",
    "\n",
    "So, you need to check if there is gold in the bucket, and if so, return True/true. If not, return False/false.\n",
    "```"
   ]
  },
  {
   "cell_type": "code",
   "execution_count": 3,
   "id": "05a17454-f953-4249-8683-c3e39d46f96d",
   "metadata": {},
   "outputs": [],
   "source": [
    "def check_the_bucket(bucket):\n",
    "    return any(i == 'gold' for i in bucket)\n",
    "\n",
    "# def check_the_bucket(bucket):\n",
    "#     return 'gold' in bucket\n",
    "\n",
    "assert check_the_bucket(['stone', 'stone', 'gold', 'stone', 'stone',]) == True\n",
    "assert check_the_bucket(['stone', 'stone', 'stone', 'stone', 'stone',]) == False"
   ]
  }
 ],
 "metadata": {
  "kernelspec": {
   "display_name": "Python 3 (ipykernel)",
   "language": "python",
   "name": "python3"
  },
  "language_info": {
   "codemirror_mode": {
    "name": "ipython",
    "version": 3
   },
   "file_extension": ".py",
   "mimetype": "text/x-python",
   "name": "python",
   "nbconvert_exporter": "python",
   "pygments_lexer": "ipython3",
   "version": "3.9.7"
  }
 },
 "nbformat": 4,
 "nbformat_minor": 5
}
