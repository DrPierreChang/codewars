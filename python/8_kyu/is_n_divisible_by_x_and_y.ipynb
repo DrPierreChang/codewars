{
 "cells": [
  {
   "cell_type": "markdown",
   "id": "e61839d1-1848-4603-8323-34b21c974a04",
   "metadata": {},
   "source": [
    "Create a function that checks if a number n is divisible by two numbers x AND y. All inputs are positive, non-zero digits.\n",
    "\n",
    "Examples:\n",
    "```\n",
    "1) n =   3, x = 1, y = 3 =>  true because   3 is divisible by 1 and 3\n",
    "2) n =  12, x = 2, y = 6 =>  true because  12 is divisible by 2 and 6\n",
    "3) n = 100, x = 5, y = 3 => false because 100 is not divisible by 3\n",
    "4) n =  12, x = 7, y = 5 => false because  12 is neither divisible by 7 nor 5\n",
    "```\n",
    "\n",
    "Sample Tests\n",
    "\n",
    "```python\n",
    "import codewars_test as test\n",
    "from solution import is_divisible\n",
    "\n",
    "@test.describe(\"Sample Tests\")\n",
    "def basic_tests():\n",
    "    @test.it('Basic Test Cases')\n",
    "    def basic_test_cases():\n",
    "        test.assert_equals(is_divisible(3,2,2),False)\n",
    "        test.assert_equals(is_divisible(3,3,4),False)\n",
    "        test.assert_equals(is_divisible(12,3,4),True)\n",
    "        test.assert_equals(is_divisible(8,3,4),False)\n",
    "```"
   ]
  },
  {
   "cell_type": "code",
   "execution_count": 1,
   "id": "19a2887c-3b2d-4d71-a44f-cf087927dff6",
   "metadata": {},
   "outputs": [],
   "source": [
    "def is_divisible(n,x,y):\n",
    "    return (not n % x) and (not n % y)"
   ]
  },
  {
   "cell_type": "code",
   "execution_count": 2,
   "id": "154d078b-a5ee-4747-a2ca-44a5b99bfa98",
   "metadata": {},
   "outputs": [
    {
     "name": "stdout",
     "output_type": "stream",
     "text": [
      "True\n",
      "False\n"
     ]
    }
   ],
   "source": [
    "print(not False and not False)\n",
    "print(not True and not True)"
   ]
  },
  {
   "cell_type": "code",
   "execution_count": 3,
   "id": "6d94682b-27ad-4db1-93be-af49a67fa1d9",
   "metadata": {},
   "outputs": [],
   "source": [
    "def is_divisible(n,x,y):\n",
    "    return n % x == 0 and n % y == 0"
   ]
  }
 ],
 "metadata": {
  "kernelspec": {
   "display_name": "Python 3 (ipykernel)",
   "language": "python",
   "name": "python3"
  },
  "language_info": {
   "codemirror_mode": {
    "name": "ipython",
    "version": 3
   },
   "file_extension": ".py",
   "mimetype": "text/x-python",
   "name": "python",
   "nbconvert_exporter": "python",
   "pygments_lexer": "ipython3",
   "version": "3.9.7"
  }
 },
 "nbformat": 4,
 "nbformat_minor": 5
}
