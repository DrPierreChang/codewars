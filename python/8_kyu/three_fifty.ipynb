{
 "cells": [
  {
   "cell_type": "raw",
   "id": "cb26721f-78f9-477d-bcf3-664057f3cbfd",
   "metadata": {},
   "source": [
    "You're on your way to the market when you hear beautiful music coming from a nearby street performer. The notes come together like you wouln't believe as the musician puts together patterns of tunes. As you wonder what kind of algorithm you could use to shift octaves by 8 pitches or something silly like that, it dawns on you that you have been watching the musician for some 10 odd minutes. You ask, \"how much do people normally tip for something like this?\" The artist looks up. \"It's always gonna be about tree fiddy.\"\n",
    "\n",
    "It was then that you realize the musician was a 400 foot tall beast from the paleolithic era! The Loch Ness Monster almost tricked you!\n",
    "\n",
    "There are only 2 guaranteed ways to tell if you are speaking to The Loch Ness Monster: A) it is a 400 foot tall beast from the paleolithic era; B) it will ask you for tree fiddy.\n",
    "\n",
    "Since Nessie is a master of disguise, the only way accurately tell is to look for the phrase \"tree fiddy\". Since you are tired of being grifted by this monster, the time has come to code a solution for finding The Loch Ness Monster. Note that the phrase can also be written as \"3.50\" or \"three fifty\"."
   ]
  },
  {
   "cell_type": "code",
   "execution_count": 9,
   "id": "73098632-8abd-4438-a6b1-2d03624d4af5",
   "metadata": {},
   "outputs": [],
   "source": [
    "import re\n",
    "def is_lock_ness_monster(string):\n",
    "    variants = {\"tree fiddy\", \"3\\.50\", \"three fifty\"}\n",
    "    for i in variants:\n",
    "        if re.search(i, string):\n",
    "            return True\n",
    "    return False\n",
    "\n",
    "# def is_lock_ness_monster(s):\n",
    "#     return any(i in s for i in ('tree fiddy', 'three fifty', '3.50'))\n",
    "\n",
    "assert is_lock_ness_monster(\"Your girlscout cookies are ready to ship. Your total comes to tree fiddy\") == True"
   ]
  }
 ],
 "metadata": {
  "kernelspec": {
   "display_name": "Python 3 (ipykernel)",
   "language": "python",
   "name": "python3"
  },
  "language_info": {
   "codemirror_mode": {
    "name": "ipython",
    "version": 3
   },
   "file_extension": ".py",
   "mimetype": "text/x-python",
   "name": "python",
   "nbconvert_exporter": "python",
   "pygments_lexer": "ipython3",
   "version": "3.9.7"
  }
 },
 "nbformat": 4,
 "nbformat_minor": 5
}
