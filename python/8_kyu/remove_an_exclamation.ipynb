{
 "cells": [
  {
   "cell_type": "markdown",
   "id": "3e05f7a0-d7f2-4a08-9790-ccb3c27dd8d0",
   "metadata": {},
   "source": [
    "Description:\n",
    "\n",
    "Remove an exclamation mark from the end of a string. For a beginner kata, you can assume that the input data is always a string, no need to verify it.\n",
    "\n",
    "Examples\n",
    "```\n",
    "remove(\"Hi!\") === \"Hi\"\n",
    "remove(\"Hi!!!\") === \"Hi!!\"\n",
    "remove(\"!Hi\") === \"!Hi\"\n",
    "remove(\"!Hi!\") === \"!Hi\"\n",
    "remove(\"Hi! Hi!\") === \"Hi! Hi\"\n",
    "remove(\"Hi\") === \"Hi\"\n",
    "```\n",
    "\n",
    "Sample Tests\n",
    "```python\n",
    "test.describe(\"Basic Tests\")\n",
    "\n",
    "tests = [\n",
    "    #[input, [expected]],\n",
    "    [\"Hi!\", \"Hi\"],\n",
    "    [\"Hi!!!\",\"Hi!!\"],\n",
    "    [\"!Hi\", \"!Hi\"],\n",
    "    [\"!Hi!\", \"!Hi\"],\n",
    "    [\"Hi! Hi!\", \"Hi! Hi\"],\n",
    "    [\"Hi\", \"Hi\"],\n",
    "]\n",
    "\n",
    "for inp, exp in tests:\n",
    "    test.assert_equals(remove(inp), exp)\n",
    "    \n",
    "```"
   ]
  },
  {
   "cell_type": "code",
   "execution_count": 1,
   "id": "00af24a4-ea20-48c3-8300-af423e59af93",
   "metadata": {},
   "outputs": [],
   "source": [
    "def remove(s):\n",
    "    return s[:-1] if not s[-1:].isalpha() else s"
   ]
  },
  {
   "cell_type": "markdown",
   "id": "129c28f9-e1ef-4866-b53b-8fbf1bca24e9",
   "metadata": {},
   "source": [
    "#### Remove all exclamation marks from the end of sentence."
   ]
  },
  {
   "cell_type": "code",
   "execution_count": 3,
   "id": "3d42f9c0-1d3e-4303-bc67-ee3462ac4f66",
   "metadata": {},
   "outputs": [],
   "source": [
    "def remove(s):\n",
    "    while s[-1] == \"!\":\n",
    "        s = s[:-1]\n",
    "    return s"
   ]
  },
  {
   "cell_type": "code",
   "execution_count": 4,
   "id": "c2b41e09-b1c1-4c62-9242-46c552804504",
   "metadata": {
    "tags": []
   },
   "outputs": [],
   "source": [
    "def remove(s):\n",
    "    return s.rstrip(\"!\")"
   ]
  },
  {
   "cell_type": "code",
   "execution_count": 6,
   "id": "f817ccc8-784d-4fa2-8c84-5c3d4a95f94b",
   "metadata": {},
   "outputs": [
    {
     "data": {
      "text/plain": [
       "{'A', 'a'}"
      ]
     },
     "execution_count": 6,
     "metadata": {},
     "output_type": "execute_result"
    }
   ],
   "source": [
    "set(\"aA\")"
   ]
  },
  {
   "cell_type": "markdown",
   "id": "117feff4-bd22-43c3-8ac1-c23a6f04274e",
   "metadata": {},
   "source": [
    "#### Replace all vowel to exclamation mark in the sentence. aeiouAEIOU is vowel."
   ]
  },
  {
   "cell_type": "code",
   "execution_count": 7,
   "id": "c914d90d-708d-47a4-b688-cefd9d10bace",
   "metadata": {},
   "outputs": [],
   "source": [
    "def replace_exclamation(s):\n",
    "    vowels = set(\"aeiouAEIOU\")\n",
    "    return \"\".join(\"!\" if i in vowels else i for i in s)"
   ]
  },
  {
   "cell_type": "code",
   "execution_count": 8,
   "id": "9d7b945f-412f-453c-bb04-b0ae2360246f",
   "metadata": {},
   "outputs": [],
   "source": [
    "def replace_exclamation(s):\n",
    "    return s.translate(str.maketrans('aeiouAEIOU', '!' * 10))"
   ]
  }
 ],
 "metadata": {
  "kernelspec": {
   "display_name": "Python 3 (ipykernel)",
   "language": "python",
   "name": "python3"
  },
  "language_info": {
   "codemirror_mode": {
    "name": "ipython",
    "version": 3
   },
   "file_extension": ".py",
   "mimetype": "text/x-python",
   "name": "python",
   "nbconvert_exporter": "python",
   "pygments_lexer": "ipython3",
   "version": "3.9.7"
  }
 },
 "nbformat": 4,
 "nbformat_minor": 5
}
