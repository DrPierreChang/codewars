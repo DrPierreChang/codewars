{
 "cells": [
  {
   "cell_type": "markdown",
   "id": "205c9e40-fb6c-4a16-b7d5-0cd6ed6eeca7",
   "metadata": {},
   "source": [
    "```\n",
    "Numbers ending with zeros are boring.\n",
    "\n",
    "They might be fun in your world, but not here.\n",
    "\n",
    "Get rid of them. Only the ending ones.\n",
    "\n",
    "1450 -> 145\n",
    "960000 -> 96\n",
    "1050 -> 105\n",
    "-1050 -> -105\n",
    "Zero alone is fine, don't worry about it. Poor guy anyway\n",
    "```"
   ]
  },
  {
   "cell_type": "code",
   "execution_count": null,
   "id": "c1f70ccb-e9cb-45e5-a69f-489fabca126f",
   "metadata": {},
   "outputs": [],
   "source": [
    "def no_boring_zeros(n):\n",
    "    while n and n % 10 == 0:\n",
    "        n /= 10\n",
    "    return n"
   ]
  },
  {
   "cell_type": "code",
   "execution_count": 1,
   "id": "9c07c9cf-d82d-4916-87af-eff8be76fdfb",
   "metadata": {},
   "outputs": [],
   "source": [
    "def no_boring_zeros(n):\n",
    "    try:\n",
    "        return int(str(n).rstrip('0'))\n",
    "    except ValueError:\n",
    "        return 0"
   ]
  }
 ],
 "metadata": {
  "kernelspec": {
   "display_name": "Python 3 (ipykernel)",
   "language": "python",
   "name": "python3"
  },
  "language_info": {
   "codemirror_mode": {
    "name": "ipython",
    "version": 3
   },
   "file_extension": ".py",
   "mimetype": "text/x-python",
   "name": "python",
   "nbconvert_exporter": "python",
   "pygments_lexer": "ipython3",
   "version": "3.9.7"
  }
 },
 "nbformat": 4,
 "nbformat_minor": 5
}
