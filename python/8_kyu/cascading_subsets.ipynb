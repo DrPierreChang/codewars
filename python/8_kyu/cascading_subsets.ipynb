{
 "cells": [
  {
   "cell_type": "markdown",
   "id": "8282e986-432b-4473-be06-22315202457a",
   "metadata": {},
   "source": [
    "Create a method each_cons that accepts a list and a number n, and returns cascading subsets of the list of size n, like so:\n",
    "\n",
    "each_cons([1,2,3,4], 2)\n",
    "  #=> [[1,2], [2,3], [3,4]]\n",
    "\n",
    "each_cons([1,2,3,4], 3)\n",
    "  #=> [[1,2,3],[2,3,4]]\n",
    "  \n",
    "As you can see, the lists are cascading; ie, they overlap, but never out of order.\n",
    "\n",
    "\n",
    "Sample Tests\n",
    "\n",
    "```python\n",
    "import codewars_test as test\n",
    "from solution import each_cons\n",
    "\n",
    "@test.describe(\"Test Cases\")\n",
    "def test_group():\n",
    "    lst = [3, 5, 8, 13]\n",
    "    @test.it('Should return cascading lists of 2 elements')\n",
    "    def test_case1():\n",
    "        test.assert_equals(each_cons(lst, 2), [[3,5], [5,8], [8,13]])\n",
    "```"
   ]
  },
  {
   "cell_type": "code",
   "execution_count": 85,
   "id": "95a4562e-b872-412b-96f6-47a822ca6215",
   "metadata": {},
   "outputs": [
    {
     "name": "stdout",
     "output_type": "stream",
     "text": [
      "[[3, 5], [5, 8], [8, 13]]\n"
     ]
    }
   ],
   "source": [
    "def each_cons(lst, n):\n",
    "    return [lst[i:i+n] for i, j in enumerate(lst[:-n+1] if n != 1 else lst)]\n",
    "        \n",
    "        \n",
    "print(each_cons([3, 5, 8, 13], 2))"
   ]
  }
 ],
 "metadata": {
  "kernelspec": {
   "display_name": "Python 3 (ipykernel)",
   "language": "python",
   "name": "python3"
  },
  "language_info": {
   "codemirror_mode": {
    "name": "ipython",
    "version": 3
   },
   "file_extension": ".py",
   "mimetype": "text/x-python",
   "name": "python",
   "nbconvert_exporter": "python",
   "pygments_lexer": "ipython3",
   "version": "3.9.7"
  }
 },
 "nbformat": 4,
 "nbformat_minor": 5
}
