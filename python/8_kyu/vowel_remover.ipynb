{
 "cells": [
  {
   "cell_type": "markdown",
   "id": "b0d9c285-b11b-42cf-ba3c-dc482197288a",
   "metadata": {},
   "source": [
    "Create a function called shortcut to remove all the lowercase vowels in a given string.\n",
    "\n",
    "Examples\n",
    "\n",
    "```\n",
    "\"hello\"     -->  \"hll\"\n",
    "\"codewars\"  -->  \"cdwrs\"\n",
    "\"goodbye\"   -->  \"gdby\"\n",
    "\"HELLO\"     -->  \"HELLO\"\n",
    "```\n",
    "\n",
    "Don't worry about uppercase vowels.\n",
    "\n"
   ]
  },
  {
   "cell_type": "code",
   "execution_count": 6,
   "id": "e1d9f4bb-4327-4ea6-93cf-65ff8047384d",
   "metadata": {},
   "outputs": [
    {
     "name": "stdout",
     "output_type": "stream",
     "text": [
      "cdwrs\n"
     ]
    }
   ],
   "source": [
    "def shortcut( s ):\n",
    "    return s.translate(str.maketrans({\"a\":\"\", \"e\":\"\", \"i\":\"\", \"o\":\"\", \"u\":\"\"}))\n",
    "\n",
    "print(shortcut(\"codewars\"))"
   ]
  }
 ],
 "metadata": {
  "kernelspec": {
   "display_name": "Python 3 (ipykernel)",
   "language": "python",
   "name": "python3"
  },
  "language_info": {
   "codemirror_mode": {
    "name": "ipython",
    "version": 3
   },
   "file_extension": ".py",
   "mimetype": "text/x-python",
   "name": "python",
   "nbconvert_exporter": "python",
   "pygments_lexer": "ipython3",
   "version": "3.9.7"
  }
 },
 "nbformat": 4,
 "nbformat_minor": 5
}
