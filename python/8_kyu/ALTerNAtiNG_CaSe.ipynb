{
 "cells": [
  {
   "cell_type": "markdown",
   "id": "11667d11-3008-4346-a648-a4c0b4e51aba",
   "metadata": {},
   "source": [
    "altERnaTIng cAsE <=> ALTerNAtiNG CaSe\n",
    "\n",
    "Define String.prototype.toAlternatingCase (or a similar function/method such as to_alternating_case/toAlternatingCase/ToAlternatingCase in your selected language; see the initial solution for details) such that each lowercase letter becomes uppercase and each uppercase letter becomes lowercase. For example:\n",
    "\n",
    "```\n",
    "\"hello world\".toAlternatingCase() === \"HELLO WORLD\"\n",
    "\"HELLO WORLD\".toAlternatingCase() === \"hello world\"\n",
    "\"hello WORLD\".toAlternatingCase() === \"HELLO world\"\n",
    "\"HeLLo WoRLD\".toAlternatingCase() === \"hEllO wOrld\"\n",
    "\"12345\".toAlternatingCase() === \"12345\" // Non-alphabetical characters are unaffected\n",
    "\"1a2b3c4d5e\".toAlternatingCase() === \"1A2B3C4D5E\"\n",
    "\"String.prototype.toAlternatingCase\".toAlternatingCase() === \"sTRING.PROTOTYPE.TOaLTERNATINGcASE\"\n",
    "```\n",
    "As usual, your function/method should be pure, i.e. it should not mutate the original string.\n",
    "\n",
    "Sample Test\n",
    "\n",
    "```python\n",
    "test.describe(\"Basic tests\")\n",
    "test.it(\"should work for fixed tests (provided in the description)\")\n",
    "test.assert_equals(to_alternating_case(\"hello world\"), \"HELLO WORLD\")\n",
    "test.assert_equals(to_alternating_case(\"HELLO WORLD\"), \"hello world\")\n",
    "test.assert_equals(to_alternating_case(\"hello WORLD\"), \"HELLO world\")\n",
    "test.assert_equals(to_alternating_case(\"HeLLo WoRLD\"), \"hEllO wOrld\")\n",
    "test.assert_equals(to_alternating_case(\"12345\"), \"12345\")\n",
    "test.assert_equals(to_alternating_case(\"1a2b3c4d5e\"), \"1A2B3C4D5E\")\n",
    "test.assert_equals(to_alternating_case(\"String.prototype.toAlternatingCase\"), \"sTRING.PROTOTYPE.TOaLTERNATINGcASE\")\n",
    "test.assert_equals(to_alternating_case(to_alternating_case(\"Hello World\")), \"Hello World\")\n",
    "test.it(\"should work for the title of this Kata\")\n",
    "title = \"altERnaTIng cAsE\"\n",
    "title = to_alternating_case(title)\n",
    "test.assert_equals(title, \"ALTerNAtiNG CaSe\")\n",
    "title = to_alternating_case(title)\n",
    "test.assert_equals(title, \"altERnaTIng cAsE\")\n",
    "title = to_alternating_case(title)\n",
    "test.assert_equals(title, \"ALTerNAtiNG CaSe\")\n",
    "title = to_alternating_case(title)\n",
    "test.assert_equals(title, \"altERnaTIng cAsE\")\n",
    "title = \"altERnaTIng cAsE <=> ALTerNAtiNG CaSe\"\n",
    "title = to_alternating_case(title)\n",
    "test.assert_equals(title, \"ALTerNAtiNG CaSe <=> altERnaTIng cAsE\")\n",
    "title = to_alternating_case(title)\n",
    "test.assert_equals(title, \"altERnaTIng cAsE <=> ALTerNAtiNG CaSe\")\n",
    "title = to_alternating_case(title)\n",
    "test.assert_equals(title, \"ALTerNAtiNG CaSe <=> altERnaTIng cAsE\")\n",
    "title = to_alternating_case(title)\n",
    "test.assert_equals(title, \"altERnaTIng cAsE <=> ALTerNAtiNG CaSe\")\n",
    "```\n",
    "\n",
    "References\n",
    "\n",
    "- [How can I change the case in Python to make upper case lower and vice versa](https://stackoverflow.com/questions/27231371/how-can-i-change-the-case-in-python-to-make-upper-case-lower-and-vice-versa)"
   ]
  },
  {
   "cell_type": "code",
   "execution_count": 1,
   "id": "1172f5c3-75b4-4b5a-ba2e-6063bf686992",
   "metadata": {},
   "outputs": [],
   "source": [
    "def to_alternating_case(string):\n",
    "    return string.swapcase()"
   ]
  }
 ],
 "metadata": {
  "kernelspec": {
   "display_name": "Python 3 (ipykernel)",
   "language": "python",
   "name": "python3"
  },
  "language_info": {
   "codemirror_mode": {
    "name": "ipython",
    "version": 3
   },
   "file_extension": ".py",
   "mimetype": "text/x-python",
   "name": "python",
   "nbconvert_exporter": "python",
   "pygments_lexer": "ipython3",
   "version": "3.9.7"
  }
 },
 "nbformat": 4,
 "nbformat_minor": 5
}
