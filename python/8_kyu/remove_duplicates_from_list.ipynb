{
 "cells": [
  {
   "cell_type": "markdown",
   "id": "7c0dec18-1f70-49c2-ab8c-aaf70edebfb2",
   "metadata": {},
   "source": [
    "Define a function that removes duplicates from an array of numbers and returns it as a result.\n",
    "\n",
    "The order of the sequence has to stay the same.\n",
    "\n",
    "Sample Tests\n",
    "\n",
    "```python\n",
    "import codewars_test as test\n",
    "from solution import distinct\n",
    "\n",
    "@test.describe(\"Fixed Tests\")\n",
    "def fixed_tests():\n",
    "    @test.it('Basic Test Cases')\n",
    "    def basic_test_cases():\n",
    "        test.assert_equals(distinct([1]), [1])\n",
    "        test.assert_equals(distinct([1, 2]), [1, 2])\n",
    "        test.assert_equals(distinct([1, 1, 2]), [1, 2])\n",
    "        test.assert_equals(distinct([1, 1, 1, 2, 3, 4, 5]), [1, 2, 3, 4, 5])\n",
    "        test.assert_equals(distinct([1, 2, 2, 3, 3, 4, 4, 5, 6, 7, 7, 7]), [1, 2, 3, 4, 5, 6, 7])\n",
    "```\n",
    "\n",
    "References\n",
    "\n",
    "- [Removing duplicates in lists](https://stackoverflow.com/questions/7961363/removing-duplicates-in-lists)"
   ]
  },
  {
   "cell_type": "code",
   "execution_count": 1,
   "id": "24577852-38fc-4087-ad15-e90282bc3b37",
   "metadata": {},
   "outputs": [],
   "source": [
    "def distinct(seq):\n",
    "    return list(dict.fromkeys(seq))"
   ]
  }
 ],
 "metadata": {
  "kernelspec": {
   "display_name": "Python 3 (ipykernel)",
   "language": "python",
   "name": "python3"
  },
  "language_info": {
   "codemirror_mode": {
    "name": "ipython",
    "version": 3
   },
   "file_extension": ".py",
   "mimetype": "text/x-python",
   "name": "python",
   "nbconvert_exporter": "python",
   "pygments_lexer": "ipython3",
   "version": "3.9.7"
  }
 },
 "nbformat": 4,
 "nbformat_minor": 5
}
