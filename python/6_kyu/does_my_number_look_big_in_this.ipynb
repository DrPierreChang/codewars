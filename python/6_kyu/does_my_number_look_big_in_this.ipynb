{
 "cells": [
  {
   "cell_type": "markdown",
   "id": "f2544352-fb58-4eaf-857a-7b5a93ef26c4",
   "metadata": {},
   "source": [
    "A Narcissistic Number is a positive number which is the sum of its own digits, each raised to the power of the number of digits in a given base.\n",
    "\n",
    "In this Kata, we will restrict ourselves to decimal (base 10).\n",
    "\n",
    "For example, take 153 (3 digits), which is narcisstic:\n",
    "```\n",
    "1^3 + 5^3 + 3^3 = 1 + 125 + 27 = 153\n",
    "```\n",
    "and 1652 (4 digits), which isn't:\n",
    "```\n",
    "1^4 + 6^4 + 5^4 + 2^4 = 1 + 1296 + 625 + 16 = 1938\n",
    "```\n",
    "\n",
    "The Challenge:\n",
    "\n",
    "Your code must return true or false (not 'true' and 'false') depending upon whether the given number is a Narcissistic number in base 10. This may be True and False in your language, e.g. PHP.\n",
    "\n",
    "Error checking for text strings or other invalid inputs is not required, only valid positive non-zero integers will be passed into the function.\n",
    "\n",
    "\n",
    "Sample Tests\n",
    "\n",
    "```python\n",
    "test.assert_equals(narcissistic(7), True, '7 is narcissistic');\n",
    "test.assert_equals(narcissistic(371), True, '371 is narcissistic');\n",
    "test.assert_equals(narcissistic(122), False, '122 is not narcissistic')\n",
    "test.assert_equals(narcissistic(4887), False, '4887 is not narcissistic')\n",
    "```"
   ]
  },
  {
   "cell_type": "code",
   "execution_count": 40,
   "id": "75625214-8875-49c5-bc4b-03c7f62ecbc9",
   "metadata": {},
   "outputs": [
    {
     "name": "stdout",
     "output_type": "stream",
     "text": [
      "False\n",
      "True\n"
     ]
    }
   ],
   "source": [
    "def narcissistic( value ):\n",
    "    return value == sum(int(item) ** len(str(value)) for item in str(value))\n",
    "\n",
    "print(narcissistic(122))\n",
    "print(narcissistic(371))"
   ]
  },
  {
   "cell_type": "code",
   "execution_count": 39,
   "id": "551ab348-a2e6-4260-9946-d32e52b6bb1d",
   "metadata": {},
   "outputs": [
    {
     "name": "stdout",
     "output_type": "stream",
     "text": [
      "False\n",
      "True\n"
     ]
    }
   ],
   "source": [
    "def narcissistic( value ):\n",
    "    value = str(value)\n",
    "    length = len(value)\n",
    "    return int(value) == sum(int(item) ** length for item in value)\n",
    "\n",
    "print(narcissistic(122))\n",
    "print(narcissistic(371))"
   ]
  }
 ],
 "metadata": {
  "kernelspec": {
   "display_name": "Python 3 (ipykernel)",
   "language": "python",
   "name": "python3"
  },
  "language_info": {
   "codemirror_mode": {
    "name": "ipython",
    "version": 3
   },
   "file_extension": ".py",
   "mimetype": "text/x-python",
   "name": "python",
   "nbconvert_exporter": "python",
   "pygments_lexer": "ipython3",
   "version": "3.9.7"
  }
 },
 "nbformat": 4,
 "nbformat_minor": 5
}
