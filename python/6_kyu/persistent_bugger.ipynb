{
 "cells": [
  {
   "cell_type": "markdown",
   "id": "9f4325b9",
   "metadata": {},
   "source": [
    "Write a function, persistence, that takes in a positive parameter num and returns its multiplicative persistence, which is the number of times you must multiply the digits in num until you reach a single digit.\n",
    "\n",
    "For example:\n",
    "\n",
    "```python\n",
    "\n",
    "  persistence(39) # returns 3, because 3*9=27, 2*7=14, 1*4=4\n",
    "                 # and 4 has only one digit\n",
    "                  \n",
    "  persistence(999) # returns 4, because 9*9*9=729, 7*2*9=126,\n",
    "                  # 1*2*6=12, and finally 1*2=2\n",
    "\n",
    "  persistence(4) # returns 0, because 4 is already a one-digit number\n",
    "```\n",
    "\n",
    "Sample Tests\n",
    "\n",
    "```python\n",
    "test.it(\"Basic tests\")\n",
    "test.assert_equals(persistence(39), 3)\n",
    "test.assert_equals(persistence(4), 0)\n",
    "test.assert_equals(persistence(25), 2)\n",
    "test.assert_equals(persistence(999), 4)\n",
    "```\n",
    "\n",
    "Materials:\n",
    "\n",
    "- [How can I multiply all items in a list together with Python?](\n",
    "https://stackoverflow.com/questions/13840379/how-can-i-multiply-all-items-in-a-list-together-with-python)"
   ]
  },
  {
   "cell_type": "code",
   "execution_count": 66,
   "id": "4bee2317",
   "metadata": {},
   "outputs": [
    {
     "name": "stdout",
     "output_type": "stream",
     "text": [
      "4\n"
     ]
    }
   ],
   "source": [
    "def persistence(n):\n",
    "    cnt = 0\n",
    "    while n > 9:\n",
    "        product = 1\n",
    "        for i in (j for j in str(n)):\n",
    "            product *= int(i)\n",
    "        n = product\n",
    "        cnt += 1\n",
    "        \n",
    "    return cnt\n",
    "\n",
    "print(persistence(999))"
   ]
  },
  {
   "cell_type": "code",
   "execution_count": 67,
   "id": "797b6c37",
   "metadata": {},
   "outputs": [],
   "source": [
    "# import operator\n",
    "# def persistence(n):\n",
    "#     i = 0\n",
    "#     while n>=10:\n",
    "#         n=reduce(operator.mul,[int(x) for x in str(n)],1)\n",
    "#         i+=1\n",
    "#     return i"
   ]
  }
 ],
 "metadata": {
  "kernelspec": {
   "display_name": "Python 3 (ipykernel)",
   "language": "python",
   "name": "python3"
  },
  "language_info": {
   "codemirror_mode": {
    "name": "ipython",
    "version": 3
   },
   "file_extension": ".py",
   "mimetype": "text/x-python",
   "name": "python",
   "nbconvert_exporter": "python",
   "pygments_lexer": "ipython3",
   "version": "3.9.7"
  }
 },
 "nbformat": 4,
 "nbformat_minor": 5
}
