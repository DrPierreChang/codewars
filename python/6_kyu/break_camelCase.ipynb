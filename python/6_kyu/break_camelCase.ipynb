{
 "cells": [
  {
   "cell_type": "markdown",
   "id": "c80e8071-862d-4bd8-9859-21f6b6464dc6",
   "metadata": {},
   "source": [
    "Complete the solution so that the function will break up camel casing, using a space between words.\n",
    "\n",
    "Example\n",
    "```\n",
    "\"camelCasing\"  =>  \"camel Casing\"\n",
    "\"identifier\"   =>  \"identifier\"\n",
    "\"\"             =>  \"\"\n",
    "\n",
    "```\n",
    "\n",
    "Sample Tests \n",
    "\n",
    "```python\n",
    "test.assert_equals(solution(\"helloWorld\"), \"hello World\")\n",
    "test.assert_equals(solution(\"camelCase\"), \"camel Case\")\n",
    "test.assert_equals(solution(\"breakCamelCase\"), \"break Camel Case\")\n",
    "```\n",
    "\n",
    "References\n",
    "\n",
    "- [Split a string at uppercase letters](https://stackoverflow.com/questions/2277352/split-a-string-at-uppercase-letters)"
   ]
  },
  {
   "cell_type": "code",
   "execution_count": 5,
   "id": "55e94a33-6f3e-451a-b4ef-a221f459334d",
   "metadata": {},
   "outputs": [
    {
     "name": "stdout",
     "output_type": "stream",
     "text": [
      "break Camel Case\n"
     ]
    }
   ],
   "source": [
    "import re\n",
    "\n",
    "def solution(s):\n",
    "    return \" \".join(re.split('(?=[A-Z])', s))\n",
    "\n",
    "print(solution(\"breakCamelCase\"))"
   ]
  },
  {
   "cell_type": "code",
   "execution_count": 3,
   "id": "d60070e8-250b-4f2a-ae3f-9a2c37bff182",
   "metadata": {},
   "outputs": [
    {
     "name": "stdout",
     "output_type": "stream",
     "text": [
      "break Camel Case\n"
     ]
    }
   ],
   "source": [
    "def solution(s):\n",
    "    return ''.join(f' {c}' if c.isupper() else c for c in s)\n",
    "\n",
    "print(solution(\"breakCamelCase\"))"
   ]
  }
 ],
 "metadata": {
  "kernelspec": {
   "display_name": "Python 3 (ipykernel)",
   "language": "python",
   "name": "python3"
  },
  "language_info": {
   "codemirror_mode": {
    "name": "ipython",
    "version": 3
   },
   "file_extension": ".py",
   "mimetype": "text/x-python",
   "name": "python",
   "nbconvert_exporter": "python",
   "pygments_lexer": "ipython3",
   "version": "3.9.7"
  }
 },
 "nbformat": 4,
 "nbformat_minor": 5
}
