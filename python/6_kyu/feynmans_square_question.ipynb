{
 "cells": [
  {
   "attachments": {
    "3b4a7e19-70e1-4789-a8d1-1e4637d9cd72.png": {
     "image/png": "[encoded data removed]"
    },
    "d23f2f58-55bd-4949-ae86-cda4020e0570.png": {
     "image/png": "[encoded data removed]"
    }
   },
   "cell_type": "markdown",
   "id": "32906de7-611f-4171-a2e2-0b5f2f816a08",
   "metadata": {},
   "source": [
    "Feynman's squares\n",
    "\n",
    "Richard Phillips Feynman was a well-known American physicist and a recipient of the Nobel Prize in Physics. He worked in theoretical physics and pioneered the field of quantum computing.\n",
    "\n",
    "Recently, an old farmer found some papers and notes that are believed to have belonged to Feynman. Among notes about mesons and electromagnetism, there was a napkin where he wrote a simple puzzle: \"how many different squares are there in a grid of NxN squares?\".\n",
    "\n",
    "For example, when N=2, the answer is 5: the 2x2 square itself, plus the four 1x1 squares in its corners:\n",
    "\n",
    "![image.png](attachment:3b4a7e19-70e1-4789-a8d1-1e4637d9cd72.png)![image.png](attachment:d23f2f58-55bd-4949-ae86-cda4020e0570.png)\n",
    "\n",
    "Task\n",
    "\n",
    "Complete the function that solves Feynman's question in general. The input to your function will always be a positive integer.\n",
    "\n",
    "Examples\n",
    "1  -->   1\n",
    "2  -->   5\n",
    "3  -->  14\n",
    "\n",
    "Sample Tests\n",
    "\n",
    "```python\n",
    "import codewars_test as test\n",
    "from solution import count_squares\n",
    "\n",
    "@test.describe( \"Sample tests\")\n",
    "def tests():\n",
    "    @test.it(\"Some examples\")\n",
    "    def tests():\n",
    "        test.assert_equals(count_squares(1),  1)\n",
    "        test.assert_equals(count_squares(2),  5)\n",
    "        test.assert_equals(count_squares(3),  14)\n",
    "        test.assert_equals(count_squares(5),  55)\n",
    "        test.assert_equals(count_squares(8),  204)\n",
    "        test.assert_equals(count_squares(15), 1240)\n",
    "```\n",
    "\n",
    "\n",
    "References\n",
    "\n",
    "- [Сумма квадратов натуральных чисел](https://m.youtube.com/watch?v=0FaAJH-qZog)"
   ]
  },
  {
   "cell_type": "code",
   "execution_count": 1,
   "id": "136aca8d-ce72-4312-abe3-ed747c027995",
   "metadata": {},
   "outputs": [],
   "source": [
    "def count_squares(n):\n",
    "    return (n * (n+1)*(2 * n+1)) // 6"
   ]
  }
 ],
 "metadata": {
  "kernelspec": {
   "display_name": "Python 3 (ipykernel)",
   "language": "python",
   "name": "python3"
  },
  "language_info": {
   "codemirror_mode": {
    "name": "ipython",
    "version": 3
   },
   "file_extension": ".py",
   "mimetype": "text/x-python",
   "name": "python",
   "nbconvert_exporter": "python",
   "pygments_lexer": "ipython3",
   "version": "3.9.7"
  }
 },
 "nbformat": 4,
 "nbformat_minor": 5
}
